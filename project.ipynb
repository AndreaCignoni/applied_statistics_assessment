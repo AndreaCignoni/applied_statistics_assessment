{
 "cells": [
  {
   "cell_type": "markdown",
   "metadata": {},
   "source": [
    "#<h1 style=\"text-align:center;\">PlantGrowth R Dataset Analysis</h1>  \n",
    "\n",
    "---"
   ]
  },
  {
   "cell_type": "markdown",
   "metadata": {},
   "source": [
    "![image](img/plant_growth.webp)"
   ]
  },
  {
   "cell_type": "markdown",
   "metadata": {},
   "source": [
    "The Plant Growth dataset, originally presented in Dobson, A. J. (1983) *An Introduction to Statistical Modelling* (London: Chapman and Hall), consists of dried plant weight measurements divided into three groups, each with 10 observations. The first group, labeled ctrl (control), represents the yield of plants grown under normal conditions and serves as the baseline or “before” sample. The second and third groups, labeled trt1 and trt2 (treatment 1 and treatment 2), represent the yields of plants subjected to two distinct treatments, which can be considered “after” samples.\n",
    "\n",
    "This dataset provides a foundation for evaluating the impact of experimental treatments on plant growth. By comparing the dried weights among these groups, it is possible to assess the relative effectiveness of the treatments using statistical methods such as t-tests and analysis of variance (ANOVA). As a teaching example, the dataset illustrates concepts in experimental design and hypothesis testing, making it a valuable tool in statistical education and research."
   ]
  },
  {
   "cell_type": "markdown",
   "metadata": {},
   "source": [
    "As a first step in analyzing the results of the treatments represented by the 'after' samples, we will compare their means with the corresponding 'before' baseline. The t-test is particularly appropriate for assessing whether the differences observed are statistically significant or merely due to chance. However, before conducting the comparisons, it is necessary to verify the assumptions of normality and independence of the paired samples to ensure the validity of the results. The labraries that we are going to utilise for the present study will be the followings:\n",
    "\n",
    "1. **math**:\n",
    "   - The `math` library provides a set of mathematical functions such as logarithms, square roots, trigonometric functions, and constants (e.g., π). It's essential for carrying out basic mathematical operations, expecially for statistical calculations, and including any other type numerical analyses.\n",
    "\n",
    "2. **random**:\n",
    "   - The `random` library allows for random selections, which is necessary when dealing with sampling methods, such as simulating datasets, shuffling data, or generating random variables. It will be helpful for tasks like creating random samples from distributions or testing hypothesis.\n",
    "\n",
    "3. **csv**:\n",
    "   - The `csv` module is lightweight, efficient, and suitable for most CSV-related tasks, though for more complex cases (e.g., larger datasets), pandas may be a more powerful alternative.\n",
    "\n",
    "4. **numpy**:\n",
    "   - `numpy` is a core library for numerical computing in Python. It provides support for arrays and matrices, along with a vast range of mathematical functions for numerical operations. `numpy` is crucial for generating random data, performing array manipulations, and applying advanced mathematical functions—particularly when working with large datasets and statistical distributions, such as the normal distribution.\n",
    "   \n",
    "5. **matplotlib,pyplot**:\n",
    "   - `matplotlib.pyplot` is a plotting library used to create static, animated, and interactive visualizations in Python. It is essential for graphing data distributions,  such as visualizing the normal distribution or plotting results from hypothesis tests like the t-test or ANOVA. Visualizations are key to interpreting and presenting data clearly.\n",
    "\n",
    "6. **scipy.stats**:\n",
    "   - `scipy.stats` is a submodule of the `scipy` library that provides a comprehensive range of statistical functions. It includes tools for hypothesis testing, probability distributions, and statistical tests, such as the t-test and ANOVA. This library is vital for performing rigorous statistical analysis and hypothesis testing in the assignment.\n",
    "\n",
    "7. **statsmodels**:\n",
    "   - `statsmodels` is a library for statistical modeling, which includes tools for performing regression analysis, hypothesis testing, and statistical inference. It's useful for more advanced statistical models and tests that go beyond basic functions. This library will be beneficial when applying more complex statistical methods, like ANOVA or regression models.\n",
    "\n",
    "8. **pandas**:\n",
    "   - `pandas` is a powerful library for data manipulation and analysis, offering data structures like DataFrames and Series for handling structured data efficiently. It provides functions to clean, transform, and explore datasets, making it easier to preprocess data for statistical analysis or machine learning tasks. The library integrates well with other libraries like statsmodels and numpy, serving as a foundation for managing data in preparation for more advanced analyses.  \n",
    "\n",
    "9. **seaborn**:\n",
    "   - `seaborn` is a Python data visualization library built on top of Matplotlib. It provides a high-level interface for creating attractive and informative statistical graphics. Seaborn simplifies complex visualizations like heatmaps, violin plots, and pair plots, making it ideal for exploring and presenting data. It integrates well with pandas for handling DataFrames and offers built-in themes and color palettes to enhance the visual appeal of plots."
   ]
  },
  {
   "cell_type": "code",
   "execution_count": 33,
   "metadata": {},
   "outputs": [],
   "source": [
    "# Mathematical functions from the standard library.\n",
    "# https://docs.python.org/3/library/math.html#module-math\n",
    "import math\n",
    "\n",
    "# Random selections.\n",
    "# https://docs.python.org/3/library/random.html#module-random\n",
    "import random\n",
    "\n",
    "# CSV format data reading \n",
    "import csv\n",
    "\n",
    "# Numerical structures and operations.\n",
    "# https://numpy.org/devdocs/reference/index.html#numpy-reference\n",
    "import numpy as np\n",
    "\n",
    "# Plotting.\n",
    "# https://matplotlib.org/stable/contents.html\n",
    "import matplotlib.pyplot as plt\n",
    "\n",
    "# Statistics.\n",
    "import scipy.stats as stats\n",
    "\n",
    "# Statistical models.\n",
    "import statsmodels as sm\n",
    "\n",
    "# Mathematical functions.\n",
    "import math\n",
    "\n",
    "# Data manipulation.\n",
    "import pandas as pd\n",
    "\n",
    "# Statistical plots.\n",
    "import seaborn as sns"
   ]
  },
  {
   "cell_type": "markdown",
   "metadata": {},
   "source": [
    "### Data Presentation\n",
    "\n",
    "The **PlantGrowth R Dataset** was downloaded in CSV format and consists of 30 cases with 2 variables:\n",
    "\n",
    "`weight`: A numeric variable representing the weights of the plants.\n",
    "`group`: A categorical variable that divides the data into three groups: `ctrl`, `trt1`, and `trt2`."
   ]
  },
  {
   "cell_type": "code",
   "execution_count": null,
   "metadata": {},
   "outputs": [
    {
     "name": "stdout",
     "output_type": "stream",
     "text": [
      "['rownames', 'weight', 'group']\n",
      "['1', '4.17', 'ctrl']\n",
      "['2', '5.58', 'ctrl']\n",
      "['3', '5.18', 'ctrl']\n",
      "['4', '6.11', 'ctrl']\n",
      "['5', '4.5', 'ctrl']\n",
      "['6', '4.61', 'ctrl']\n",
      "['7', '5.17', 'ctrl']\n",
      "['8', '4.53', 'ctrl']\n",
      "['9', '5.33', 'ctrl']\n",
      "['10', '5.14', 'ctrl']\n",
      "['11', '4.81', 'trt1']\n",
      "['12', '4.17', 'trt1']\n",
      "['13', '4.41', 'trt1']\n",
      "['14', '3.59', 'trt1']\n",
      "['15', '5.87', 'trt1']\n",
      "['16', '3.83', 'trt1']\n",
      "['17', '6.03', 'trt1']\n",
      "['18', '4.89', 'trt1']\n",
      "['19', '4.32', 'trt1']\n",
      "['20', '4.69', 'trt1']\n",
      "['21', '6.31', 'trt2']\n",
      "['22', '5.12', 'trt2']\n",
      "['23', '5.54', 'trt2']\n",
      "['24', '5.5', 'trt2']\n",
      "['25', '5.37', 'trt2']\n",
      "['26', '5.29', 'trt2']\n",
      "['27', '4.92', 'trt2']\n",
      "['28', '6.15', 'trt2']\n",
      "['29', '5.8', 'trt2']\n",
      "['30', '5.26', 'trt2']\n"
     ]
    }
   ],
   "source": [
    "# Open the CSF file.\n",
    "with open('data/plant_growth_r.csv', mode='r') as file:\n",
    "    reader = csv.reader(file)\n",
    "    for row in reader:\n",
    "        print(row)\n"
   ]
  },
  {
   "cell_type": "markdown",
   "metadata": {},
   "source": [
    "To better understand the data and facilitate value manipulation, we will create a DataFrame named `group_df`. "
   ]
  },
  {
   "cell_type": "code",
   "execution_count": 19,
   "metadata": {},
   "outputs": [
    {
     "data": {
      "text/html": [
       "<div>\n",
       "<style scoped>\n",
       "    .dataframe tbody tr th:only-of-type {\n",
       "        vertical-align: middle;\n",
       "    }\n",
       "\n",
       "    .dataframe tbody tr th {\n",
       "        vertical-align: top;\n",
       "    }\n",
       "\n",
       "    .dataframe thead th {\n",
       "        text-align: right;\n",
       "    }\n",
       "</style>\n",
       "<table border=\"1\" class=\"dataframe\">\n",
       "  <thead>\n",
       "    <tr style=\"text-align: right;\">\n",
       "      <th></th>\n",
       "      <th>weight</th>\n",
       "      <th>group</th>\n",
       "    </tr>\n",
       "  </thead>\n",
       "  <tbody>\n",
       "    <tr>\n",
       "      <th>0</th>\n",
       "      <td>4.17</td>\n",
       "      <td>ctrl</td>\n",
       "    </tr>\n",
       "    <tr>\n",
       "      <th>1</th>\n",
       "      <td>5.58</td>\n",
       "      <td>ctrl</td>\n",
       "    </tr>\n",
       "    <tr>\n",
       "      <th>2</th>\n",
       "      <td>5.18</td>\n",
       "      <td>ctrl</td>\n",
       "    </tr>\n",
       "    <tr>\n",
       "      <th>3</th>\n",
       "      <td>6.11</td>\n",
       "      <td>ctrl</td>\n",
       "    </tr>\n",
       "    <tr>\n",
       "      <th>4</th>\n",
       "      <td>4.50</td>\n",
       "      <td>ctrl</td>\n",
       "    </tr>\n",
       "    <tr>\n",
       "      <th>5</th>\n",
       "      <td>4.61</td>\n",
       "      <td>ctrl</td>\n",
       "    </tr>\n",
       "    <tr>\n",
       "      <th>6</th>\n",
       "      <td>5.17</td>\n",
       "      <td>ctrl</td>\n",
       "    </tr>\n",
       "    <tr>\n",
       "      <th>7</th>\n",
       "      <td>4.53</td>\n",
       "      <td>ctrl</td>\n",
       "    </tr>\n",
       "    <tr>\n",
       "      <th>8</th>\n",
       "      <td>5.33</td>\n",
       "      <td>ctrl</td>\n",
       "    </tr>\n",
       "    <tr>\n",
       "      <th>9</th>\n",
       "      <td>5.14</td>\n",
       "      <td>ctrl</td>\n",
       "    </tr>\n",
       "    <tr>\n",
       "      <th>10</th>\n",
       "      <td>4.81</td>\n",
       "      <td>trt1</td>\n",
       "    </tr>\n",
       "    <tr>\n",
       "      <th>11</th>\n",
       "      <td>4.17</td>\n",
       "      <td>trt1</td>\n",
       "    </tr>\n",
       "    <tr>\n",
       "      <th>12</th>\n",
       "      <td>4.41</td>\n",
       "      <td>trt1</td>\n",
       "    </tr>\n",
       "    <tr>\n",
       "      <th>13</th>\n",
       "      <td>3.59</td>\n",
       "      <td>trt1</td>\n",
       "    </tr>\n",
       "    <tr>\n",
       "      <th>14</th>\n",
       "      <td>5.87</td>\n",
       "      <td>trt1</td>\n",
       "    </tr>\n",
       "    <tr>\n",
       "      <th>15</th>\n",
       "      <td>3.83</td>\n",
       "      <td>trt1</td>\n",
       "    </tr>\n",
       "    <tr>\n",
       "      <th>16</th>\n",
       "      <td>6.03</td>\n",
       "      <td>trt1</td>\n",
       "    </tr>\n",
       "    <tr>\n",
       "      <th>17</th>\n",
       "      <td>4.89</td>\n",
       "      <td>trt1</td>\n",
       "    </tr>\n",
       "    <tr>\n",
       "      <th>18</th>\n",
       "      <td>4.32</td>\n",
       "      <td>trt1</td>\n",
       "    </tr>\n",
       "    <tr>\n",
       "      <th>19</th>\n",
       "      <td>4.69</td>\n",
       "      <td>trt1</td>\n",
       "    </tr>\n",
       "    <tr>\n",
       "      <th>20</th>\n",
       "      <td>6.31</td>\n",
       "      <td>trt2</td>\n",
       "    </tr>\n",
       "    <tr>\n",
       "      <th>21</th>\n",
       "      <td>5.12</td>\n",
       "      <td>trt2</td>\n",
       "    </tr>\n",
       "    <tr>\n",
       "      <th>22</th>\n",
       "      <td>5.54</td>\n",
       "      <td>trt2</td>\n",
       "    </tr>\n",
       "    <tr>\n",
       "      <th>23</th>\n",
       "      <td>5.50</td>\n",
       "      <td>trt2</td>\n",
       "    </tr>\n",
       "    <tr>\n",
       "      <th>24</th>\n",
       "      <td>5.37</td>\n",
       "      <td>trt2</td>\n",
       "    </tr>\n",
       "    <tr>\n",
       "      <th>25</th>\n",
       "      <td>5.29</td>\n",
       "      <td>trt2</td>\n",
       "    </tr>\n",
       "    <tr>\n",
       "      <th>26</th>\n",
       "      <td>4.92</td>\n",
       "      <td>trt2</td>\n",
       "    </tr>\n",
       "    <tr>\n",
       "      <th>27</th>\n",
       "      <td>6.15</td>\n",
       "      <td>trt2</td>\n",
       "    </tr>\n",
       "    <tr>\n",
       "      <th>28</th>\n",
       "      <td>5.80</td>\n",
       "      <td>trt2</td>\n",
       "    </tr>\n",
       "    <tr>\n",
       "      <th>29</th>\n",
       "      <td>5.26</td>\n",
       "      <td>trt2</td>\n",
       "    </tr>\n",
       "  </tbody>\n",
       "</table>\n",
       "</div>"
      ],
      "text/plain": [
       "    weight group\n",
       "0     4.17  ctrl\n",
       "1     5.58  ctrl\n",
       "2     5.18  ctrl\n",
       "3     6.11  ctrl\n",
       "4     4.50  ctrl\n",
       "5     4.61  ctrl\n",
       "6     5.17  ctrl\n",
       "7     4.53  ctrl\n",
       "8     5.33  ctrl\n",
       "9     5.14  ctrl\n",
       "10    4.81  trt1\n",
       "11    4.17  trt1\n",
       "12    4.41  trt1\n",
       "13    3.59  trt1\n",
       "14    5.87  trt1\n",
       "15    3.83  trt1\n",
       "16    6.03  trt1\n",
       "17    4.89  trt1\n",
       "18    4.32  trt1\n",
       "19    4.69  trt1\n",
       "20    6.31  trt2\n",
       "21    5.12  trt2\n",
       "22    5.54  trt2\n",
       "23    5.50  trt2\n",
       "24    5.37  trt2\n",
       "25    5.29  trt2\n",
       "26    4.92  trt2\n",
       "27    6.15  trt2\n",
       "28    5.80  trt2\n",
       "29    5.26  trt2"
      ]
     },
     "execution_count": 19,
     "metadata": {},
     "output_type": "execute_result"
    }
   ],
   "source": [
    "# Create a DataFrame.\n",
    "group_df = pd.read_csv('/Users/andreacignoni/Desktop/Scrivania - Mac mini di Andrea/Repos/applied_statistics_assessment/data/plant_growth_r.csv')\n",
    "\n",
    "# Eliminate the 'rownames' column.\n",
    "group_df = group_df.drop(columns=['rownames'])\n",
    "\n",
    "# Show.\n",
    "group_df"
   ]
  },
  {
   "cell_type": "code",
   "execution_count": null,
   "metadata": {},
   "outputs": [
    {
     "data": {
      "text/html": [
       "<div>\n",
       "<style scoped>\n",
       "    .dataframe tbody tr th:only-of-type {\n",
       "        vertical-align: middle;\n",
       "    }\n",
       "\n",
       "    .dataframe tbody tr th {\n",
       "        vertical-align: top;\n",
       "    }\n",
       "\n",
       "    .dataframe thead th {\n",
       "        text-align: right;\n",
       "    }\n",
       "</style>\n",
       "<table border=\"1\" class=\"dataframe\">\n",
       "  <thead>\n",
       "    <tr style=\"text-align: right;\">\n",
       "      <th></th>\n",
       "      <th>weight</th>\n",
       "    </tr>\n",
       "  </thead>\n",
       "  <tbody>\n",
       "    <tr>\n",
       "      <th>count</th>\n",
       "      <td>30.000000</td>\n",
       "    </tr>\n",
       "    <tr>\n",
       "      <th>mean</th>\n",
       "      <td>5.073000</td>\n",
       "    </tr>\n",
       "    <tr>\n",
       "      <th>std</th>\n",
       "      <td>0.701192</td>\n",
       "    </tr>\n",
       "    <tr>\n",
       "      <th>min</th>\n",
       "      <td>3.590000</td>\n",
       "    </tr>\n",
       "    <tr>\n",
       "      <th>25%</th>\n",
       "      <td>4.550000</td>\n",
       "    </tr>\n",
       "    <tr>\n",
       "      <th>50%</th>\n",
       "      <td>5.155000</td>\n",
       "    </tr>\n",
       "    <tr>\n",
       "      <th>75%</th>\n",
       "      <td>5.530000</td>\n",
       "    </tr>\n",
       "    <tr>\n",
       "      <th>max</th>\n",
       "      <td>6.310000</td>\n",
       "    </tr>\n",
       "  </tbody>\n",
       "</table>\n",
       "</div>"
      ],
      "text/plain": [
       "          weight\n",
       "count  30.000000\n",
       "mean    5.073000\n",
       "std     0.701192\n",
       "min     3.590000\n",
       "25%     4.550000\n",
       "50%     5.155000\n",
       "75%     5.530000\n",
       "max     6.310000"
      ]
     },
     "execution_count": 16,
     "metadata": {},
     "output_type": "execute_result"
    }
   ],
   "source": [
    "# Show basic statistics for numeric columns.\n",
    "group_df.describe()"
   ]
  },
  {
   "cell_type": "markdown",
   "metadata": {},
   "source": [
    "Once the DataFrame is created and we have given a general overview of the information we are examining, the data will be divided into three groups: the \"before\" yield weights and the two \"after\" yield weights."
   ]
  },
  {
   "cell_type": "code",
   "execution_count": 24,
   "metadata": {},
   "outputs": [
    {
     "name": "stdout",
     "output_type": "stream",
     "text": [
      "Baseline mean: 5.031999999999999\n",
      "Treatment 1 mean: 4.661\n",
      "Treatment 2 mean: 5.526\n"
     ]
    }
   ],
   "source": [
    "# Forming three groups\n",
    "weight_baseline = group_df['weight'][:10]\n",
    "weight_trt1 = group_df['weight'][10:20]\n",
    "weight_trt2 = group_df['weight'][20:30]\n",
    "\n",
    "# Single group mean calculation.\n",
    "mean_baseline = weight_baseline.mean()\n",
    "mean_trt1 = weight_trt1.mean()\n",
    "mean_trt2 = weight_trt2.mean()\n",
    "\n",
    "print(\"Baseline mean:\", mean_baseline)\n",
    "print(\"Treatment 1 mean:\", mean_trt1)\n",
    "print(\"Treatment 2 mean:\", mean_trt2)"
   ]
  },
  {
   "cell_type": "markdown",
   "metadata": {},
   "source": [
    "From these means, it appears that the average yield weight for Treatment 1 is lower than the baseline, while Treatment 2 has a higher average yield weight compared to the baseline. While manually computing the means provides a snapshot of the differences, it does not tell us whether these differences are statistically significant or if they could have occurred by random chance. the mean for Treatment 2 (5.526) is higher than the Baseline mean (5.032), it’s possible that the observed difference is due to random variation. Similarly, the lower mean for Treatment 1 (4.661) might not be statistically significant if the data has high variability.\n",
    "\n",
    "A t-test is necessary because:  \n",
    "\n",
    "=> Means alone do not consider the variability (spread) of data within each group. Even if the means differ, overlapping variances might indicate no significant difference. \n",
    "\n",
    "=> A t-test allows us to formally test the null hypothesis (that the group means are equal) against the alternative hypothesis (that there is a significant difference in means).  \n",
    "\n",
    "=> A t-test provides a p-value, which helps determine whether the observed differences are statistically significant based on a chosen significance level (e.g., 0.05).  \n",
    "\n",
    "=> The t-test considers the size of the samples. Smaller samples require stronger evidence to conclude significant differences, whereas manual comparison cannot adjust for this.  \n",
    "\n",
    "=> Visual or manual comparisons of means can be misleading or subjective. The t-test provides an objective mathematical approach to assess differences."
   ]
  },
  {
   "cell_type": "markdown",
   "metadata": {
    "vscode": {
     "languageId": "plaintext"
    }
   },
   "source": [
    "### Assumptions"
   ]
  },
  {
   "cell_type": "markdown",
   "metadata": {},
   "source": [
    "To assess the validity of the t-test, it is necessary to verify that the differences between the paired observations are approximately normally distributed and that the two pairs of variables, `weight_baseline` - `weight_trt1` and `weight_baseline` - `weight_trt2`, are independent of each other.\n",
    "\n",
    "**ASSUMPTION NO1: Normally distributed data**  \n",
    "\n",
    "To check if the difference between the paired observations is approximately normally distributed, we can again plot the values as histograms and create an x range for the probability density function to see if its curve is bell shaped and visually ressemble."
   ]
  },
  {
   "cell_type": "code",
   "execution_count": 31,
   "metadata": {},
   "outputs": [
    {
     "data": {
      "text/plain": [
       "(array([-0.64,  1.41,  0.77,  2.52, -1.37,  0.78, -0.86, -0.36,  1.01,\n",
       "         0.45]),\n",
       " array([-2.14,  0.46, -0.36,  0.61, -0.87, -0.68,  0.25, -1.62, -0.47,\n",
       "        -0.12]))"
      ]
     },
     "execution_count": 31,
     "metadata": {},
     "output_type": "execute_result"
    }
   ],
   "source": [
    "# Difference between the paired variables.\n",
    "first_treatment = np.array(weight_baseline) - np.array(weight_trt1)\n",
    "second_treatment = np.array(weight_baseline) - np.array(weight_trt2)\n",
    "\n",
    "# Show results.\n",
    "first_treatment, second_treatment\n"
   ]
  },
  {
   "cell_type": "code",
   "execution_count": 36,
   "metadata": {},
   "outputs": [
    {
     "data": {
      "image/png": "[encoded data removed]",
      "text/plain": [
       "<Figure size 1200x600 with 2 Axes>"
      ]
     },
     "metadata": {},
     "output_type": "display_data"
    }
   ],
   "source": [
    "# Importing norm module from Scipy stats to create a normal distribution.\n",
    "from scipy.stats import norm\n",
    "\n",
    "# Create subplots\n",
    "fig, axes = plt.subplots(1, 2, figsize=(12, 6))\n",
    "\n",
    "# Plot the first histogram\n",
    "sns.histplot(first_treatment, kde=False, ax=axes[0], color='skyblue', bins=10, stat=\"density\")\n",
    "# Fit and plot a normal distribution on the first histogram\n",
    "xmin, xmax = axes[0].get_xlim()\n",
    "x = np.linspace(xmin, xmax, 100)\n",
    "p = norm.pdf(x, np.mean(first_treatment), np.std(first_treatment))\n",
    "axes[0].plot(x, p, 'r-', lw=2)\n",
    "\n",
    "axes[0].set_title('First Treatment Differences')\n",
    "axes[0].set_xlabel('Difference')\n",
    "axes[0].set_ylabel('Density')\n",
    "\n",
    "# Plot the second histogram\n",
    "sns.histplot(second_treatment, kde=False, ax=axes[1], color='lightgreen', bins=10, stat=\"density\")\n",
    "# Fit and plot a normal distribution on the second histogram\n",
    "xmin, xmax = axes[1].get_xlim()\n",
    "x = np.linspace(xmin, xmax, 100)\n",
    "p = norm.pdf(x, np.mean(second_treatment), np.std(second_treatment))\n",
    "axes[1].plot(x, p, 'r-', lw=2)\n",
    "\n",
    "axes[1].set_title('Second Treatment Differences')\n",
    "axes[1].set_xlabel('Difference')\n",
    "axes[1].set_ylabel('Density')\n",
    "\n",
    "# Show the plots\n",
    "plt.tight_layout()\n",
    "plt.show()"
   ]
  },
  {
   "cell_type": "markdown",
   "metadata": {},
   "source": [
    "The red line is the probability density function (PDF) of a normal distribution fitted to the data. The `norm.pdf` was used to calculate the normal distribution based on the mean and standard deviation of the differences and its resulting plot is scaled by the number of bins in the histogram to match the scale of the histogram. However, both histograms deviate from normality appearing bimodal and this may due to the random nature of the sample collections.  \n",
    "\n",
    "As a matter of fact, a more reliable method to check whether a dataset follow a normal distribution or not is the [Shapiro-Wilk Test](https://en.wikipedia.org/wiki/Shapiro–Wilk_test). It is applied to a sample with a null hypothesis that the sample has been generated from a normal distribution and, if the p-value is low, we can reject such a null hypothesis and say that the sample has not been generated from a normal distribution.  \n",
    "\n",
    "It’s an easy-to-use statistical tool that can help us find an answer to the normality check we need, but it has one flaw: It doesn’t work well with large data sets. The maximum allowed size for a data set depends on the implementation, but in Python, we see that a sample size larger than 5,000 will give us an approximate calculation for the p-value."
   ]
  },
  {
   "cell_type": "code",
   "execution_count": 37,
   "metadata": {},
   "outputs": [
    {
     "name": "stdout",
     "output_type": "stream",
     "text": [
      "First treatment: p-value = 0.8755001504478122\n",
      "Second treatment: p-value = 0.6472396906374438\n"
     ]
    }
   ],
   "source": [
    "from scipy.stats import shapiro\n",
    "\n",
    "# Shapiro-Wilk test for normality\n",
    "stat, p_value = shapiro(first_treatment)\n",
    "print(f\"First treatment: p-value = {p_value}\")\n",
    "stat, p_value = shapiro(second_treatment)\n",
    "print(f\"Second treatment: p-value = {p_value}\")"
   ]
  },
  {
   "cell_type": "markdown",
   "metadata": {},
   "source": [
    "We can confirm the null hypothesis that the data are normally distributed. In fact, in a Shapiro-Wilkin test, the threshold ($α$) is typically set to $0.05$ ($5\\%%):  \n",
    "\n",
    "- If $p≥0.05$: The data are considered normal enough for parametric tests (e.g., t-test, ANOVA).  \n",
    "- If $p<0.05$: The data are considered not normal, and non-parametric methods might be more appropriate.  "
   ]
  },
  {
   "cell_type": "markdown",
   "metadata": {},
   "source": [
    "**ASSUMPTION NO2: the two pairs of variables are independent of each other**  "
   ]
  },
  {
   "cell_type": "markdown",
   "metadata": {},
   "source": [
    "### t-Test"
   ]
  },
  {
   "cell_type": "markdown",
   "metadata": {},
   "source": [
    "### Null Hypothesis"
   ]
  },
  {
   "cell_type": "markdown",
   "metadata": {},
   "source": [
    "___"
   ]
  },
  {
   "cell_type": "markdown",
   "metadata": {},
   "source": [
    "## End"
   ]
  }
 ],
 "metadata": {
  "kernelspec": {
   "display_name": "my_env",
   "language": "python",
   "name": "python3"
  },
  "language_info": {
   "codemirror_mode": {
    "name": "ipython",
    "version": 3
   },
   "file_extension": ".py",
   "mimetype": "text/x-python",
   "name": "python",
   "nbconvert_exporter": "python",
   "pygments_lexer": "ipython3",
   "version": "3.12.6"
  }
 },
 "nbformat": 4,
 "nbformat_minor": 2
}
