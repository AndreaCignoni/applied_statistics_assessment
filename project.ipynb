{
 "cells": [
  {
   "cell_type": "markdown",
   "metadata": {},
   "source": [
    "# <h1 style=\"text-align:center;\">PlantGrowth R Dataset Analysis</h1>  \n",
    "\n",
    "---"
   ]
  },
  {
   "cell_type": "markdown",
   "metadata": {},
   "source": [
    "![image](img/plant_growth.webp)"
   ]
  },
  {
   "cell_type": "markdown",
   "metadata": {},
   "source": [
    "The Plant Growth dataset, originally presented in Dobson, A. J. (1983) *An Introduction to Statistical Modelling* (London: Chapman and Hall), consists of dried plant weight measurements divided into three groups, each with 10 observations. The first group, labeled ctrl (control), represents the yield of plants grown under normal conditions and serves as the baseline or “before” sample. The second and third groups, labeled trt1 and trt2 (treatment 1 and treatment 2), represent the yields of plants subjected to two distinct treatments, which can be considered “after” samples.\n",
    "\n",
    "<p style=\"text-align:center;\">STUDY PURPOSE</p>\n",
    " \n",
    "This dataset serves as a foundation for evaluating the impact of experimental treatments on plant growth. In this study, my primary objective is to determine whether the differences between the groups are statistically significant and to investigate whether treatment 1 is more effective than treatment 2, or vice versa. To achieve this, I will conduct a series of statistical analyses on the dried weights of the plants, using methods such as t-tests and analysis of variance (ANOVA). These methods will allow me to assess the relative effectiveness of the treatments."
   ]
  },
  {
   "cell_type": "markdown",
   "metadata": {},
   "source": [
    "<p style=\"text-align:center;\">PRELIMINARY LIBRARIES IMPORT</p>  \n",
    "\n",
    "The labraries that we are going to utilise for the present study will be the followings:\n",
    "\n",
    "1. **math**:\n",
    "   - The `math` library provides a set of mathematical functions such as logarithms, square roots, trigonometric functions, and constants (e.g., π). It's essential for carrying out basic mathematical operations, expecially for statistical calculations, and including any other type numerical analyses.\n",
    "\n",
    "2. **random**:\n",
    "   - The `random` library allows for random selections, which is necessary when dealing with sampling methods, such as simulating datasets, shuffling data, or generating random variables. It will be helpful for tasks like creating random samples from distributions or testing hypothesis.\n",
    "\n",
    "3. **csv**:\n",
    "   - The `csv` module is lightweight, efficient, and suitable for most CSV-related tasks, though for more complex cases (e.g., larger datasets), pandas may be a more powerful alternative.\n",
    "\n",
    "4. **numpy**:\n",
    "   - `numpy` is a core library for numerical computing in Python. It provides support for arrays and matrices, along with a vast range of mathematical functions for numerical operations. `numpy` is crucial for generating random data, performing array manipulations, and applying advanced mathematical functions—particularly when working with large datasets and statistical distributions, such as the normal distribution.\n",
    "   \n",
    "5. **matplotlib,pyplot**:\n",
    "   - `matplotlib.pyplot` is a plotting library used to create static, animated, and interactive visualizations in Python. It is essential for graphing data distributions,  such as visualizing the normal distribution or plotting results from hypothesis tests like the t-test or ANOVA. Visualizations are key to interpreting and presenting data clearly.\n",
    "\n",
    "6. **scipy.stats**:\n",
    "   - `scipy.stats` is a submodule of the `scipy` library that provides a comprehensive range of statistical functions. It includes tools for hypothesis testing, probability distributions, and statistical tests, such as the t-test and ANOVA. This library is vital for performing rigorous statistical analysis and hypothesis testing in the assignment.\n",
    "\n",
    "7. **statsmodels**:\n",
    "   - `statsmodels` is a library for statistical modeling, which includes tools for performing regression analysis, hypothesis testing, and statistical inference. It's useful for more advanced statistical models and tests that go beyond basic functions. This library will be beneficial when applying more complex statistical methods, like ANOVA or regression models.\n",
    "\n",
    "8. **pandas**:\n",
    "   - `pandas` is a powerful library for data manipulation and analysis, offering data structures like DataFrames and Series for handling structured data efficiently. It provides functions to clean, transform, and explore datasets, making it easier to preprocess data for statistical analysis or machine learning tasks. The library integrates well with other libraries like statsmodels and numpy, serving as a foundation for managing data in preparation for more advanced analyses.  \n",
    "\n",
    "9. **seaborn**:\n",
    "   - `seaborn` is a Python data visualization library built on top of Matplotlib. It provides a high-level interface for creating attractive and informative statistical graphics. Seaborn simplifies complex visualizations like heatmaps, violin plots, and pair plots, making it ideal for exploring and presenting data. It integrates well with pandas for handling DataFrames and offers built-in themes and color palettes to enhance the visual appeal of plots."
   ]
  },
  {
   "cell_type": "code",
   "execution_count": 1,
   "metadata": {},
   "outputs": [],
   "source": [
    "# Mathematical functions from the standard library.\n",
    "# https://docs.python.org/3/library/math.html#module-math\n",
    "import math\n",
    "\n",
    "# Random selections.\n",
    "# https://docs.python.org/3/library/random.html#module-random\n",
    "import random\n",
    "\n",
    "# CSV format data reading \n",
    "import csv\n",
    "\n",
    "# Numerical structures and operations.\n",
    "# https://numpy.org/devdocs/reference/index.html#numpy-reference\n",
    "import numpy as np\n",
    "\n",
    "# Plotting.\n",
    "# https://matplotlib.org/stable/contents.html\n",
    "import matplotlib.pyplot as plt\n",
    "\n",
    "# Statistics.\n",
    "import scipy.stats as stats\n",
    "\n",
    "# Statistical models.\n",
    "import statsmodels as sm\n",
    "\n",
    "# Mathematical functions.\n",
    "import math\n",
    "\n",
    "# Data manipulation.\n",
    "import pandas as pd\n",
    "\n",
    "# Statistical plots.\n",
    "import seaborn as sns"
   ]
  },
  {
   "cell_type": "markdown",
   "metadata": {},
   "source": [
    "### Data Presentation\n",
    "\n",
    "The **PlantGrowth R Dataset** was downloaded in CSV format and consists of 30 cases with 2 variables:\n",
    "\n",
    "`weight`: A numeric variable representing the weights of the plants.\n",
    "`group`: A categorical variable that divides the data into three groups: `ctrl`, `trt1`, and `trt2`."
   ]
  },
  {
   "cell_type": "code",
   "execution_count": 2,
   "metadata": {},
   "outputs": [
    {
     "name": "stdout",
     "output_type": "stream",
     "text": [
      "['rownames', 'weight', 'group']\n",
      "['1', '4.17', 'ctrl']\n",
      "['2', '5.58', 'ctrl']\n",
      "['3', '5.18', 'ctrl']\n",
      "['4', '6.11', 'ctrl']\n",
      "['5', '4.5', 'ctrl']\n",
      "['6', '4.61', 'ctrl']\n",
      "['7', '5.17', 'ctrl']\n",
      "['8', '4.53', 'ctrl']\n",
      "['9', '5.33', 'ctrl']\n",
      "['10', '5.14', 'ctrl']\n",
      "['11', '4.81', 'trt1']\n",
      "['12', '4.17', 'trt1']\n",
      "['13', '4.41', 'trt1']\n",
      "['14', '3.59', 'trt1']\n",
      "['15', '5.87', 'trt1']\n",
      "['16', '3.83', 'trt1']\n",
      "['17', '6.03', 'trt1']\n",
      "['18', '4.89', 'trt1']\n",
      "['19', '4.32', 'trt1']\n",
      "['20', '4.69', 'trt1']\n",
      "['21', '6.31', 'trt2']\n",
      "['22', '5.12', 'trt2']\n",
      "['23', '5.54', 'trt2']\n",
      "['24', '5.5', 'trt2']\n",
      "['25', '5.37', 'trt2']\n",
      "['26', '5.29', 'trt2']\n",
      "['27', '4.92', 'trt2']\n",
      "['28', '6.15', 'trt2']\n",
      "['29', '5.8', 'trt2']\n",
      "['30', '5.26', 'trt2']\n"
     ]
    }
   ],
   "source": [
    "# Open the CSF file.\n",
    "with open('data/plant_growth_r.csv', mode='r') as file:\n",
    "    reader = csv.reader(file)\n",
    "    for row in reader:\n",
    "        print(row)\n"
   ]
  },
  {
   "cell_type": "markdown",
   "metadata": {},
   "source": [
    "To better understand the data and facilitate value manipulation, we will create a DataFrame named `group_df`. "
   ]
  },
  {
   "cell_type": "code",
   "execution_count": 3,
   "metadata": {},
   "outputs": [
    {
     "data": {
      "text/html": [
       "<div>\n",
       "<style scoped>\n",
       "    .dataframe tbody tr th:only-of-type {\n",
       "        vertical-align: middle;\n",
       "    }\n",
       "\n",
       "    .dataframe tbody tr th {\n",
       "        vertical-align: top;\n",
       "    }\n",
       "\n",
       "    .dataframe thead th {\n",
       "        text-align: right;\n",
       "    }\n",
       "</style>\n",
       "<table border=\"1\" class=\"dataframe\">\n",
       "  <thead>\n",
       "    <tr style=\"text-align: right;\">\n",
       "      <th></th>\n",
       "      <th>weight</th>\n",
       "      <th>group</th>\n",
       "    </tr>\n",
       "  </thead>\n",
       "  <tbody>\n",
       "    <tr>\n",
       "      <th>0</th>\n",
       "      <td>4.17</td>\n",
       "      <td>ctrl</td>\n",
       "    </tr>\n",
       "    <tr>\n",
       "      <th>1</th>\n",
       "      <td>5.58</td>\n",
       "      <td>ctrl</td>\n",
       "    </tr>\n",
       "    <tr>\n",
       "      <th>2</th>\n",
       "      <td>5.18</td>\n",
       "      <td>ctrl</td>\n",
       "    </tr>\n",
       "    <tr>\n",
       "      <th>3</th>\n",
       "      <td>6.11</td>\n",
       "      <td>ctrl</td>\n",
       "    </tr>\n",
       "    <tr>\n",
       "      <th>4</th>\n",
       "      <td>4.50</td>\n",
       "      <td>ctrl</td>\n",
       "    </tr>\n",
       "    <tr>\n",
       "      <th>5</th>\n",
       "      <td>4.61</td>\n",
       "      <td>ctrl</td>\n",
       "    </tr>\n",
       "    <tr>\n",
       "      <th>6</th>\n",
       "      <td>5.17</td>\n",
       "      <td>ctrl</td>\n",
       "    </tr>\n",
       "    <tr>\n",
       "      <th>7</th>\n",
       "      <td>4.53</td>\n",
       "      <td>ctrl</td>\n",
       "    </tr>\n",
       "    <tr>\n",
       "      <th>8</th>\n",
       "      <td>5.33</td>\n",
       "      <td>ctrl</td>\n",
       "    </tr>\n",
       "    <tr>\n",
       "      <th>9</th>\n",
       "      <td>5.14</td>\n",
       "      <td>ctrl</td>\n",
       "    </tr>\n",
       "    <tr>\n",
       "      <th>10</th>\n",
       "      <td>4.81</td>\n",
       "      <td>trt1</td>\n",
       "    </tr>\n",
       "    <tr>\n",
       "      <th>11</th>\n",
       "      <td>4.17</td>\n",
       "      <td>trt1</td>\n",
       "    </tr>\n",
       "    <tr>\n",
       "      <th>12</th>\n",
       "      <td>4.41</td>\n",
       "      <td>trt1</td>\n",
       "    </tr>\n",
       "    <tr>\n",
       "      <th>13</th>\n",
       "      <td>3.59</td>\n",
       "      <td>trt1</td>\n",
       "    </tr>\n",
       "    <tr>\n",
       "      <th>14</th>\n",
       "      <td>5.87</td>\n",
       "      <td>trt1</td>\n",
       "    </tr>\n",
       "    <tr>\n",
       "      <th>15</th>\n",
       "      <td>3.83</td>\n",
       "      <td>trt1</td>\n",
       "    </tr>\n",
       "    <tr>\n",
       "      <th>16</th>\n",
       "      <td>6.03</td>\n",
       "      <td>trt1</td>\n",
       "    </tr>\n",
       "    <tr>\n",
       "      <th>17</th>\n",
       "      <td>4.89</td>\n",
       "      <td>trt1</td>\n",
       "    </tr>\n",
       "    <tr>\n",
       "      <th>18</th>\n",
       "      <td>4.32</td>\n",
       "      <td>trt1</td>\n",
       "    </tr>\n",
       "    <tr>\n",
       "      <th>19</th>\n",
       "      <td>4.69</td>\n",
       "      <td>trt1</td>\n",
       "    </tr>\n",
       "    <tr>\n",
       "      <th>20</th>\n",
       "      <td>6.31</td>\n",
       "      <td>trt2</td>\n",
       "    </tr>\n",
       "    <tr>\n",
       "      <th>21</th>\n",
       "      <td>5.12</td>\n",
       "      <td>trt2</td>\n",
       "    </tr>\n",
       "    <tr>\n",
       "      <th>22</th>\n",
       "      <td>5.54</td>\n",
       "      <td>trt2</td>\n",
       "    </tr>\n",
       "    <tr>\n",
       "      <th>23</th>\n",
       "      <td>5.50</td>\n",
       "      <td>trt2</td>\n",
       "    </tr>\n",
       "    <tr>\n",
       "      <th>24</th>\n",
       "      <td>5.37</td>\n",
       "      <td>trt2</td>\n",
       "    </tr>\n",
       "    <tr>\n",
       "      <th>25</th>\n",
       "      <td>5.29</td>\n",
       "      <td>trt2</td>\n",
       "    </tr>\n",
       "    <tr>\n",
       "      <th>26</th>\n",
       "      <td>4.92</td>\n",
       "      <td>trt2</td>\n",
       "    </tr>\n",
       "    <tr>\n",
       "      <th>27</th>\n",
       "      <td>6.15</td>\n",
       "      <td>trt2</td>\n",
       "    </tr>\n",
       "    <tr>\n",
       "      <th>28</th>\n",
       "      <td>5.80</td>\n",
       "      <td>trt2</td>\n",
       "    </tr>\n",
       "    <tr>\n",
       "      <th>29</th>\n",
       "      <td>5.26</td>\n",
       "      <td>trt2</td>\n",
       "    </tr>\n",
       "  </tbody>\n",
       "</table>\n",
       "</div>"
      ],
      "text/plain": [
       "    weight group\n",
       "0     4.17  ctrl\n",
       "1     5.58  ctrl\n",
       "2     5.18  ctrl\n",
       "3     6.11  ctrl\n",
       "4     4.50  ctrl\n",
       "5     4.61  ctrl\n",
       "6     5.17  ctrl\n",
       "7     4.53  ctrl\n",
       "8     5.33  ctrl\n",
       "9     5.14  ctrl\n",
       "10    4.81  trt1\n",
       "11    4.17  trt1\n",
       "12    4.41  trt1\n",
       "13    3.59  trt1\n",
       "14    5.87  trt1\n",
       "15    3.83  trt1\n",
       "16    6.03  trt1\n",
       "17    4.89  trt1\n",
       "18    4.32  trt1\n",
       "19    4.69  trt1\n",
       "20    6.31  trt2\n",
       "21    5.12  trt2\n",
       "22    5.54  trt2\n",
       "23    5.50  trt2\n",
       "24    5.37  trt2\n",
       "25    5.29  trt2\n",
       "26    4.92  trt2\n",
       "27    6.15  trt2\n",
       "28    5.80  trt2\n",
       "29    5.26  trt2"
      ]
     },
     "execution_count": 3,
     "metadata": {},
     "output_type": "execute_result"
    }
   ],
   "source": [
    "# Create a DataFrame.\n",
    "group_df = pd.read_csv('/Users/andreacignoni/Desktop/Scrivania - Mac mini di Andrea/Repos/applied_statistics_assessment/data/plant_growth_r.csv')\n",
    "\n",
    "# Eliminate the 'rownames' column.\n",
    "group_df = group_df.drop(columns=['rownames'])\n",
    "\n",
    "# Show.\n",
    "group_df"
   ]
  },
  {
   "cell_type": "code",
   "execution_count": 4,
   "metadata": {},
   "outputs": [
    {
     "data": {
      "text/html": [
       "<div>\n",
       "<style scoped>\n",
       "    .dataframe tbody tr th:only-of-type {\n",
       "        vertical-align: middle;\n",
       "    }\n",
       "\n",
       "    .dataframe tbody tr th {\n",
       "        vertical-align: top;\n",
       "    }\n",
       "\n",
       "    .dataframe thead th {\n",
       "        text-align: right;\n",
       "    }\n",
       "</style>\n",
       "<table border=\"1\" class=\"dataframe\">\n",
       "  <thead>\n",
       "    <tr style=\"text-align: right;\">\n",
       "      <th></th>\n",
       "      <th>weight</th>\n",
       "    </tr>\n",
       "  </thead>\n",
       "  <tbody>\n",
       "    <tr>\n",
       "      <th>count</th>\n",
       "      <td>30.000000</td>\n",
       "    </tr>\n",
       "    <tr>\n",
       "      <th>mean</th>\n",
       "      <td>5.073000</td>\n",
       "    </tr>\n",
       "    <tr>\n",
       "      <th>std</th>\n",
       "      <td>0.701192</td>\n",
       "    </tr>\n",
       "    <tr>\n",
       "      <th>min</th>\n",
       "      <td>3.590000</td>\n",
       "    </tr>\n",
       "    <tr>\n",
       "      <th>25%</th>\n",
       "      <td>4.550000</td>\n",
       "    </tr>\n",
       "    <tr>\n",
       "      <th>50%</th>\n",
       "      <td>5.155000</td>\n",
       "    </tr>\n",
       "    <tr>\n",
       "      <th>75%</th>\n",
       "      <td>5.530000</td>\n",
       "    </tr>\n",
       "    <tr>\n",
       "      <th>max</th>\n",
       "      <td>6.310000</td>\n",
       "    </tr>\n",
       "  </tbody>\n",
       "</table>\n",
       "</div>"
      ],
      "text/plain": [
       "          weight\n",
       "count  30.000000\n",
       "mean    5.073000\n",
       "std     0.701192\n",
       "min     3.590000\n",
       "25%     4.550000\n",
       "50%     5.155000\n",
       "75%     5.530000\n",
       "max     6.310000"
      ]
     },
     "execution_count": 4,
     "metadata": {},
     "output_type": "execute_result"
    }
   ],
   "source": [
    "# Show basic statistics for numeric columns.\n",
    "group_df.describe()"
   ]
  },
  {
   "cell_type": "markdown",
   "metadata": {},
   "source": [
    "Once the DataFrame is created and we have given a general overview of the information we are examining, the data will be divided into three groups: the \"before\" yield weights and the two \"after\" yield weights."
   ]
  },
  {
   "cell_type": "code",
   "execution_count": 5,
   "metadata": {},
   "outputs": [
    {
     "name": "stdout",
     "output_type": "stream",
     "text": [
      "Baseline mean: 5.031999999999999\n",
      "Treatment 1 mean: 4.661\n",
      "Treatment 2 mean: 5.526\n"
     ]
    }
   ],
   "source": [
    "# Forming three groups\n",
    "weight_baseline = group_df['weight'][:10]\n",
    "weight_trt1 = group_df['weight'][10:20]\n",
    "weight_trt2 = group_df['weight'][20:30]\n",
    "\n",
    "# Single group mean calculation.\n",
    "mean_baseline = weight_baseline.mean()\n",
    "mean_trt1 = weight_trt1.mean()\n",
    "mean_trt2 = weight_trt2.mean()\n",
    "\n",
    "print(\"Baseline mean:\", mean_baseline)\n",
    "print(\"Treatment 1 mean:\", mean_trt1)\n",
    "print(\"Treatment 2 mean:\", mean_trt2)"
   ]
  },
  {
   "cell_type": "markdown",
   "metadata": {},
   "source": [
    "From these means, it appears that the average yield weight for Treatment 1 is lower than the baseline, while Treatment 2 has a higher average yield weight compared to the baseline. While manually computing the means provides a snapshot of the differences, it does not tell us whether these differences are statistically significant or if they could have occurred by random chance.  \n",
    "\n",
    "=> Means alone do not consider the variability (spread) of data within each group. Even if the means differ, overlapping variances might indicate no significant difference."
   ]
  },
  {
   "cell_type": "markdown",
   "metadata": {},
   "source": [
    "<p style=\"text-align:center;\">PAIRING GROUPS</p>  \n",
    "\n",
    "**To determine whether the differences between the groups are statistically significant, it is necessary to analyze their variances. A t-test provides an objective mathematical approach to achieve this goal. For this purpose, we will create three pairs of groups: one comparing Treatment 1, another comparing Treatment 2, and a third combining Treatments 1 and 2. We will then verify the assumptions of normality and independence for the paired samples to ensure the validity of the tests performed.**\n"
   ]
  },
  {
   "cell_type": "markdown",
   "metadata": {
    "vscode": {
     "languageId": "plaintext"
    }
   },
   "source": [
    "### Assumptions"
   ]
  },
  {
   "cell_type": "markdown",
   "metadata": {},
   "source": [
    "To assess the validity of the t-test, it is necessary to verify that the differences between the paired observations are approximately normally distributed and that the three pairs of variables, `weight_baseline`-`weight_trt1`, `weight_baseline`-`weight_trt2` and `weight_trt1`-`weight_trt2`, are independent of each other.\n",
    "\n",
    "**ASSUMPTION NO1: Normally distributed data**  \n",
    "\n",
    "To check if the difference between the paired observations is approximately normally distributed, we can again plot the values as histograms and create an x range for the probability density function to see if its curve is bell shaped and visually ressemble."
   ]
  },
  {
   "cell_type": "code",
   "execution_count": 6,
   "metadata": {},
   "outputs": [
    {
     "data": {
      "text/plain": [
       "(array([-0.64,  1.41,  0.77,  2.52, -1.37,  0.78, -0.86, -0.36,  1.01,\n",
       "         0.45]),\n",
       " array([-2.14,  0.46, -0.36,  0.61, -0.87, -0.68,  0.25, -1.62, -0.47,\n",
       "        -0.12]),\n",
       " array([ 1.5 ,  0.95,  1.13,  1.91, -0.5 ,  1.46, -1.11,  1.26,  1.48,\n",
       "         0.57]))"
      ]
     },
     "execution_count": 6,
     "metadata": {},
     "output_type": "execute_result"
    }
   ],
   "source": [
    "# Difference between the paired variables.\n",
    "first_treatment = np.array(weight_baseline) - np.array(weight_trt1)\n",
    "second_treatment = np.array(weight_baseline) - np.array(weight_trt2)\n",
    "paired_treatments = first_treatment - second_treatment\n",
    "\n",
    "# Show results.\n",
    "first_treatment, second_treatment, paired_treatments\n"
   ]
  },
  {
   "cell_type": "code",
   "execution_count": 8,
   "metadata": {},
   "outputs": [
    {
     "data": {
      "image/png": "[encoded data removed]",
      "text/plain": [
       "<Figure size 1800x600 with 3 Axes>"
      ]
     },
     "metadata": {},
     "output_type": "display_data"
    }
   ],
   "source": [
    "# Importing norm module from Scipy stats to create a normal distribution.\n",
    "from scipy.stats import norm\n",
    "\n",
    "# Create subplots with space for three plots.\n",
    "fig, axes = plt.subplots(1, 3, figsize=(18, 6))\n",
    "\n",
    "# Plot the first histogram.\n",
    "sns.histplot(first_treatment, kde=False, ax=axes[0], color='skyblue', bins=10, stat=\"density\")\n",
    "xmin, xmax = axes[0].get_xlim()\n",
    "x = np.linspace(xmin, xmax, 100)\n",
    "p = norm.pdf(x, np.mean(first_treatment), np.std(first_treatment))\n",
    "axes[0].plot(x, p, 'r-', lw=2)\n",
    "axes[0].set_title('First Treatment Differences')\n",
    "axes[0].set_xlabel('Difference')\n",
    "axes[0].set_ylabel('Density')\n",
    "\n",
    "# Plot the second histogram.\n",
    "sns.histplot(second_treatment, kde=False, ax=axes[1], color='lightgreen', bins=10, stat=\"density\")\n",
    "xmin, xmax = axes[1].get_xlim()\n",
    "x = np.linspace(xmin, xmax, 100)\n",
    "p = norm.pdf(x, np.mean(second_treatment), np.std(second_treatment))\n",
    "axes[1].plot(x, p, 'r-', lw=2)\n",
    "axes[1].set_title('Second Treatment Differences')\n",
    "axes[1].set_xlabel('Difference')\n",
    "axes[1].set_ylabel('Density')\n",
    "\n",
    "# Plot the third histogram for paired_treatments.\n",
    "sns.histplot(paired_treatments, kde=False, ax=axes[2], color='salmon', bins=10, stat=\"density\")\n",
    "xmin, xmax = axes[2].get_xlim()\n",
    "x = np.linspace(xmin, xmax, 100)\n",
    "p = norm.pdf(x, np.mean(paired_treatments), np.std(paired_treatments))\n",
    "axes[2].plot(x, p, 'r-', lw=2)\n",
    "axes[2].set_title('Paired Treatments Differences')\n",
    "axes[2].set_xlabel('Difference')\n",
    "axes[2].set_ylabel('Density')\n",
    "\n",
    "# Show plots.\n",
    "plt.tight_layout()\n",
    "plt.show()"
   ]
  },
  {
   "cell_type": "markdown",
   "metadata": {},
   "source": [
    "The red line represents the probability density function (PDF) of a normal distribution fitted to the data. The norm.pdf function was used to calculate the normal distribution based on the mean and standard deviation of the differences, and its resulting plot was scaled to align with the histogram's scale, determined by the number of bins. However, all three histograms deviate from normality, appearing bimodal, skewed, or heavy-tailed. This deviation may be attributed to the random nature of the sample collections. \n",
    "\n",
    "As a matter of fact, a more reliable method to check whether a dataset follow a normal distribution or not is the [Shapiro-Wilk Test](https://en.wikipedia.org/wiki/Shapiro–Wilk_test). It is applied to a sample with a null hypothesis that the sample has been generated from a normal distribution and, if the p-value is low, we can reject such a null hypothesis and say that the sample has not been generated from a normal distribution.  \n",
    "\n",
    "As a matter of fact, it represents an easy-to-use statistical tool that can help us find an answer to the normality check we need."
   ]
  },
  {
   "cell_type": "code",
   "execution_count": 9,
   "metadata": {},
   "outputs": [
    {
     "name": "stdout",
     "output_type": "stream",
     "text": [
      "First treatment: p-value = 0.8755001504478122\n",
      "Second treatment: p-value = 0.6472396906374438\n",
      "Treatments combined: p-value = 0.053618057786193864\n"
     ]
    }
   ],
   "source": [
    "# Shapiro- module imported from Scipy library.\n",
    "from scipy.stats import shapiro\n",
    "\n",
    "# Shapiro-Wilk test for normality.\n",
    "stat, p_value = shapiro(first_treatment)\n",
    "print(f\"First treatment: p-value = {p_value}\")\n",
    "stat, p_value = shapiro(second_treatment)\n",
    "print(f\"Second treatment: p-value = {p_value}\")\n",
    "stat, p_value = shapiro(paired_treatments)\n",
    "print(f\"Treatments combined: p-value = {p_value}\")"
   ]
  },
  {
   "cell_type": "markdown",
   "metadata": {},
   "source": [
    "Considering the values resulting, we can confirm the null hypothesis that the data are normally distributed. In fact, in a Shapiro-Wilkin test, the threshold ($α$) is typically set to $0.05$ ($5\\%):  \n",
    "\n",
    "- If $p≥0.05$: The data are considered normal enough for parametric tests (e.g., t-test, ANOVA).  \n",
    "- If $p<0.05$: The data are considered not normal, and non-parametric methods might be more appropriate.  "
   ]
  },
  {
   "cell_type": "markdown",
   "metadata": {},
   "source": [
    "**ASSUMPTION NO2: the two pairs of variables are independent of each other**  "
   ]
  },
  {
   "cell_type": "markdown",
   "metadata": {},
   "source": [
    "To test if the three pairs samples, `weight_baseline`-`weight_trt1`, `weight_baseline`-`weight_trt2` and `weight_trt1`-`weight_trt2`, are independent, we can use a Pearson correlation through the `.corr()` method in Pandas. This function computes the Pearson correlation coefficient by default and, in case the result confirms that there is no correlation, the two samples are independent.  \n",
    "\n",
    "The correlation coefficient value ranges from -1 to 1:  \n",
    "\n",
    "1 indicates a perfect positive linear relationship.  \n",
    "-1 indicates a perfect negative linear relationship.   \n",
    "0 indicates no linear relationship.  "
   ]
  },
  {
   "cell_type": "code",
   "execution_count": 16,
   "metadata": {},
   "outputs": [
    {
     "name": "stdout",
     "output_type": "stream",
     "text": [
      "The Pearson correlation coefficient for the first treatment the is: -0.45766827706815866\n",
      "The Pearson correlation coefficient for the second treatment the is: -0.46742669621787136\n",
      "Correlation between paired treatments: -0.13913733644025383\n"
     ]
    }
   ],
   "source": [
    "# Apply the pandas .corr() method to calculate the Pearson correlation.\n",
    "first_treatment_corr = weight_baseline.reset_index(drop=True).corr(weight_trt1.reset_index(drop=True))\n",
    "second_treatment_corr = weight_baseline.reset_index(drop=True).corr(weight_trt2.reset_index(drop=True))\n",
    "paired_treatments_corr = weight_trt1.reset_index(drop=True).corr(weight_trt2.reset_index(drop=True))\n",
    "\n",
    "# Show results.\n",
    "print(f\"The Pearson correlation coefficient for the first treatment the is: {first_treatment_corr}\")\n",
    "print(f\"The Pearson correlation coefficient for the second treatment the is: {second_treatment_corr}\")\n",
    "print(\"Correlation between paired treatments:\", paired_treatments_corr)"
   ]
  },
  {
   "cell_type": "markdown",
   "metadata": {},
   "source": [
    "The coefficients for the three pairs of variables are -0.4577, -0.4674, and -0.1391, indicating a moderate to weak negative linear relationship. This suggests that the variables are not entirely independent, as there is a noticeable (albeit moderate or weak) association. However, given that the measurements are related (e.g., representing baseline and treatment values for the same subjects), this level of dependence is expected. Therefore, I will proceed to perform a paired t-test, which is specifically designed to compare the means of related samples while accounting for their dependence. This approach is justified because the paired t-test considers the paired structure of the data, allowing for a valid statistical comparison of the two groups."
   ]
  },
  {
   "cell_type": "markdown",
   "metadata": {},
   "source": [
    "### Paired t-Test"
   ]
  },
  {
   "cell_type": "markdown",
   "metadata": {},
   "source": [
    "**Paired $t$-Test Null Hypothesis**: *The true mean difference between the paired samples is zero*. Under this model, all observable differences are attributed to random variation. A low p-value, typically 0.05 or less, indicates decreased support for the null hypothesis.\n",
    "\n",
    "Conversely, the **alternative hypothesis** posits that the true mean difference between the paired samples is not equal to zero.\n",
    "\n",
    "In other words, to reject the null hypothesis, we must confirm that the treatments had an effect and that the observed change between the two groups is unlikely to be due to random chance.\n",
    "\n",
    "On the other hand, rejecting the null hypothesis for the differences between the two treatments and the common baseline would indicate that the paired groups significantly differ from each other."
   ]
  },
  {
   "cell_type": "markdown",
   "metadata": {},
   "source": [
    "The formula of the paired t-test is as follows:\n",
    "\n",
    "$$t = \\frac{\\bar{D}}{\\frac{s_D}{\\sqrt{n}}}$$  \n",
    "where:  \n",
    " \n",
    "${\\bar{D}}$ is the mean of the differences between the paired observations $D_i = \\text{Before}_i - \\text{After}_i$.  \n",
    "\n",
    "${s_D}$ is the standard deviation of the differences.    \n",
    "\n",
    "${n}$ is the number of paired observations.  "
   ]
  },
  {
   "cell_type": "code",
   "execution_count": 17,
   "metadata": {},
   "outputs": [
    {
     "name": "stdout",
     "output_type": "stream",
     "text": [
      "Independent T-Test results for the first pair: t-statistic = 1.1912603818487009, p-value = 0.2490231659730067\n",
      "Independent T-Test results: t-statistic for the second pair: t-statistic = -2.1340204531240654, p-value = 0.04685138491157358\n",
      "Independent T-Test results for the differences between the two treatments: t-statistic = 1.8566179289277531, p-value = 0.0798094464966502\n"
     ]
    }
   ],
   "source": [
    "# Import the t-test module from the Scipy package.\n",
    "from scipy.stats import ttest_ind\n",
    "\n",
    "# Perform the t-test on the first treatment.\n",
    "t_stat1, p_value1 = ttest_ind(weight_baseline, weight_trt1)\n",
    "print(f\"Independent T-Test results for the first pair: t-statistic = {t_stat1}, p-value = {p_value1}\")\n",
    "\n",
    "# Perform the t-test on the second treatment.\n",
    "t_stat2, p_value2 = ttest_ind(weight_baseline, weight_trt2)\n",
    "print(f\"Independent T-Test results: t-statistic for the second pair: t-statistic = {t_stat2}, p-value = {p_value2}\")\n",
    "\n",
    "# Perform the t-test on the two treatments.\n",
    "t_stat3, p_value3 = ttest_ind(first_treatment, second_treatment)\n",
    "print(f\"Independent T-Test results for the differences between the two treatments: t-statistic = {t_stat3}, p-value = {p_value3}\")"
   ]
  },
  {
   "cell_type": "markdown",
   "metadata": {},
   "source": [
    "The results observed can be summarised as follows:\n",
    "\n",
    "- **First pair**: No significant difference (p-value = 0.249).\n",
    "- **Second pair**: Significant difference (p-value = 0.0468).\n",
    "- **Difference between treatments**: Marginally non-significant (p-value = 0.0798), but shows a trend worth further exploration with a larger sample size or additional analysis."
   ]
  },
  {
   "cell_type": "markdown",
   "metadata": {},
   "source": [
    "### one-way ANOVA"
   ]
  },
  {
   "cell_type": "markdown",
   "metadata": {},
   "source": [
    "In ANOVA, the null hypothesis states that there is no difference among the group means. If any group significantly differs from the overall mean, the ANOVA will report a statistically significant result.\n",
    "\n",
    "<p style=\"text-align:center;\">raw data vs. differences between pairs</p>\n",
    "\n",
    "Before conducting the one-way ANOVA analysis, it is crucial to define the objective of the analysis. Specifically, we need to determine whether we are examining the overall effect of each treatment group on the outcome (e.g., plant weight) directly, or if we aim to assess the difference between treatments. In the first case, we perform the test on the raw data for each group. In the second case, we calculate the test based on the differences between the paired groups representing the two treatments.  \n",
    "\n",
    "=> Since our aim is **comparing the average outcomes across these three groups** we will then perform an ANOVA test on raw data which corresponds in comparing the mean values of each treatment group (ctrl, trt1, trt2)."
   ]
  },
  {
   "cell_type": "code",
   "execution_count": 18,
   "metadata": {},
   "outputs": [
    {
     "name": "stdout",
     "output_type": "stream",
     "text": [
      "ANOVA results: F-statistic = 4.846087862380136, p-value = 0.0159099583256229\n",
      "There is a significant difference between the treatment groups.\n"
     ]
    }
   ],
   "source": [
    "# Perform one-way ANOVA\n",
    "f_statistic, p_value = stats.f_oneway(weight_baseline, weight_trt1, weight_trt2)\n",
    "\n",
    "# Output the results\n",
    "print(f\"ANOVA results: F-statistic = {f_statistic}, p-value = {p_value}\")\n",
    "\n",
    "# Interpretation\n",
    "if p_value < 0.05:\n",
    "    print(\"There is a significant difference between the treatment groups.\")\n",
    "else:\n",
    "    print(\"There is no significant difference between the treatment groups.\")"
   ]
  },
  {
   "cell_type": "markdown",
   "metadata": {},
   "source": [
    "The one-way ANOVA confirms that there is a significant difference between the treatment groups. Unlike performing multiple t-tests, this conclusion can be reached by applying ANOVA directly to the three groups originally extracted from the dataset.\n",
    "\n",
    "**ANOVA has greater statistical power because it evaluates the variance between the groups in relation to the variance within the groups in a single step**, allowing for more accurate detection of differences between groups.\n",
    "\n",
    "This is possible because ANOVA controls the **Type I error** rate by testing all groups simultaneously with a single test, ensuring that the overall significance level remains at 0.05 (or whichever threshold you set), even when comparing multiple groups. In contrast, **performing multiple t-tests is less efficient because each test compares only two groups at a time and does not provide an overall view of the differences across all groups**.\n",
    "\n",
    "In conclusion, using multiple t-tests for three or more groups would be cumbersome and inefficient due to the pairwise comparisons involved, which can lead to confusion when interpreting the results while ANOVA provides a single F-statistic and a p-value, which can be interpreted more straightforwardly."
   ]
  },
  {
   "cell_type": "markdown",
   "metadata": {},
   "source": [
    "___"
   ]
  },
  {
   "cell_type": "markdown",
   "metadata": {},
   "source": [
    "## End"
   ]
  }
 ],
 "metadata": {
  "kernelspec": {
   "display_name": "my_env",
   "language": "python",
   "name": "python3"
  },
  "language_info": {
   "codemirror_mode": {
    "name": "ipython",
    "version": 3
   },
   "file_extension": ".py",
   "mimetype": "text/x-python",
   "name": "python",
   "nbconvert_exporter": "python",
   "pygments_lexer": "ipython3",
   "version": "3.12.6"
  }
 },
 "nbformat": 4,
 "nbformat_minor": 2
}
