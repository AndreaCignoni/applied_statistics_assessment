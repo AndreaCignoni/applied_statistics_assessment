{
 "cells": [
  {
   "cell_type": "markdown",
   "metadata": {},
   "source": [
    "# Task 1: Permutations and Combinations\n",
    "\n",
    "By conducting this experiment, we intend to prove whether the person’s ability to identify the preparation method of the tea cups is beyond random chance. If the person can consistently and accurately identify all six milk-first cups, the evidence would support the claim that they possess a special sensory ability. Conversely, if their success rate aligns with what would be expected by random guessing, the claim would lack statistical support.\n",
    "\n",
    "In summary, this experiment serves as a practical application of hypothesis testing, allowing us to objectively evaluate extraordinary claims using statistical evidence."
   ]
  },
  {
   "cell_type": "markdown",
   "metadata": {},
   "source": [
    "*By setting up this experiment, we can:*\n",
    "\n",
    "- **Quantify Confidence**: Determine the likelihood that the person’s success is due to random chance versus a genuine ability.\n",
    "+ **Statistical Significance**: Establish whether the results are statistically significant, meaning the observed outcome is unlikely to have occurred under the null hypothesis.\n",
    "* **Objective Evaluation**: Provide an objective framework to evaluate claims of special abilities, ensuring decisions are based on evidence and probability rather than subjective judgment."
   ]
  },
  {
   "cell_type": "markdown",
   "metadata": {},
   "source": [
    "### Permutations\n",
    "    \n",
    "A permutation is an ordering of its elements.\n",
    "\n",
    "The set `{a, b, c}` has the permutations `abc`, `acb`, `bac`, `bca`, `cab`, and `cba`.\n",
    "\n",
    "### Combinations\n",
    "\n",
    "A combination is a selection of `k` elements from a set of size `n`.\n",
    "\n",
    "In combinations, order does not matter and the same element cannot be selected twice.\n",
    "\n",
    "The combinations of size 2 from the set `{a, b, c}` are `{a, b}`, `{a, c}`, and `{b, c}`."
   ]
  },
  {
   "cell_type": "markdown",
   "metadata": {},
   "source": [
    "## Lady Tasting Tea"
   ]
  },
  {
   "cell_type": "code",
   "execution_count": 36,
   "metadata": {},
   "outputs": [],
   "source": [
    "# Mathematical functions from the standard library.\n",
    "# https://docs.python.org/3/library/math.html#module-math\n",
    "import math\n",
    "\n",
    "# Permutations and combinations\n",
    "# https://docs.python.org/3/library/itertools.html#module-itertools\n",
    "import itertools\n",
    "\n",
    "# Random selections.\n",
    "# https://docs.python.org/3/library/random.html#module-random\n",
    "import random\n",
    "\n",
    "# Numerical structures and operations.\n",
    "# https://numpy.org/devdocs/reference/index.html#numpy-reference\n",
    "import numpy as np\n",
    "\n",
    "# Plotting.\n",
    "# https://matplotlib.org/stable/contents.html\n",
    "import matplotlib.pyplot as plt"
   ]
  },
  {
   "cell_type": "markdown",
   "metadata": {},
   "source": [
    "1 2 3 4 5 6 7 8\n",
    "\n",
    "Calculate the number of ways to choose **k** elements from a set of **n** elements where the order of the chosen elements does not matter and no element is selected more than once."
   ]
  },
  {
   "cell_type": "code",
   "execution_count": 3,
   "metadata": {},
   "outputs": [],
   "source": [
    "# Number of cups of tea in total.\n",
    "no_cups = 8\n",
    "\n",
    "# Number of cups of tea with milk first.\n",
    "no_cups_milk_first = 4\n",
    "\n",
    "# Number of cups of tea with tea first.\n",
    "no_cups_tea_first = 4"
   ]
  },
  {
   "cell_type": "markdown",
   "metadata": {},
   "source": [
    "How many possible combinations are there to shuffle the 8 cups?\n"
   ]
  },
  {
   "cell_type": "code",
   "execution_count": 4,
   "metadata": {},
   "outputs": [
    {
     "data": {
      "text/plain": [
       "70"
      ]
     },
     "execution_count": 4,
     "metadata": {},
     "output_type": "execute_result"
    }
   ],
   "source": [
    "# Number of ways of selecting four cups from eight.\n",
    "ways = math.comb(no_cups, no_cups_milk_first)\n",
    "\n",
    "# Show.\n",
    "ways"
   ]
  },
  {
   "cell_type": "markdown",
   "metadata": {},
   "source": [
    "1 2 3 4 5 6 7 8\n",
    "\n",
    ": _ _ _ _\n",
    "\n",
    "==> COMBINATION"
   ]
  },
  {
   "cell_type": "code",
   "execution_count": 5,
   "metadata": {},
   "outputs": [
    {
     "data": {
      "text/plain": [
       "1680"
      ]
     },
     "execution_count": 5,
     "metadata": {},
     "output_type": "execute_result"
    }
   ],
   "source": [
    "# Total number of ways of selecting four cups from eight, keeping them in order.\n",
    "ways_ordered = 8 * 7 * 6 * 5\n",
    "\n",
    "# Show.\n",
    "ways_ordered"
   ]
  },
  {
   "cell_type": "markdown",
   "metadata": {},
   "source": [
    "1680 possible selections"
   ]
  },
  {
   "cell_type": "markdown",
   "metadata": {},
   "source": [
    "Do you think order is important?\n",
    "\n",
    "4 8 6 5\n",
    "\n",
    "8 6 4 5\n",
    "\n",
    ": _ _ _ _\n",
    "\n",
    "==> PERMUTATION"
   ]
  },
  {
   "cell_type": "code",
   "execution_count": 6,
   "metadata": {},
   "outputs": [
    {
     "data": {
      "text/plain": [
       "24"
      ]
     },
     "execution_count": 6,
     "metadata": {},
     "output_type": "execute_result"
    }
   ],
   "source": [
    "# No of ways of shuffling four cups.\n",
    "no_shuffles = 4 * 3 * 2 * 1\n",
    "\n",
    "# Show.\n",
    "no_shuffles"
   ]
  },
  {
   "cell_type": "markdown",
   "metadata": {},
   "source": [
    "24 ways of ordering 4 elements"
   ]
  },
  {
   "cell_type": "code",
   "execution_count": 7,
   "metadata": {},
   "outputs": [
    {
     "data": {
      "text/plain": [
       "70"
      ]
     },
     "execution_count": 7,
     "metadata": {},
     "output_type": "execute_result"
    }
   ],
   "source": [
    "# No of combinations.\n",
    "no_combs = ways_ordered // no_shuffles\n",
    "\n",
    "# Show.\n",
    "no_combs"
   ]
  },
  {
   "cell_type": "markdown",
   "metadata": {},
   "source": [
    "## Formula\n",
    "\n",
    "In mathematics, the [`math.comb()`](https://docs.python.org/3/library/math.html#math.comb') function is called the *choose* function.\n",
    "\n",
    "It is written and calculated as\n",
    "\n",
    "$\\binom{n}{k} = \\frac{n!}{k!(n-k)!}$\n",
    "\n",
    "**Factorial**  \n",
    "\n",
    "**n!** = the multiplication of all positive integers, say \"n\", that will be smaller than or equivalent to n is known as the factorial.\n",
    "\n",
    "**Number of cups of tea in total.**  \n",
    "\n",
    "**n** = 8\n",
    "\n",
    "**Number of cups of tea with milk/tea in first.**  \n",
    "\n",
    "**k** = 4"
   ]
  },
  {
   "cell_type": "markdown",
   "metadata": {},
   "source": [
    "## [math.factorial](https://docs.python.org/3/library/math.html#math.factorial)"
   ]
  },
  {
   "cell_type": "code",
   "execution_count": 8,
   "metadata": {},
   "outputs": [
    {
     "data": {
      "text/plain": [
       "70"
      ]
     },
     "execution_count": 8,
     "metadata": {},
     "output_type": "execute_result"
    }
   ],
   "source": [
    "# Number of cups\n",
    "n = 8\n",
    "\n",
    "# Number of cups of tea with milk/tea first.\n",
    "k = 4\n",
    "\n",
    "# Factorial on number of cups.\n",
    "fact_n = math.factorial(n)\n",
    "\n",
    "# Factorial of number of cups of tea with milk/tea first.\n",
    "fact_k = math.factorial(k)\n",
    "\n",
    "# Factorial of  number of cups - number of cups of tea with milk/tea first.\n",
    "diff_n_k =  n-k\n",
    "fact_diff_n_k = math.factorial(diff_n_k)\n",
    "\n",
    "# Applying formula: COMBINATION\n",
    "# No of ways of selecting k objects from n without replacement and without order.\n",
    "comb = fact_n // (fact_k * fact_diff_n_k)\n",
    "\n",
    "# Show result.\n",
    "comb"
   ]
  },
  {
   "cell_type": "markdown",
   "metadata": {},
   "source": [
    "```  \n",
    "n! = 8 x 7 x 6 x 5 x 4 x 3 x 2 x 1  \n",
    "k! = 4 x 3 x 2 x 1  \n",
    "(n - k)! = 4 x 3 x 2 x 1  \n",
    "n!/(n-k) = (8 x 7 x 6 x 5 x 4 x 3 x 2 x 1) / (4 x 3 x 2 x 1) = 8 x 7 x 6 x 5  \n",
    "```  "
   ]
  },
  {
   "cell_type": "markdown",
   "metadata": {},
   "source": [
    "\n",
    "## Ordering of Results\n",
    "\n",
    "https://docs.python.org/3/library/itertools.html#itertools.combinations"
   ]
  },
  {
   "cell_type": "code",
   "execution_count": 9,
   "metadata": {},
   "outputs": [
    {
     "data": {
      "text/plain": [
       "[0, 1, 2, 3, 4, 5, 6, 7]"
      ]
     },
     "execution_count": 9,
     "metadata": {},
     "output_type": "execute_result"
    }
   ],
   "source": [
    "# The cups labels.\n",
    "labels = list(range(no_cups))\n",
    "\n",
    "# Show.\n",
    "labels"
   ]
  },
  {
   "cell_type": "code",
   "execution_count": 13,
   "metadata": {},
   "outputs": [
    {
     "data": {
      "text/plain": [
       "[(0, 1, 2, 3),\n",
       " (0, 1, 2, 4),\n",
       " (0, 1, 2, 5),\n",
       " (0, 1, 2, 6),\n",
       " (0, 1, 2, 7),\n",
       " (0, 1, 3, 4),\n",
       " (0, 1, 3, 5),\n",
       " (0, 1, 3, 6),\n",
       " (0, 1, 3, 7),\n",
       " (0, 1, 4, 5),\n",
       " (0, 1, 4, 6),\n",
       " (0, 1, 4, 7),\n",
       " (0, 1, 5, 6),\n",
       " (0, 1, 5, 7),\n",
       " (0, 1, 6, 7),\n",
       " (0, 2, 3, 4),\n",
       " (0, 2, 3, 5),\n",
       " (0, 2, 3, 6),\n",
       " (0, 2, 3, 7),\n",
       " (0, 2, 4, 5),\n",
       " (0, 2, 4, 6),\n",
       " (0, 2, 4, 7),\n",
       " (0, 2, 5, 6),\n",
       " (0, 2, 5, 7),\n",
       " (0, 2, 6, 7),\n",
       " (0, 3, 4, 5),\n",
       " (0, 3, 4, 6),\n",
       " (0, 3, 4, 7),\n",
       " (0, 3, 5, 6),\n",
       " (0, 3, 5, 7),\n",
       " (0, 3, 6, 7),\n",
       " (0, 4, 5, 6),\n",
       " (0, 4, 5, 7),\n",
       " (0, 4, 6, 7),\n",
       " (0, 5, 6, 7),\n",
       " (1, 2, 3, 4),\n",
       " (1, 2, 3, 5),\n",
       " (1, 2, 3, 6),\n",
       " (1, 2, 3, 7),\n",
       " (1, 2, 4, 5),\n",
       " (1, 2, 4, 6),\n",
       " (1, 2, 4, 7),\n",
       " (1, 2, 5, 6),\n",
       " (1, 2, 5, 7),\n",
       " (1, 2, 6, 7),\n",
       " (1, 3, 4, 5),\n",
       " (1, 3, 4, 6),\n",
       " (1, 3, 4, 7),\n",
       " (1, 3, 5, 6),\n",
       " (1, 3, 5, 7),\n",
       " (1, 3, 6, 7),\n",
       " (1, 4, 5, 6),\n",
       " (1, 4, 5, 7),\n",
       " (1, 4, 6, 7),\n",
       " (1, 5, 6, 7),\n",
       " (2, 3, 4, 5),\n",
       " (2, 3, 4, 6),\n",
       " (2, 3, 4, 7),\n",
       " (2, 3, 5, 6),\n",
       " (2, 3, 5, 7),\n",
       " (2, 3, 6, 7),\n",
       " (2, 4, 5, 6),\n",
       " (2, 4, 5, 7),\n",
       " (2, 4, 6, 7),\n",
       " (2, 5, 6, 7),\n",
       " (3, 4, 5, 6),\n",
       " (3, 4, 5, 7),\n",
       " (3, 4, 6, 7),\n",
       " (3, 5, 6, 7),\n",
       " (4, 5, 6, 7)]"
      ]
     },
     "execution_count": 13,
     "metadata": {},
     "output_type": "execute_result"
    }
   ],
   "source": [
    "# Shiw the different ways of selecting no_cups+milk_first out of no_cuos cups of tea.\n",
    "combs = list(itertools.combinations(labels,no_cups_milk_first))\n",
    "\n",
    "# Show,\n",
    "combs"
   ]
  },
  {
   "cell_type": "code",
   "execution_count": 15,
   "metadata": {},
   "outputs": [
    {
     "data": {
      "text/plain": [
       "70"
      ]
     },
     "execution_count": 15,
     "metadata": {},
     "output_type": "execute_result"
    }
   ],
   "source": [
    "# Number of combinations.\n",
    "len(combs)"
   ]
  },
  {
   "cell_type": "code",
   "execution_count": 24,
   "metadata": {},
   "outputs": [
    {
     "data": {
      "text/plain": [
       "[0, 1, 2, 4]"
      ]
     },
     "execution_count": 24,
     "metadata": {},
     "output_type": "execute_result"
    }
   ],
   "source": [
    "# Select four cups at random to put milk in first.\n",
    "# https://docs.python.org/3/library/random.html#random.sample\n",
    "labels_milk = random.sample(labels, 4)\n",
    "\n",
    "# Sort in place.\n",
    "labels_milk.sort()\n",
    "\n",
    "# Show\n",
    "labels_milk"
   ]
  },
  {
   "cell_type": "code",
   "execution_count": 26,
   "metadata": {},
   "outputs": [
    {
     "data": {
      "text/plain": [
       "{0, 1, 2, 4}"
      ]
     },
     "execution_count": 26,
     "metadata": {},
     "output_type": "execute_result"
    }
   ],
   "source": [
    "# Turn labels_milk into a set.\n",
    "# Uses: https://docs.python.org/3/tutorial/datastructures.html#sets\n",
    "set(labels_milk)"
   ]
  },
  {
   "cell_type": "code",
   "execution_count": 30,
   "metadata": {},
   "outputs": [
    {
     "name": "stdout",
     "output_type": "stream",
     "text": [
      "(0, 1, 2, 3) {0, 1, 2} 3\n",
      "(0, 1, 2, 4) {0, 1, 2, 4} 4\n",
      "(0, 1, 2, 5) {0, 1, 2} 3\n",
      "(0, 1, 2, 6) {0, 1, 2} 3\n",
      "(0, 1, 2, 7) {0, 1, 2} 3\n",
      "(0, 1, 3, 4) {0, 1, 4} 3\n",
      "(0, 1, 3, 5) {0, 1} 2\n",
      "(0, 1, 3, 6) {0, 1} 2\n",
      "(0, 1, 3, 7) {0, 1} 2\n",
      "(0, 1, 4, 5) {0, 1, 4} 3\n",
      "(0, 1, 4, 6) {0, 1, 4} 3\n",
      "(0, 1, 4, 7) {0, 1, 4} 3\n",
      "(0, 1, 5, 6) {0, 1} 2\n",
      "(0, 1, 5, 7) {0, 1} 2\n",
      "(0, 1, 6, 7) {0, 1} 2\n",
      "(0, 2, 3, 4) {0, 2, 4} 3\n",
      "(0, 2, 3, 5) {0, 2} 2\n",
      "(0, 2, 3, 6) {0, 2} 2\n",
      "(0, 2, 3, 7) {0, 2} 2\n",
      "(0, 2, 4, 5) {0, 2, 4} 3\n",
      "(0, 2, 4, 6) {0, 2, 4} 3\n",
      "(0, 2, 4, 7) {0, 2, 4} 3\n",
      "(0, 2, 5, 6) {0, 2} 2\n",
      "(0, 2, 5, 7) {0, 2} 2\n",
      "(0, 2, 6, 7) {0, 2} 2\n",
      "(0, 3, 4, 5) {0, 4} 2\n",
      "(0, 3, 4, 6) {0, 4} 2\n",
      "(0, 3, 4, 7) {0, 4} 2\n",
      "(0, 3, 5, 6) {0} 1\n",
      "(0, 3, 5, 7) {0} 1\n",
      "(0, 3, 6, 7) {0} 1\n",
      "(0, 4, 5, 6) {0, 4} 2\n",
      "(0, 4, 5, 7) {0, 4} 2\n",
      "(0, 4, 6, 7) {0, 4} 2\n",
      "(0, 5, 6, 7) {0} 1\n",
      "(1, 2, 3, 4) {1, 2, 4} 3\n",
      "(1, 2, 3, 5) {1, 2} 2\n",
      "(1, 2, 3, 6) {1, 2} 2\n",
      "(1, 2, 3, 7) {1, 2} 2\n",
      "(1, 2, 4, 5) {1, 2, 4} 3\n",
      "(1, 2, 4, 6) {1, 2, 4} 3\n",
      "(1, 2, 4, 7) {1, 2, 4} 3\n",
      "(1, 2, 5, 6) {1, 2} 2\n",
      "(1, 2, 5, 7) {1, 2} 2\n",
      "(1, 2, 6, 7) {1, 2} 2\n",
      "(1, 3, 4, 5) {1, 4} 2\n",
      "(1, 3, 4, 6) {1, 4} 2\n",
      "(1, 3, 4, 7) {1, 4} 2\n",
      "(1, 3, 5, 6) {1} 1\n",
      "(1, 3, 5, 7) {1} 1\n",
      "(1, 3, 6, 7) {1} 1\n",
      "(1, 4, 5, 6) {1, 4} 2\n",
      "(1, 4, 5, 7) {1, 4} 2\n",
      "(1, 4, 6, 7) {1, 4} 2\n",
      "(1, 5, 6, 7) {1} 1\n",
      "(2, 3, 4, 5) {2, 4} 2\n",
      "(2, 3, 4, 6) {2, 4} 2\n",
      "(2, 3, 4, 7) {2, 4} 2\n",
      "(2, 3, 5, 6) {2} 1\n",
      "(2, 3, 5, 7) {2} 1\n",
      "(2, 3, 6, 7) {2} 1\n",
      "(2, 4, 5, 6) {2, 4} 2\n",
      "(2, 4, 5, 7) {2, 4} 2\n",
      "(2, 4, 6, 7) {2, 4} 2\n",
      "(2, 5, 6, 7) {2} 1\n",
      "(3, 4, 5, 6) {4} 1\n",
      "(3, 4, 5, 7) {4} 1\n",
      "(3, 4, 6, 7) {4} 1\n",
      "(3, 5, 6, 7) set() 0\n",
      "(4, 5, 6, 7) {4} 1\n"
     ]
    }
   ],
   "source": [
    "# Calculate the overlap between each element of combs and labels_milk.\n",
    "\n",
    "no_overlaps = []\n",
    "\n",
    "for comb in combs:\n",
    "    # Turn comb into a set.\n",
    "    s1 = set(comb)\n",
    "    # Turn labels_milk into a set.\n",
    "    s2 = set(labels_milk)\n",
    "    # Figure out where they overlap.\n",
    "    overlap = s1.intersection(s2)\n",
    "    print(comb, overlap, len(overlap))\n",
    "    # Append overlaps to no_overlaps.\n",
    "    no_overlaps.append(len(overlap))\n"
   ]
  },
  {
   "cell_type": "code",
   "execution_count": 31,
   "metadata": {},
   "outputs": [
    {
     "name": "stdout",
     "output_type": "stream",
     "text": [
      "[3, 4, 3, 3, 3, 3, 2, 2, 2, 3, 3, 3, 2, 2, 2, 3, 2, 2, 2, 3, 3, 3, 2, 2, 2, 2, 2, 2, 1, 1, 1, 2, 2, 2, 1, 3, 2, 2, 2, 3, 3, 3, 2, 2, 2, 2, 2, 2, 1, 1, 1, 2, 2, 2, 1, 2, 2, 2, 1, 1, 1, 2, 2, 2, 1, 1, 1, 1, 0, 1]\n"
     ]
    }
   ],
   "source": [
    "# Show the overlaps.\n",
    "print(no_overlaps)"
   ]
  },
  {
   "cell_type": "code",
   "execution_count": 37,
   "metadata": {},
   "outputs": [
    {
     "data": {
      "text/plain": [
       "(array([0, 1, 2, 3, 4]), array([ 1, 16, 36, 16,  1]))"
      ]
     },
     "execution_count": 37,
     "metadata": {},
     "output_type": "execute_result"
    }
   ],
   "source": [
    "# Count the number of times each overlap occurs.\n",
    "counts = np.unique(no_overlaps, return_counts=True)\n",
    "\n",
    "# Show.\n",
    "counts"
   ]
  },
  {
   "cell_type": "code",
   "execution_count": 40,
   "metadata": {},
   "outputs": [
    {
     "data": {
      "text/plain": [
       "<BarContainer object of 5 artists>"
      ]
     },
     "execution_count": 40,
     "metadata": {},
     "output_type": "execute_result"
    },
    {
     "data": {
      "image/png": "[encoded data removed]",
      "text/plain": [
       "<Figure size 600x400 with 1 Axes>"
      ]
     },
     "metadata": {},
     "output_type": "display_data"
    }
   ],
   "source": [
    "# Create a figure.\n",
    "fig, ax = plt.subplots(figsize =(6,4))\n",
    "\n",
    "# Bar chart.\n",
    "ax.bar(counts[0], counts[1])"
   ]
  },
  {
   "cell_type": "markdown",
   "metadata": {},
   "source": [
    "### The Null Hypothsis"
   ]
  },
  {
   "cell_type": "markdown",
   "metadata": {},
   "source": [
    "- The lady has no special power to tell the difference between cups of tea with milk in first amd cups of tea with tea in first.  \n",
    "\n",
    "- The lady is selecting the four cups from the eight at random."
   ]
  },
  {
   "cell_type": "markdown",
   "metadata": {},
   "source": [
    "### The Alternative Hypothesis"
   ]
  },
  {
   "cell_type": "markdown",
   "metadata": {},
   "source": [
    "- The lady can tell the difference."
   ]
  },
  {
   "cell_type": "markdown",
   "metadata": {},
   "source": [
    "==> **EVIDENCE**"
   ]
  },
  {
   "cell_type": "markdown",
   "metadata": {},
   "source": [
    "Fisher: if the lady is just picking four cups at random, then it is unlikely she will pick the correct four. The probability is one in seventy. It is so unlikely, that I will agree that something non-random is happening when she is selecting the cups of tea."
   ]
  },
  {
   "cell_type": "code",
   "execution_count": 1,
   "metadata": {},
   "outputs": [
    {
     "data": {
      "text/plain": [
       "0.014285714285714285"
      ]
     },
     "execution_count": 1,
     "metadata": {},
     "output_type": "execute_result"
    }
   ],
   "source": [
    "# The probability that she (randomly) selects the four correct cups.\n",
    "1 / 70"
   ]
  },
  {
   "cell_type": "code",
   "execution_count": 2,
   "metadata": {},
   "outputs": [
    {
     "data": {
      "text/plain": [
       "0.24285714285714285"
      ]
     },
     "execution_count": 2,
     "metadata": {},
     "output_type": "execute_result"
    }
   ],
   "source": [
    "# The probability that she (randomly) selects at least thee correct cups.\n",
    "(16 + 1) / 70"
   ]
  },
  {
   "cell_type": "markdown",
   "metadata": {},
   "source": [
    "### Type I Errors, Type II Errors, and Power"
   ]
  },
  {
   "cell_type": "markdown",
   "metadata": {},
   "source": [
    " - Type I and Type II errors: https://en.wikipedia.org/wiki/Type_I_and_type_II_errors\n",
    " - Power: https://en.wikipedia.org/wiki/Power_(statistics)"
   ]
  },
  {
   "cell_type": "markdown",
   "metadata": {},
   "source": [
    "# Task 2: numpy's Normal Distribution"
   ]
  },
  {
   "cell_type": "code",
   "execution_count": 20,
   "metadata": {},
   "outputs": [],
   "source": [
    "# Binomial distribution.\n",
    "import numpy as np\n",
    "\n",
    "# Plotting.\n",
    "import matplotlib.pyplot as plt"
   ]
  },
  {
   "cell_type": "markdown",
   "metadata": {},
   "source": [
    "### Flipping Several Coins"
   ]
  },
  {
   "cell_type": "code",
   "execution_count": 12,
   "metadata": {},
   "outputs": [
    {
     "name": "stdout",
     "output_type": "stream",
     "text": [
      "Head\n"
     ]
    }
   ],
   "source": [
    "# Flip a single coin.\n",
    "coin = [\"Tail\", \"Head\"]\n",
    "flip = np.random.binomial(1, 0.5)  # 0 for Tail, 1 for Head\n",
    "print(coin[flip])"
   ]
  },
  {
   "cell_type": "code",
   "execution_count": 16,
   "metadata": {},
   "outputs": [
    {
     "name": "stdout",
     "output_type": "stream",
     "text": [
      "Tail\n",
      "Head\n",
      "Tail\n",
      "Tail\n",
      "Tail\n",
      "Tail\n",
      "Tail\n",
      "Tail\n",
      "Tail\n",
      "Head\n",
      "Head\n",
      "Tail\n",
      "Head\n",
      "Tail\n",
      "Head\n",
      "Tail\n",
      "Tail\n",
      "Head\n",
      "Tail\n",
      "Tail\n",
      "Head\n",
      "Head\n",
      "Head\n",
      "Tail\n",
      "Tail\n",
      "Head\n",
      "Tail\n",
      "Tail\n",
      "Head\n",
      "Head\n",
      "Tail\n",
      "Head\n",
      "Head\n",
      "Head\n",
      "Head\n",
      "Tail\n",
      "Head\n",
      "Tail\n",
      "Tail\n",
      "Tail\n",
      "Tail\n",
      "Head\n",
      "Tail\n",
      "Tail\n",
      "Tail\n",
      "Head\n",
      "Head\n",
      "Head\n",
      "Head\n",
      "Head\n",
      "Head\n",
      "Head\n",
      "Head\n",
      "Tail\n",
      "Head\n",
      "Tail\n",
      "Tail\n",
      "Tail\n",
      "Head\n",
      "Tail\n",
      "Tail\n",
      "Tail\n",
      "Head\n",
      "Head\n",
      "Head\n",
      "Tail\n",
      "Head\n",
      "Head\n",
      "Head\n",
      "Head\n",
      "Tail\n",
      "Head\n",
      "Tail\n",
      "Tail\n",
      "Tail\n",
      "Head\n",
      "Tail\n",
      "Tail\n",
      "Head\n",
      "Tail\n",
      "Head\n",
      "Head\n",
      "Tail\n",
      "Tail\n",
      "Head\n",
      "Tail\n",
      "Head\n",
      "Head\n",
      "Head\n",
      "Tail\n",
      "Tail\n",
      "Head\n",
      "Head\n",
      "Tail\n",
      "Tail\n",
      "Head\n",
      "Tail\n",
      "Tail\n",
      "Tail\n",
      "Head\n",
      "Head\n",
      "Tail\n",
      "Tail\n",
      "Head\n",
      "Head\n",
      "Head\n",
      "Tail\n",
      "Tail\n",
      "Tail\n",
      "Tail\n",
      "Head\n",
      "Head\n",
      "Tail\n",
      "Tail\n",
      "Tail\n",
      "Head\n",
      "Head\n",
      "Tail\n",
      "Head\n",
      "Tail\n",
      "Tail\n",
      "Tail\n",
      "Tail\n",
      "Head\n",
      "Tail\n",
      "Head\n",
      "Tail\n",
      "Tail\n",
      "Head\n",
      "Head\n",
      "Head\n",
      "Head\n",
      "Head\n",
      "Tail\n",
      "Head\n",
      "Tail\n",
      "Head\n",
      "Head\n",
      "Tail\n",
      "Tail\n",
      "Tail\n",
      "Tail\n",
      "Tail\n",
      "Tail\n",
      "Head\n",
      "Tail\n",
      "Head\n",
      "Tail\n",
      "Head\n",
      "Tail\n",
      "Head\n",
      "Head\n",
      "Head\n",
      "Tail\n",
      "Head\n",
      "Tail\n",
      "Tail\n",
      "Tail\n",
      "Head\n",
      "Tail\n",
      "Head\n",
      "Head\n",
      "Head\n",
      "Tail\n",
      "Tail\n",
      "Tail\n",
      "Tail\n",
      "Tail\n",
      "Tail\n",
      "Head\n",
      "Head\n",
      "Head\n",
      "Tail\n",
      "Tail\n",
      "Tail\n",
      "Tail\n",
      "Head\n",
      "Head\n",
      "Tail\n",
      "Head\n",
      "Head\n",
      "Head\n",
      "Head\n",
      "Tail\n",
      "Tail\n",
      "Head\n",
      "Head\n",
      "Head\n",
      "Tail\n",
      "Head\n",
      "Tail\n",
      "Tail\n",
      "Tail\n",
      "Head\n",
      "Tail\n",
      "Head\n",
      "Head\n",
      "Head\n",
      "Head\n",
      "Head\n",
      "Tail\n",
      "Tail\n",
      "Tail\n",
      "Head\n",
      "Tail\n",
      "Head\n",
      "Tail\n",
      "Head\n",
      "Head\n",
      "Tail\n",
      "Head\n",
      "Head\n",
      "Tail\n",
      "Head\n",
      "Tail\n",
      "Head\n",
      "Head\n",
      "Head\n",
      "Head\n",
      "Head\n",
      "Head\n",
      "Head\n",
      "Tail\n",
      "Tail\n",
      "Tail\n",
      "Tail\n",
      "Tail\n",
      "Tail\n",
      "Tail\n",
      "Tail\n",
      "Head\n",
      "Tail\n",
      "Head\n",
      "Head\n",
      "Head\n",
      "Tail\n",
      "Head\n",
      "Head\n",
      "Head\n",
      "Tail\n",
      "Tail\n",
      "Tail\n",
      "Tail\n",
      "Tail\n",
      "Head\n",
      "Head\n",
      "Head\n",
      "Head\n",
      "Tail\n",
      "Tail\n",
      "Head\n",
      "Head\n",
      "Tail\n",
      "Tail\n",
      "Head\n",
      "Tail\n",
      "Tail\n",
      "Head\n",
      "Head\n",
      "Head\n",
      "Head\n",
      "Tail\n",
      "Head\n",
      "Head\n",
      "Tail\n",
      "Tail\n",
      "Tail\n",
      "Head\n",
      "Head\n",
      "Head\n",
      "Tail\n",
      "Tail\n",
      "Tail\n",
      "Head\n",
      "Tail\n",
      "Head\n",
      "Tail\n",
      "Tail\n",
      "Head\n",
      "Tail\n",
      "Tail\n",
      "Head\n",
      "Tail\n",
      "Head\n",
      "Head\n",
      "Head\n",
      "Tail\n",
      "Tail\n",
      "Tail\n",
      "Tail\n",
      "Tail\n",
      "Head\n",
      "Head\n",
      "Head\n",
      "Tail\n",
      "Tail\n",
      "Tail\n",
      "Head\n",
      "Tail\n",
      "Head\n",
      "Head\n",
      "Tail\n",
      "Head\n",
      "Head\n",
      "Tail\n",
      "Head\n",
      "Head\n",
      "Tail\n",
      "Head\n",
      "Head\n",
      "Tail\n",
      "Tail\n",
      "Tail\n",
      "Tail\n",
      "Head\n",
      "Head\n",
      "Head\n",
      "Head\n",
      "Tail\n",
      "Head\n",
      "Tail\n",
      "Tail\n",
      "Head\n",
      "Head\n",
      "Head\n",
      "Head\n",
      "Tail\n",
      "Head\n",
      "Tail\n",
      "Head\n",
      "Head\n",
      "Tail\n",
      "Tail\n",
      "Head\n",
      "Head\n",
      "Tail\n",
      "Tail\n",
      "Tail\n",
      "Head\n",
      "Head\n",
      "Tail\n",
      "Head\n",
      "Tail\n",
      "Head\n",
      "Head\n",
      "Head\n",
      "Head\n",
      "Tail\n",
      "Tail\n",
      "Tail\n",
      "Tail\n",
      "Tail\n",
      "Tail\n",
      "Head\n",
      "Head\n",
      "Head\n",
      "Head\n",
      "Head\n",
      "Tail\n",
      "Tail\n",
      "Head\n",
      "Tail\n",
      "Head\n",
      "Head\n",
      "Head\n",
      "Head\n",
      "Head\n",
      "Head\n",
      "Head\n",
      "Tail\n",
      "Tail\n",
      "Tail\n",
      "Head\n",
      "Tail\n",
      "Tail\n",
      "Tail\n",
      "Tail\n",
      "Tail\n",
      "Tail\n",
      "Head\n",
      "Tail\n",
      "Head\n",
      "Tail\n",
      "Head\n",
      "Tail\n",
      "Head\n",
      "Tail\n",
      "Tail\n",
      "Tail\n",
      "Head\n",
      "Head\n",
      "Tail\n",
      "Tail\n",
      "Tail\n",
      "Tail\n",
      "Head\n",
      "Tail\n",
      "Head\n",
      "Head\n",
      "Tail\n",
      "Tail\n",
      "Tail\n",
      "Tail\n",
      "Tail\n",
      "Tail\n",
      "Head\n",
      "Head\n",
      "Head\n",
      "Tail\n",
      "Head\n",
      "Tail\n",
      "Head\n",
      "Tail\n",
      "Tail\n",
      "Head\n",
      "Head\n",
      "Head\n",
      "Head\n",
      "Head\n",
      "Head\n",
      "Tail\n",
      "Head\n",
      "Head\n",
      "Tail\n",
      "Head\n",
      "Tail\n",
      "Tail\n",
      "Head\n",
      "Tail\n",
      "Head\n",
      "Tail\n",
      "Tail\n",
      "Tail\n",
      "Head\n",
      "Tail\n",
      "Head\n",
      "Tail\n",
      "Tail\n",
      "Head\n",
      "Head\n",
      "Tail\n",
      "Tail\n",
      "Head\n",
      "Tail\n",
      "Head\n",
      "Tail\n",
      "Tail\n",
      "Head\n",
      "Head\n",
      "Head\n",
      "Tail\n",
      "Head\n",
      "Tail\n",
      "Head\n",
      "Tail\n",
      "Tail\n",
      "Head\n",
      "Head\n",
      "Head\n",
      "Tail\n",
      "Tail\n",
      "Tail\n",
      "Tail\n",
      "Tail\n",
      "Head\n",
      "Tail\n",
      "Tail\n",
      "Tail\n",
      "Head\n",
      "Head\n",
      "Tail\n",
      "Head\n",
      "Head\n",
      "Tail\n",
      "Head\n",
      "Tail\n",
      "Head\n",
      "Tail\n",
      "Head\n",
      "Tail\n",
      "Head\n",
      "Tail\n",
      "Head\n",
      "Tail\n",
      "Head\n",
      "Tail\n",
      "Tail\n",
      "Tail\n",
      "Head\n",
      "Head\n",
      "Tail\n",
      "Head\n",
      "Head\n",
      "Head\n",
      "Tail\n",
      "Tail\n",
      "Tail\n",
      "Head\n",
      "Tail\n",
      "Head\n",
      "Head\n",
      "Tail\n",
      "Head\n",
      "Head\n",
      "Tail\n",
      "Head\n",
      "Tail\n",
      "Tail\n",
      "Tail\n",
      "Tail\n",
      "Tail\n",
      "Tail\n",
      "Tail\n",
      "Head\n",
      "Tail\n",
      "Tail\n",
      "Head\n",
      "Tail\n",
      "Tail\n",
      "Head\n",
      "Tail\n",
      "Head\n",
      "Tail\n",
      "Head\n",
      "Tail\n",
      "Head\n",
      "Tail\n",
      "Head\n",
      "Head\n",
      "Tail\n",
      "Head\n",
      "Tail\n",
      "Head\n",
      "Tail\n",
      "Head\n",
      "Head\n",
      "Head\n",
      "Head\n",
      "Head\n",
      "Tail\n",
      "Tail\n",
      "Tail\n",
      "Head\n",
      "Tail\n",
      "Head\n",
      "Tail\n",
      "Head\n",
      "Tail\n",
      "Head\n",
      "Tail\n",
      "Tail\n",
      "Tail\n",
      "Tail\n",
      "Tail\n",
      "Head\n",
      "Head\n",
      "Head\n",
      "Head\n",
      "Head\n",
      "Tail\n",
      "Tail\n",
      "Tail\n",
      "Head\n",
      "Tail\n",
      "Tail\n",
      "Head\n",
      "Tail\n",
      "Tail\n",
      "Tail\n",
      "Tail\n",
      "Tail\n",
      "Tail\n",
      "Head\n",
      "Head\n",
      "Head\n",
      "Tail\n",
      "Head\n",
      "Head\n",
      "Head\n",
      "Head\n",
      "Tail\n",
      "Tail\n",
      "Head\n",
      "Tail\n",
      "Tail\n",
      "Tail\n",
      "Head\n",
      "Tail\n",
      "Head\n",
      "Tail\n",
      "Head\n",
      "Tail\n",
      "Tail\n",
      "Tail\n",
      "Tail\n",
      "Tail\n",
      "Head\n",
      "Tail\n",
      "Tail\n",
      "Head\n",
      "Tail\n",
      "Tail\n",
      "Head\n",
      "Head\n",
      "Head\n",
      "Tail\n",
      "Head\n",
      "Head\n",
      "Head\n",
      "Head\n",
      "Head\n",
      "Tail\n",
      "Head\n",
      "Head\n",
      "Head\n",
      "Head\n",
      "Tail\n",
      "Head\n",
      "Tail\n",
      "Head\n",
      "Head\n",
      "Head\n",
      "Tail\n",
      "Tail\n",
      "Tail\n",
      "Tail\n",
      "Head\n",
      "Tail\n",
      "Tail\n",
      "Head\n",
      "Head\n",
      "Head\n",
      "Head\n",
      "Head\n",
      "Head\n",
      "Head\n",
      "Head\n",
      "Tail\n",
      "Head\n",
      "Head\n",
      "Tail\n",
      "Tail\n",
      "Head\n",
      "Head\n",
      "Tail\n",
      "Head\n",
      "Head\n",
      "Head\n",
      "Tail\n",
      "Head\n",
      "Head\n",
      "Head\n",
      "Tail\n",
      "Tail\n",
      "Head\n",
      "Head\n",
      "Head\n",
      "Head\n",
      "Tail\n",
      "Tail\n",
      "Head\n",
      "Tail\n",
      "Head\n",
      "Head\n",
      "Head\n",
      "Head\n",
      "Head\n",
      "Tail\n",
      "Head\n",
      "Tail\n",
      "Head\n",
      "Head\n",
      "Tail\n",
      "Head\n",
      "Tail\n",
      "Head\n",
      "Tail\n",
      "Head\n",
      "Head\n",
      "Head\n",
      "Head\n",
      "Tail\n",
      "Head\n",
      "Tail\n",
      "Head\n",
      "Head\n",
      "Head\n",
      "Tail\n",
      "Tail\n",
      "Tail\n",
      "Tail\n",
      "Tail\n",
      "Tail\n",
      "Head\n",
      "Tail\n",
      "Head\n",
      "Head\n",
      "Head\n",
      "Tail\n",
      "Head\n",
      "Tail\n",
      "Tail\n",
      "Tail\n",
      "Head\n",
      "Head\n",
      "Head\n",
      "Tail\n",
      "Head\n",
      "Tail\n",
      "Tail\n",
      "Head\n",
      "Head\n",
      "Tail\n",
      "Head\n",
      "Tail\n",
      "Tail\n",
      "Tail\n",
      "Head\n",
      "Head\n",
      "Tail\n",
      "Head\n",
      "Head\n",
      "Head\n",
      "Tail\n",
      "Head\n",
      "Head\n",
      "Head\n",
      "Head\n",
      "Tail\n",
      "Tail\n",
      "Tail\n",
      "Head\n",
      "Tail\n",
      "Head\n",
      "Head\n",
      "Head\n",
      "Tail\n",
      "Head\n",
      "Head\n",
      "Head\n",
      "Tail\n",
      "Tail\n",
      "Head\n",
      "Head\n",
      "Head\n",
      "Tail\n",
      "Tail\n",
      "Head\n",
      "Head\n",
      "Tail\n",
      "Tail\n",
      "Tail\n",
      "Head\n",
      "Tail\n",
      "Tail\n",
      "Head\n",
      "Tail\n",
      "Tail\n",
      "Tail\n",
      "Head\n",
      "Head\n",
      "Head\n",
      "Tail\n",
      "Head\n",
      "Head\n",
      "Tail\n",
      "Tail\n",
      "Head\n",
      "Head\n",
      "Tail\n",
      "Tail\n",
      "Tail\n",
      "Head\n",
      "Tail\n",
      "Head\n",
      "Tail\n",
      "Tail\n",
      "Tail\n",
      "Head\n",
      "Head\n",
      "Head\n",
      "Head\n",
      "Head\n",
      "Tail\n",
      "Tail\n",
      "Tail\n",
      "Head\n",
      "Tail\n",
      "Head\n",
      "Head\n",
      "Tail\n",
      "Tail\n",
      "Tail\n",
      "Tail\n",
      "Tail\n",
      "Tail\n",
      "Tail\n",
      "Tail\n",
      "Tail\n",
      "Tail\n",
      "Tail\n",
      "Tail\n",
      "Head\n",
      "Tail\n",
      "Tail\n",
      "Tail\n",
      "Tail\n",
      "Head\n",
      "Head\n",
      "Tail\n",
      "Head\n",
      "Head\n",
      "Tail\n",
      "Tail\n",
      "Head\n",
      "Head\n",
      "Head\n",
      "Head\n",
      "Head\n",
      "Tail\n",
      "Tail\n",
      "Tail\n",
      "Tail\n",
      "Tail\n",
      "Tail\n",
      "Tail\n",
      "Head\n",
      "Head\n",
      "Head\n",
      "Tail\n",
      "Tail\n",
      "Tail\n",
      "Tail\n",
      "Head\n",
      "Tail\n",
      "Head\n",
      "Tail\n",
      "Tail\n",
      "Head\n",
      "Head\n",
      "Head\n",
      "Head\n",
      "Head\n",
      "Head\n",
      "Tail\n",
      "Head\n",
      "Tail\n",
      "Head\n",
      "Head\n",
      "Tail\n",
      "Tail\n",
      "Head\n",
      "Tail\n",
      "Head\n",
      "Tail\n",
      "Head\n",
      "Tail\n",
      "Head\n",
      "Head\n",
      "Tail\n",
      "Tail\n",
      "Head\n",
      "Head\n",
      "Head\n",
      "Head\n",
      "Tail\n",
      "Head\n",
      "Tail\n",
      "Tail\n",
      "Tail\n",
      "Tail\n",
      "Head\n",
      "Tail\n",
      "Head\n",
      "Head\n",
      "Tail\n",
      "Head\n",
      "Head\n",
      "Tail\n",
      "Tail\n",
      "Tail\n",
      "Tail\n",
      "Tail\n",
      "Tail\n",
      "Tail\n",
      "Head\n",
      "Head\n",
      "Head\n",
      "Head\n",
      "Tail\n",
      "Tail\n",
      "Tail\n",
      "Head\n",
      "Tail\n",
      "Tail\n",
      "Head\n",
      "Tail\n",
      "Head\n",
      "Tail\n",
      "Tail\n",
      "Head\n",
      "Head\n",
      "Tail\n",
      "Tail\n",
      "Head\n",
      "Tail\n",
      "Tail\n",
      "Tail\n",
      "Head\n",
      "Tail\n",
      "Head\n",
      "Head\n",
      "Tail\n",
      "Tail\n",
      "Tail\n",
      "Tail\n",
      "Tail\n",
      "Tail\n",
      "Tail\n",
      "Head\n",
      "Tail\n",
      "Head\n",
      "Tail\n",
      "Head\n",
      "Tail\n",
      "Tail\n",
      "Tail\n",
      "Head\n",
      "Head\n",
      "Tail\n",
      "Tail\n",
      "Tail\n",
      "Tail\n",
      "Tail\n",
      "Head\n",
      "Head\n",
      "Tail\n",
      "Head\n",
      "Tail\n",
      "Head\n",
      "Head\n",
      "Tail\n",
      "Head\n",
      "Tail\n",
      "Head\n",
      "Tail\n",
      "Tail\n",
      "Head\n",
      "Tail\n",
      "Head\n",
      "Tail\n",
      "Tail\n",
      "Head\n",
      "Tail\n",
      "Tail\n",
      "Tail\n",
      "Tail\n",
      "Head\n",
      "Tail\n",
      "Head\n",
      "Tail\n",
      "Head\n",
      "Head\n",
      "Tail\n",
      "Head\n",
      "Head\n",
      "Tail\n",
      "Tail\n",
      "Head\n",
      "Head\n",
      "Tail\n",
      "Head\n",
      "Head\n",
      "Head\n",
      "Head\n",
      "Head\n",
      "Tail\n",
      "Head\n",
      "Head\n",
      "Head\n",
      "Head\n",
      "Tail\n",
      "Tail\n",
      "Head\n",
      "Tail\n",
      "Head\n",
      "Head\n",
      "Tail\n",
      "Tail\n",
      "Head\n",
      "Head\n",
      "Head\n",
      "Head\n",
      "Tail\n",
      "Tail\n",
      "Tail\n",
      "Head\n",
      "Head\n",
      "Head\n",
      "Tail\n"
     ]
    }
   ],
   "source": [
    "# Flip a single coin several times.\n",
    "flips = np.random.binomial(1,0.5,1000)# 1000 flips\n",
    "\n",
    "# Show.\n",
    "for flip in flips:\n",
    "    print(coin[flip])"
   ]
  },
  {
   "cell_type": "code",
   "execution_count": 19,
   "metadata": {},
   "outputs": [
    {
     "name": "stdout",
     "output_type": "stream",
     "text": [
      "Heads: 492\n",
      "Tails: 508\n"
     ]
    }
   ],
   "source": [
    "# Count heads.\n",
    "heads = flips.sum()\n",
    "\n",
    "# Count tails (total flips - heads)\n",
    "tails = len(flips) - heads\n",
    "\n",
    "# Show results\n",
    "print(f\"Heads: {heads}\")\n",
    "print(f\"Tails: {tails}\")"
   ]
  },
  {
   "cell_type": "code",
   "execution_count": 26,
   "metadata": {},
   "outputs": [
    {
     "data": {
      "image/png": "[encoded data removed]",
      "text/plain": [
       "<Figure size 640x480 with 1 Axes>"
      ]
     },
     "metadata": {},
     "output_type": "display_data"
    }
   ],
   "source": [
    "# Create a blank plot.\n",
    "fig, ax = plt.subplots()\n",
    "\n",
    "# Create a bar chart.\n",
    "ax.bar([0, 1], [1000 - heads, heads])\n",
    "\n",
    "# Add x labels.\n",
    "ax.set_xticks([0, 1])\n",
    "\n",
    "# Add title.\n",
    "ax.set_title('Flipping A Coin A 1000 Times')\n",
    "\n",
    "# Add y label.\n",
    "ax.set_xlabel('No heads')\n",
    "ax.set_ylabel('Count')\n",
    "\n",
    "# Show.\n",
    "plt.show();"
   ]
  },
  {
   "cell_type": "code",
   "execution_count": 30,
   "metadata": {},
   "outputs": [
    {
     "data": {
      "text/plain": [
       "array([0, 0, 2, 1, 2, 1, 2, 1, 2, 1, 0, 0, 0, 2, 1, 2, 2, 1, 1, 0, 0, 0,\n",
       "       1, 1, 1, 0, 1, 0, 0, 2, 0, 0, 0, 1, 1, 1, 0, 1, 0, 1, 2, 1, 1, 1,\n",
       "       1, 2, 0, 2, 2, 1, 2, 1, 0, 1, 1, 0, 1, 1, 1, 1, 1, 1, 0, 1, 2, 0,\n",
       "       1, 2, 1, 0, 0, 1, 2, 1, 1, 1, 1, 2, 1, 1, 1, 1, 1, 2, 2, 2, 2, 0,\n",
       "       0, 1, 1, 0, 1, 1, 2, 2, 2, 1, 2, 2, 2, 2, 0, 1, 0, 2, 0, 0, 1, 2,\n",
       "       2, 2, 0, 2, 2, 0, 1, 2, 1, 1, 0, 1, 2, 1, 0, 1, 1, 1, 0, 1, 1, 1,\n",
       "       1, 2, 1, 1, 2, 0, 0, 0, 0, 1, 1, 0, 2, 2, 2, 2, 2, 1, 1, 1, 1, 1,\n",
       "       2, 1, 1, 1, 1, 1, 0, 2, 1, 2, 1, 0, 1, 1, 1, 0, 1, 1, 1, 2, 2, 1,\n",
       "       1, 2, 1, 1, 1, 0, 1, 1, 1, 2, 1, 0, 2, 2, 2, 0, 2, 0, 1, 1, 0, 1,\n",
       "       2, 1, 1, 0, 2, 2, 0, 0, 1, 2, 0, 1, 1, 0, 2, 1, 1, 0, 0, 0, 1, 1,\n",
       "       1, 1, 2, 2, 2, 2, 1, 2, 2, 0, 0, 2, 1, 1, 2, 0, 1, 1, 1, 1, 1, 1,\n",
       "       2, 0, 1, 1, 2, 2, 2, 1, 1, 1, 1, 1, 1, 1, 1, 2, 0, 0, 1, 2, 2, 1,\n",
       "       1, 2, 2, 1, 1, 1, 0, 1, 1, 1, 0, 1, 1, 0, 1, 1, 1, 2, 2, 0, 0, 1,\n",
       "       1, 1, 0, 0, 1, 2, 1, 1, 1, 1, 1, 1, 2, 1, 1, 0, 2, 0, 0, 1, 1, 2,\n",
       "       1, 0, 1, 1, 1, 1, 1, 0, 0, 2, 2, 0, 1, 0, 1, 0, 1, 1, 1, 0, 1, 1,\n",
       "       2, 2, 0, 2, 1, 1, 1, 2, 1, 2, 0, 0, 2, 2, 1, 2, 2, 0, 1, 1, 1, 2,\n",
       "       0, 1, 0, 2, 1, 1, 0, 1, 0, 0, 2, 0, 1, 1, 1, 0, 1, 1, 1, 0, 2, 0,\n",
       "       0, 2, 1, 1, 0, 0, 1, 1, 1, 0, 1, 0, 1, 1, 2, 1, 1, 1, 1, 1, 1, 1,\n",
       "       1, 1, 1, 0, 1, 2, 0, 0, 0, 1, 0, 1, 0, 2, 1, 2, 2, 1, 2, 1, 1, 1,\n",
       "       1, 1, 0, 2, 0, 1, 1, 0, 0, 2, 1, 1, 0, 1, 1, 1, 1, 1, 2, 0, 2, 2,\n",
       "       2, 2, 1, 2, 1, 0, 2, 1, 1, 1, 2, 2, 1, 1, 2, 2, 1, 0, 1, 2, 1, 2,\n",
       "       1, 1, 0, 1, 0, 1, 0, 2, 0, 1, 1, 1, 0, 1, 1, 2, 1, 0, 1, 2, 1, 1,\n",
       "       1, 0, 0, 0, 0, 1, 2, 1, 1, 1, 1, 1, 0, 1, 2, 1, 0, 1, 1, 2, 1, 2,\n",
       "       0, 0, 1, 2, 1, 0, 2, 1, 1, 2, 2, 0, 0, 1, 1, 1, 1, 1, 1, 0, 2, 2,\n",
       "       2, 1, 1, 2, 0, 0, 2, 2, 1, 2, 1, 2, 1, 0, 1, 0, 1, 1, 2, 2, 0, 2,\n",
       "       1, 1, 2, 0, 1, 1, 2, 2, 1, 1, 1, 0, 0, 0, 1, 1, 1, 1, 1, 2, 1, 1,\n",
       "       2, 1, 2, 1, 2, 1, 0, 2, 0, 1, 1, 1, 2, 2, 1, 2, 1, 1, 1, 2, 1, 1,\n",
       "       2, 2, 1, 2, 0, 1, 1, 0, 2, 1, 1, 1, 1, 1, 1, 2, 1, 0, 0, 1, 0, 1,\n",
       "       2, 2, 2, 0, 2, 1, 0, 2, 1, 1, 1, 0, 2, 1, 1, 2, 1, 1, 1, 1, 1, 1,\n",
       "       2, 1, 1, 1, 1, 0, 0, 2, 1, 1, 1, 0, 2, 0, 1, 1, 1, 2, 0, 1, 2, 2,\n",
       "       1, 0, 1, 1, 1, 1, 1, 2, 0, 1, 1, 2, 2, 2, 2, 0, 1, 1, 2, 2, 0, 1,\n",
       "       1, 1, 2, 0, 1, 2, 1, 2, 1, 1, 1, 2, 2, 2, 0, 1, 0, 2, 1, 0, 1, 2,\n",
       "       2, 1, 1, 2, 2, 1, 0, 1, 1, 2, 0, 2, 2, 2, 2, 1, 2, 0, 1, 2, 2, 0,\n",
       "       1, 0, 1, 2, 1, 0, 1, 1, 2, 0, 1, 1, 2, 1, 2, 1, 2, 2, 1, 1, 2, 2,\n",
       "       0, 0, 1, 0, 2, 2, 0, 1, 2, 1, 1, 1, 2, 2, 1, 0, 0, 1, 2, 0, 1, 0,\n",
       "       1, 0, 1, 0, 1, 2, 0, 1, 0, 1, 0, 2, 0, 2, 2, 0, 1, 1, 1, 1, 1, 0,\n",
       "       1, 1, 0, 0, 0, 2, 1, 0, 2, 2, 2, 2, 2, 0, 0, 2, 1, 2, 0, 1, 1, 1,\n",
       "       2, 0, 1, 1, 2, 1, 1, 1, 1, 1, 0, 1, 0, 0, 2, 2, 1, 2, 1, 0, 1, 0,\n",
       "       1, 2, 0, 1, 1, 1, 2, 1, 1, 2, 1, 2, 0, 1, 0, 2, 1, 1, 0, 0, 1, 0,\n",
       "       1, 1, 1, 2, 1, 1, 2, 1, 1, 1, 1, 1, 2, 1, 2, 0, 0, 1, 1, 2, 0, 2,\n",
       "       1, 2, 1, 1, 0, 1, 1, 1, 1, 1, 0, 2, 1, 0, 1, 2, 2, 2, 2, 1, 1, 0,\n",
       "       1, 2, 2, 0, 0, 1, 0, 2, 1, 1, 0, 2, 2, 1, 1, 2, 2, 2, 2, 2, 1, 0,\n",
       "       1, 0, 1, 1, 0, 1, 1, 1, 0, 1, 2, 1, 0, 0, 1, 0, 1, 0, 1, 1, 2, 0,\n",
       "       2, 1, 0, 1, 0, 1, 0, 1, 2, 1, 0, 2, 2, 1, 0, 0, 1, 2, 2, 0, 1, 1,\n",
       "       2, 2, 1, 1, 1, 1, 1, 1, 0, 0, 1, 1, 1, 2, 1, 1, 2, 1, 0, 1, 1, 0,\n",
       "       0, 1, 1, 0, 1, 0, 0, 1, 0, 1])"
      ]
     },
     "execution_count": 30,
     "metadata": {},
     "output_type": "execute_result"
    }
   ],
   "source": [
    "# Flip two coins several times.\n",
    "twoflips = np.random.binomial(2,0.5,1000)# 1000 flips\n",
    "\n",
    "# Show.\n",
    "twoflips"
   ]
  },
  {
   "cell_type": "code",
   "execution_count": 32,
   "metadata": {},
   "outputs": [
    {
     "data": {
      "text/plain": [
       "(array([0, 1, 2]), array([239, 494, 267]))"
      ]
     },
     "execution_count": 32,
     "metadata": {},
     "output_type": "execute_result"
    }
   ],
   "source": [
    "# Count the number of times each value occurs.\n",
    "uniques, counts = np.unique(twoflips, return_counts=True)\n",
    "\n",
    "# Show.\n",
    "uniques, counts"
   ]
  },
  {
   "cell_type": "code",
   "execution_count": 35,
   "metadata": {},
   "outputs": [
    {
     "data": {
      "image/png": "[encoded data removed]",
      "text/plain": [
       "<Figure size 640x480 with 1 Axes>"
      ]
     },
     "metadata": {},
     "output_type": "display_data"
    }
   ],
   "source": [
    "# Create a blank plot.\n",
    "fig, ax = plt.subplots()\n",
    "\n",
    "# Create a bar chart.\n",
    "ax.bar(uniques, counts)\n",
    "\n",
    "# Add x labels.\n",
    "ax.set_xticks([0, 1, 2])\n",
    "\n",
    "# Add title.\n",
    "ax.set_title('Flipping two coins A 1000 Times')\n",
    "\n",
    "# Add y label.\n",
    "ax.set_xlabel('No heads')\n",
    "ax.set_ylabel('Count')\n",
    "\n",
    "# Show.\n",
    "plt.show();"
   ]
  },
  {
   "cell_type": "code",
   "execution_count": 36,
   "metadata": {},
   "outputs": [
    {
     "data": {
      "text/plain": [
       "array([[1, 0],\n",
       "       [1, 1],\n",
       "       [0, 0],\n",
       "       ...,\n",
       "       [1, 0],\n",
       "       [0, 0],\n",
       "       [0, 0]])"
      ]
     },
     "execution_count": 36,
     "metadata": {},
     "output_type": "execute_result"
    }
   ],
   "source": [
    "# Flip two coins several times keeping the individual results.\n",
    "twoflipsind = np.random.binomial(1,0.5, (1000, 2))\n",
    "\n",
    "# Show.\n",
    "twoflipsind"
   ]
  },
  {
   "cell_type": "markdown",
   "metadata": {},
   "source": [
    "### Probability Density Function"
   ]
  },
  {
   "cell_type": "code",
   "execution_count": 38,
   "metadata": {},
   "outputs": [
    {
     "data": {
      "text/plain": [
       "(array([[0, 0],\n",
       "        [0, 1],\n",
       "        [1, 0],\n",
       "        [1, 1]]),\n",
       " array([250, 250, 257, 243]))"
      ]
     },
     "execution_count": 38,
     "metadata": {},
     "output_type": "execute_result"
    }
   ],
   "source": [
    "# Count the number of times each value occurs.\n",
    "np.unique(twoflipsind, return_counts=True, axis =0)"
   ]
  },
  {
   "cell_type": "markdown",
   "metadata": {},
   "source": [
    "### Integration"
   ]
  },
  {
   "cell_type": "code",
   "execution_count": null,
   "metadata": {},
   "outputs": [],
   "source": []
  },
  {
   "cell_type": "markdown",
   "metadata": {},
   "source": [
    "### Shapiro-Wilk Test"
   ]
  },
  {
   "cell_type": "code",
   "execution_count": null,
   "metadata": {},
   "outputs": [],
   "source": []
  },
  {
   "cell_type": "markdown",
   "metadata": {},
   "source": [
    "### Central Limit Theorem"
   ]
  },
  {
   "cell_type": "markdown",
   "metadata": {},
   "source": [
    "# Task 3: t-Test Calculation"
   ]
  },
  {
   "cell_type": "markdown",
   "metadata": {},
   "source": [
    "# Task 4: ANOVA"
   ]
  }
 ],
 "metadata": {
  "kernelspec": {
   "display_name": "base",
   "language": "python",
   "name": "python3"
  },
  "language_info": {
   "codemirror_mode": {
    "name": "ipython",
    "version": 3
   },
   "file_extension": ".py",
   "mimetype": "text/x-python",
   "name": "python",
   "nbconvert_exporter": "python",
   "pygments_lexer": "ipython3",
   "version": "3.12.4"
  }
 },
 "nbformat": 4,
 "nbformat_minor": 2
}
