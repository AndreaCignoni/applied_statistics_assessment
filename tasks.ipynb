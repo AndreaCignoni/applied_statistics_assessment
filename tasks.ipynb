{
 "cells": [
  {
   "cell_type": "markdown",
   "metadata": {},
   "source": [
    "# Task 1: Permutations and Combinations\n",
    "\n",
    "\n",
    "Suppose we alter the Lady Tasting Tea experiment to involve twelve cups of tea. Six have the milk in first and the other six having tea in first. A person claims they have the special power of being able to tell whether the tea or the milk went into a cup first upon tasting it. You agree to accept their claim if they can tell which of the six cups in your experiment had the milk in first.\n",
    "\n",
    "Calculate, using Python, the probability that they select the correct six cups. Here you should assume that they have no special powers in figuring it out, that they are just guessing. Remember to show and justify your workings in code and MarkDown cells.\n",
    "\n",
    "Suppose, now, you are willing to accept one error. Once they select the six cups they think had the milk in first, you will give them the benefit of the doubt should they have selected at least five of the correct cups. Calculate the probability, assuming they have no special powers, that the person makes at most one error.\n",
    "\n",
    "Would you accept two errors? Explain."
   ]
  },
  {
   "cell_type": "markdown",
   "metadata": {},
   "source": [
    "By conducting this experiment, we intend to prove whether the person’s ability to identify the preparation method of the tea cups is beyond random chance. If the person can consistently and accurately identify all six milk-first cups, the evidence would support the claim that they possess a special sensory ability. Conversely, if their success rate aligns with what would be expected by random guessing, the claim would lack statistical support.\n",
    "\n",
    "In summary, this experiment serves as a practical application of hypothesis testing, allowing us to objectively evaluate extraordinary claims using statistical evidence.\n",
    "\n",
    "*By setting up this experiment, we can:*\n",
    "\n",
    "- **Quantify Confidence**: Determine the likelihood that the person’s success is due to random chance versus a genuine ability.\n",
    "+ **Statistical Significance**: Establish whether the results are statistically significant, meaning the observed outcome is unlikely to have occurred under the null hypothesis.\n",
    "* **Objective Evaluation**: Provide an objective framework to evaluate claims of special abilities, ensuring decisions are based on evidence and probability rather than subjective judgment."
   ]
  },
  {
   "cell_type": "markdown",
   "metadata": {},
   "source": [
    "### Permutations\n",
    "    \n",
    "A permutation is an ordering of its elements.\n",
    "\n",
    "The set `{a, b, c}` has the permutations `abc`, `acb`, `bac`, `bca`, `cab`, and `cba`.\n",
    "\n",
    "### Combinations\n",
    "\n",
    "A combination is a selection of `k` elements from a set of size `n`.\n",
    "\n",
    "In combinations, order does not matter and the same element cannot be selected twice.\n",
    "\n",
    "The combinations of size 2 from the set `{a, b, c}` are `{a, b}`, `{a, c}`, and `{b, c}`."
   ]
  },
  {
   "cell_type": "markdown",
   "metadata": {},
   "source": [
    "## Lady Tasting Tea"
   ]
  },
  {
   "cell_type": "code",
   "execution_count": 41,
   "metadata": {},
   "outputs": [],
   "source": [
    "# Mathematical functions from the standard library.\n",
    "# https://docs.python.org/3/library/math.html#module-math\n",
    "import math\n",
    "\n",
    "# Permutations and combinations\n",
    "# https://docs.python.org/3/library/itertools.html#module-itertools\n",
    "import itertools\n",
    "\n",
    "# Random selections.\n",
    "# https://docs.python.org/3/library/random.html#module-random\n",
    "import random\n",
    "\n",
    "# Numerical structures and operations.\n",
    "# https://numpy.org/devdocs/reference/index.html#numpy-reference\n",
    "import numpy as np\n",
    "\n",
    "# Plotting.\n",
    "# https://matplotlib.org/stable/contents.html\n",
    "import matplotlib.pyplot as plt\n",
    "\n",
    "# Statistics.\n",
    "import scipy.stats as stats\n",
    "\n",
    "# Statistical models.\n",
    "import statsmodels as sm"
   ]
  },
  {
   "cell_type": "markdown",
   "metadata": {},
   "source": [
    "1 2 3 4 5 6 7 8\n",
    "\n",
    "Calculate the number of ways to choose **k** elements from a set of **n** elements where the order of the chosen elements does not matter and no element is selected more than once."
   ]
  },
  {
   "cell_type": "code",
   "execution_count": 2,
   "metadata": {},
   "outputs": [],
   "source": [
    "# Number of cups of tea in total.\n",
    "no_cups = 8\n",
    "\n",
    "# Number of cups of tea with milk first.\n",
    "no_cups_milk_first = 4\n",
    "\n",
    "# Number of cups of tea with tea first.\n",
    "no_cups_tea_first = 4"
   ]
  },
  {
   "cell_type": "markdown",
   "metadata": {},
   "source": [
    "How many possible combinations are there to shuffle the 8 cups?\n"
   ]
  },
  {
   "cell_type": "code",
   "execution_count": 3,
   "metadata": {},
   "outputs": [
    {
     "data": {
      "text/plain": [
       "70"
      ]
     },
     "execution_count": 3,
     "metadata": {},
     "output_type": "execute_result"
    }
   ],
   "source": [
    "# Number of ways of selecting four cups from eight.\n",
    "ways = math.comb(no_cups, no_cups_milk_first)\n",
    "\n",
    "# Show.\n",
    "ways"
   ]
  },
  {
   "cell_type": "markdown",
   "metadata": {},
   "source": [
    "1 2 3 4 5 6 7 8\n",
    "\n",
    ": _ _ _ _\n",
    "\n",
    "==> COMBINATION"
   ]
  },
  {
   "cell_type": "code",
   "execution_count": 4,
   "metadata": {},
   "outputs": [
    {
     "data": {
      "text/plain": [
       "1680"
      ]
     },
     "execution_count": 4,
     "metadata": {},
     "output_type": "execute_result"
    }
   ],
   "source": [
    "# Total number of ways of selecting four cups from eight, keeping them in order.\n",
    "ways_ordered = 8 * 7 * 6 * 5\n",
    "\n",
    "# Show.\n",
    "ways_ordered"
   ]
  },
  {
   "cell_type": "markdown",
   "metadata": {},
   "source": [
    "1680 possible selections"
   ]
  },
  {
   "cell_type": "markdown",
   "metadata": {},
   "source": [
    "Do you think order is important?\n",
    "\n",
    "4 8 6 5\n",
    "\n",
    "8 6 4 5\n",
    "\n",
    ": _ _ _ _\n",
    "\n",
    "==> PERMUTATION"
   ]
  },
  {
   "cell_type": "code",
   "execution_count": 5,
   "metadata": {},
   "outputs": [
    {
     "data": {
      "text/plain": [
       "24"
      ]
     },
     "execution_count": 5,
     "metadata": {},
     "output_type": "execute_result"
    }
   ],
   "source": [
    "# No of ways of shuffling four cups.\n",
    "no_shuffles = 4 * 3 * 2 * 1\n",
    "\n",
    "# Show.\n",
    "no_shuffles"
   ]
  },
  {
   "cell_type": "markdown",
   "metadata": {},
   "source": [
    "24 ways of ordering 4 elements"
   ]
  },
  {
   "cell_type": "code",
   "execution_count": 6,
   "metadata": {},
   "outputs": [
    {
     "data": {
      "text/plain": [
       "70"
      ]
     },
     "execution_count": 6,
     "metadata": {},
     "output_type": "execute_result"
    }
   ],
   "source": [
    "# No of combinations.\n",
    "no_combs = ways_ordered // no_shuffles\n",
    "\n",
    "# Show.\n",
    "no_combs"
   ]
  },
  {
   "cell_type": "markdown",
   "metadata": {},
   "source": [
    "## Formula\n",
    "\n",
    "In mathematics, the [`math.comb()`](https://docs.python.org/3/library/math.html#math.comb') function is called the *choose* function.\n",
    "\n",
    "It is written and calculated as\n",
    "\n",
    "$\\binom{n}{k} = \\frac{n!}{k!(n-k)!}$\n",
    "\n",
    "**Factorial**  \n",
    "\n",
    "**n!** = the multiplication of all positive integers, say \"n\", that will be smaller than or equivalent to n is known as the factorial.\n",
    "\n",
    "**Number of cups of tea in total.**  \n",
    "\n",
    "**n** = 8\n",
    "\n",
    "**Number of cups of tea with milk/tea in first.**  \n",
    "\n",
    "**k** = 4"
   ]
  },
  {
   "cell_type": "markdown",
   "metadata": {},
   "source": [
    "## [math.factorial](https://docs.python.org/3/library/math.html#math.factorial)"
   ]
  },
  {
   "cell_type": "code",
   "execution_count": 7,
   "metadata": {},
   "outputs": [
    {
     "data": {
      "text/plain": [
       "70"
      ]
     },
     "execution_count": 7,
     "metadata": {},
     "output_type": "execute_result"
    }
   ],
   "source": [
    "# Number of cups\n",
    "n = 8\n",
    "\n",
    "# Number of cups of tea with milk/tea first.\n",
    "k = 4\n",
    "\n",
    "# Factorial on number of cups.\n",
    "fact_n = math.factorial(n)\n",
    "\n",
    "# Factorial of number of cups of tea with milk/tea first.\n",
    "fact_k = math.factorial(k)\n",
    "\n",
    "# Factorial of  number of cups - number of cups of tea with milk/tea first.\n",
    "diff_n_k =  n-k\n",
    "fact_diff_n_k = math.factorial(diff_n_k)\n",
    "\n",
    "# Applying formula: COMBINATION\n",
    "# No of ways of selecting k objects from n without replacement and without order.\n",
    "comb = fact_n // (fact_k * fact_diff_n_k)\n",
    "\n",
    "# Show result.\n",
    "comb"
   ]
  },
  {
   "cell_type": "markdown",
   "metadata": {},
   "source": [
    "```  \n",
    "n! = 8 x 7 x 6 x 5 x 4 x 3 x 2 x 1  \n",
    "k! = 4 x 3 x 2 x 1  \n",
    "(n - k)! = 4 x 3 x 2 x 1  \n",
    "n!/(n-k) = (8 x 7 x 6 x 5 x 4 x 3 x 2 x 1) / (4 x 3 x 2 x 1) = 8 x 7 x 6 x 5  \n",
    "```  "
   ]
  },
  {
   "cell_type": "markdown",
   "metadata": {},
   "source": [
    "\n",
    "## Ordering of Results\n",
    "\n",
    "https://docs.python.org/3/library/itertools.html#itertools.combinations"
   ]
  },
  {
   "cell_type": "code",
   "execution_count": 8,
   "metadata": {},
   "outputs": [
    {
     "data": {
      "text/plain": [
       "[0, 1, 2, 3, 4, 5, 6, 7]"
      ]
     },
     "execution_count": 8,
     "metadata": {},
     "output_type": "execute_result"
    }
   ],
   "source": [
    "# The cups labels.\n",
    "labels = list(range(no_cups))\n",
    "\n",
    "# Show.\n",
    "labels"
   ]
  },
  {
   "cell_type": "code",
   "execution_count": 9,
   "metadata": {},
   "outputs": [
    {
     "data": {
      "text/plain": [
       "[(0, 1, 2, 3),\n",
       " (0, 1, 2, 4),\n",
       " (0, 1, 2, 5),\n",
       " (0, 1, 2, 6),\n",
       " (0, 1, 2, 7),\n",
       " (0, 1, 3, 4),\n",
       " (0, 1, 3, 5),\n",
       " (0, 1, 3, 6),\n",
       " (0, 1, 3, 7),\n",
       " (0, 1, 4, 5),\n",
       " (0, 1, 4, 6),\n",
       " (0, 1, 4, 7),\n",
       " (0, 1, 5, 6),\n",
       " (0, 1, 5, 7),\n",
       " (0, 1, 6, 7),\n",
       " (0, 2, 3, 4),\n",
       " (0, 2, 3, 5),\n",
       " (0, 2, 3, 6),\n",
       " (0, 2, 3, 7),\n",
       " (0, 2, 4, 5),\n",
       " (0, 2, 4, 6),\n",
       " (0, 2, 4, 7),\n",
       " (0, 2, 5, 6),\n",
       " (0, 2, 5, 7),\n",
       " (0, 2, 6, 7),\n",
       " (0, 3, 4, 5),\n",
       " (0, 3, 4, 6),\n",
       " (0, 3, 4, 7),\n",
       " (0, 3, 5, 6),\n",
       " (0, 3, 5, 7),\n",
       " (0, 3, 6, 7),\n",
       " (0, 4, 5, 6),\n",
       " (0, 4, 5, 7),\n",
       " (0, 4, 6, 7),\n",
       " (0, 5, 6, 7),\n",
       " (1, 2, 3, 4),\n",
       " (1, 2, 3, 5),\n",
       " (1, 2, 3, 6),\n",
       " (1, 2, 3, 7),\n",
       " (1, 2, 4, 5),\n",
       " (1, 2, 4, 6),\n",
       " (1, 2, 4, 7),\n",
       " (1, 2, 5, 6),\n",
       " (1, 2, 5, 7),\n",
       " (1, 2, 6, 7),\n",
       " (1, 3, 4, 5),\n",
       " (1, 3, 4, 6),\n",
       " (1, 3, 4, 7),\n",
       " (1, 3, 5, 6),\n",
       " (1, 3, 5, 7),\n",
       " (1, 3, 6, 7),\n",
       " (1, 4, 5, 6),\n",
       " (1, 4, 5, 7),\n",
       " (1, 4, 6, 7),\n",
       " (1, 5, 6, 7),\n",
       " (2, 3, 4, 5),\n",
       " (2, 3, 4, 6),\n",
       " (2, 3, 4, 7),\n",
       " (2, 3, 5, 6),\n",
       " (2, 3, 5, 7),\n",
       " (2, 3, 6, 7),\n",
       " (2, 4, 5, 6),\n",
       " (2, 4, 5, 7),\n",
       " (2, 4, 6, 7),\n",
       " (2, 5, 6, 7),\n",
       " (3, 4, 5, 6),\n",
       " (3, 4, 5, 7),\n",
       " (3, 4, 6, 7),\n",
       " (3, 5, 6, 7),\n",
       " (4, 5, 6, 7)]"
      ]
     },
     "execution_count": 9,
     "metadata": {},
     "output_type": "execute_result"
    }
   ],
   "source": [
    "# Shiw the different ways of selecting no_cups+milk_first out of no_cuos cups of tea.\n",
    "combs = list(itertools.combinations(labels,no_cups_milk_first))\n",
    "\n",
    "# Show,\n",
    "combs"
   ]
  },
  {
   "cell_type": "code",
   "execution_count": 10,
   "metadata": {},
   "outputs": [
    {
     "data": {
      "text/plain": [
       "70"
      ]
     },
     "execution_count": 10,
     "metadata": {},
     "output_type": "execute_result"
    }
   ],
   "source": [
    "# Number of combinations.\n",
    "len(combs)"
   ]
  },
  {
   "cell_type": "code",
   "execution_count": 11,
   "metadata": {},
   "outputs": [
    {
     "data": {
      "text/plain": [
       "[0, 5, 6, 7]"
      ]
     },
     "execution_count": 11,
     "metadata": {},
     "output_type": "execute_result"
    }
   ],
   "source": [
    "# Select four cups at random to put milk in first.\n",
    "# https://docs.python.org/3/library/random.html#random.sample\n",
    "labels_milk = random.sample(labels, 4)\n",
    "\n",
    "# Sort in place.\n",
    "labels_milk.sort()\n",
    "\n",
    "# Show\n",
    "labels_milk"
   ]
  },
  {
   "cell_type": "code",
   "execution_count": 12,
   "metadata": {},
   "outputs": [
    {
     "data": {
      "text/plain": [
       "{0, 5, 6, 7}"
      ]
     },
     "execution_count": 12,
     "metadata": {},
     "output_type": "execute_result"
    }
   ],
   "source": [
    "# Turn labels_milk into a set.\n",
    "# Uses: https://docs.python.org/3/tutorial/datastructures.html#sets\n",
    "set(labels_milk)"
   ]
  },
  {
   "cell_type": "code",
   "execution_count": 13,
   "metadata": {},
   "outputs": [
    {
     "name": "stdout",
     "output_type": "stream",
     "text": [
      "(0, 1, 2, 3) {0} 1\n",
      "(0, 1, 2, 4) {0} 1\n",
      "(0, 1, 2, 5) {0, 5} 2\n",
      "(0, 1, 2, 6) {0, 6} 2\n",
      "(0, 1, 2, 7) {0, 7} 2\n",
      "(0, 1, 3, 4) {0} 1\n",
      "(0, 1, 3, 5) {0, 5} 2\n",
      "(0, 1, 3, 6) {0, 6} 2\n",
      "(0, 1, 3, 7) {0, 7} 2\n",
      "(0, 1, 4, 5) {0, 5} 2\n",
      "(0, 1, 4, 6) {0, 6} 2\n",
      "(0, 1, 4, 7) {0, 7} 2\n",
      "(0, 1, 5, 6) {0, 5, 6} 3\n",
      "(0, 1, 5, 7) {0, 5, 7} 3\n",
      "(0, 1, 6, 7) {0, 6, 7} 3\n",
      "(0, 2, 3, 4) {0} 1\n",
      "(0, 2, 3, 5) {0, 5} 2\n",
      "(0, 2, 3, 6) {0, 6} 2\n",
      "(0, 2, 3, 7) {0, 7} 2\n",
      "(0, 2, 4, 5) {0, 5} 2\n",
      "(0, 2, 4, 6) {0, 6} 2\n",
      "(0, 2, 4, 7) {0, 7} 2\n",
      "(0, 2, 5, 6) {0, 5, 6} 3\n",
      "(0, 2, 5, 7) {0, 5, 7} 3\n",
      "(0, 2, 6, 7) {0, 6, 7} 3\n",
      "(0, 3, 4, 5) {0, 5} 2\n",
      "(0, 3, 4, 6) {0, 6} 2\n",
      "(0, 3, 4, 7) {0, 7} 2\n",
      "(0, 3, 5, 6) {0, 5, 6} 3\n",
      "(0, 3, 5, 7) {0, 5, 7} 3\n",
      "(0, 3, 6, 7) {0, 6, 7} 3\n",
      "(0, 4, 5, 6) {0, 5, 6} 3\n",
      "(0, 4, 5, 7) {0, 5, 7} 3\n",
      "(0, 4, 6, 7) {0, 6, 7} 3\n",
      "(0, 5, 6, 7) {0, 5, 6, 7} 4\n",
      "(1, 2, 3, 4) set() 0\n",
      "(1, 2, 3, 5) {5} 1\n",
      "(1, 2, 3, 6) {6} 1\n",
      "(1, 2, 3, 7) {7} 1\n",
      "(1, 2, 4, 5) {5} 1\n",
      "(1, 2, 4, 6) {6} 1\n",
      "(1, 2, 4, 7) {7} 1\n",
      "(1, 2, 5, 6) {5, 6} 2\n",
      "(1, 2, 5, 7) {5, 7} 2\n",
      "(1, 2, 6, 7) {6, 7} 2\n",
      "(1, 3, 4, 5) {5} 1\n",
      "(1, 3, 4, 6) {6} 1\n",
      "(1, 3, 4, 7) {7} 1\n",
      "(1, 3, 5, 6) {5, 6} 2\n",
      "(1, 3, 5, 7) {5, 7} 2\n",
      "(1, 3, 6, 7) {6, 7} 2\n",
      "(1, 4, 5, 6) {5, 6} 2\n",
      "(1, 4, 5, 7) {5, 7} 2\n",
      "(1, 4, 6, 7) {6, 7} 2\n",
      "(1, 5, 6, 7) {5, 6, 7} 3\n",
      "(2, 3, 4, 5) {5} 1\n",
      "(2, 3, 4, 6) {6} 1\n",
      "(2, 3, 4, 7) {7} 1\n",
      "(2, 3, 5, 6) {5, 6} 2\n",
      "(2, 3, 5, 7) {5, 7} 2\n",
      "(2, 3, 6, 7) {6, 7} 2\n",
      "(2, 4, 5, 6) {5, 6} 2\n",
      "(2, 4, 5, 7) {5, 7} 2\n",
      "(2, 4, 6, 7) {6, 7} 2\n",
      "(2, 5, 6, 7) {5, 6, 7} 3\n",
      "(3, 4, 5, 6) {5, 6} 2\n",
      "(3, 4, 5, 7) {5, 7} 2\n",
      "(3, 4, 6, 7) {6, 7} 2\n",
      "(3, 5, 6, 7) {5, 6, 7} 3\n",
      "(4, 5, 6, 7) {5, 6, 7} 3\n"
     ]
    }
   ],
   "source": [
    "# Calculate the overlap between each element of combs and labels_milk.\n",
    "\n",
    "no_overlaps = []\n",
    "\n",
    "for comb in combs:\n",
    "    # Turn comb into a set.\n",
    "    s1 = set(comb)\n",
    "    # Turn labels_milk into a set.\n",
    "    s2 = set(labels_milk)\n",
    "    # Figure out where they overlap.\n",
    "    overlap = s1.intersection(s2)\n",
    "    print(comb, overlap, len(overlap))\n",
    "    # Append overlaps to no_overlaps.\n",
    "    no_overlaps.append(len(overlap))\n"
   ]
  },
  {
   "cell_type": "code",
   "execution_count": 14,
   "metadata": {},
   "outputs": [
    {
     "name": "stdout",
     "output_type": "stream",
     "text": [
      "[1, 1, 2, 2, 2, 1, 2, 2, 2, 2, 2, 2, 3, 3, 3, 1, 2, 2, 2, 2, 2, 2, 3, 3, 3, 2, 2, 2, 3, 3, 3, 3, 3, 3, 4, 0, 1, 1, 1, 1, 1, 1, 2, 2, 2, 1, 1, 1, 2, 2, 2, 2, 2, 2, 3, 1, 1, 1, 2, 2, 2, 2, 2, 2, 3, 2, 2, 2, 3, 3]\n"
     ]
    }
   ],
   "source": [
    "# Show the overlaps.\n",
    "print(no_overlaps)"
   ]
  },
  {
   "cell_type": "code",
   "execution_count": 15,
   "metadata": {},
   "outputs": [
    {
     "data": {
      "text/plain": [
       "(array([0, 1, 2, 3, 4]), array([ 1, 16, 36, 16,  1]))"
      ]
     },
     "execution_count": 15,
     "metadata": {},
     "output_type": "execute_result"
    }
   ],
   "source": [
    "# Count the number of times each overlap occurs.\n",
    "counts = np.unique(no_overlaps, return_counts=True)\n",
    "\n",
    "# Show.\n",
    "counts"
   ]
  },
  {
   "cell_type": "code",
   "execution_count": 16,
   "metadata": {},
   "outputs": [
    {
     "data": {
      "text/plain": [
       "<BarContainer object of 5 artists>"
      ]
     },
     "execution_count": 16,
     "metadata": {},
     "output_type": "execute_result"
    },
    {
     "data": {
      "image/png": "[encoded data removed]",
      "text/plain": [
       "<Figure size 600x400 with 1 Axes>"
      ]
     },
     "metadata": {},
     "output_type": "display_data"
    }
   ],
   "source": [
    "# Create a figure.\n",
    "fig, ax = plt.subplots(figsize =(6,4))\n",
    "\n",
    "# Bar chart.\n",
    "ax.bar(counts[0], counts[1])"
   ]
  },
  {
   "cell_type": "markdown",
   "metadata": {},
   "source": [
    "### The Null Hypothsis"
   ]
  },
  {
   "cell_type": "markdown",
   "metadata": {},
   "source": [
    "- The lady has no special power to tell the difference between cups of tea with milk in first amd cups of tea with tea in first.  \n",
    "\n",
    "- The lady is selecting the four cups from the eight at random."
   ]
  },
  {
   "cell_type": "markdown",
   "metadata": {},
   "source": [
    "### The Alternative Hypothesis"
   ]
  },
  {
   "cell_type": "markdown",
   "metadata": {},
   "source": [
    "- The lady can tell the difference."
   ]
  },
  {
   "cell_type": "markdown",
   "metadata": {},
   "source": [
    "==> **EVIDENCE**"
   ]
  },
  {
   "cell_type": "markdown",
   "metadata": {},
   "source": [
    "Fisher: if the lady is just picking four cups at random, then it is unlikely she will pick the correct four. The probability is one in seventy. It is so unlikely, that I will agree that something non-random is happening when she is selecting the cups of tea."
   ]
  },
  {
   "cell_type": "code",
   "execution_count": 17,
   "metadata": {},
   "outputs": [
    {
     "data": {
      "text/plain": [
       "0.014285714285714285"
      ]
     },
     "execution_count": 17,
     "metadata": {},
     "output_type": "execute_result"
    }
   ],
   "source": [
    "# The probability that she (randomly) selects the four correct cups.\n",
    "1 / 70"
   ]
  },
  {
   "cell_type": "code",
   "execution_count": 18,
   "metadata": {},
   "outputs": [
    {
     "data": {
      "text/plain": [
       "0.24285714285714285"
      ]
     },
     "execution_count": 18,
     "metadata": {},
     "output_type": "execute_result"
    }
   ],
   "source": [
    "# The probability that she (randomly) selects at least thee correct cups.\n",
    "(16 + 1) / 70"
   ]
  },
  {
   "cell_type": "markdown",
   "metadata": {},
   "source": [
    "### Type I Errors, Type II Errors, and Power"
   ]
  },
  {
   "cell_type": "markdown",
   "metadata": {},
   "source": [
    " - Type I and Type II errors: https://en.wikipedia.org/wiki/Type_I_and_type_II_errors\n",
    " - Power: https://en.wikipedia.org/wiki/Power_(statistics)"
   ]
  },
  {
   "cell_type": "markdown",
   "metadata": {},
   "source": [
    "# Task 2: numpy's Normal Distribution"
   ]
  },
  {
   "cell_type": "markdown",
   "metadata": {},
   "source": [
    "In this task you will assess whether numpy.random.normal() properly generates normal values. To begin, generate a sample of one hundred thousand values using the function with mean 10.0 and standard deviation 3.0.\n",
    "\n",
    "Use the scipy.stats.shapiro() function to test whether your sample came from a normal distribution. Explain the results and output.\n",
    "\n",
    "Plot a histogram of your values and plot the corresponding normal distribution probability density function on top of it."
   ]
  },
  {
   "cell_type": "code",
   "execution_count": 19,
   "metadata": {},
   "outputs": [],
   "source": [
    "# Binomial distribution.\n",
    "import numpy as np\n",
    "\n",
    "# Plotting.\n",
    "import matplotlib.pyplot as plt"
   ]
  },
  {
   "cell_type": "markdown",
   "metadata": {},
   "source": [
    "### Flipping Several Coins"
   ]
  },
  {
   "cell_type": "code",
   "execution_count": 20,
   "metadata": {},
   "outputs": [
    {
     "name": "stdout",
     "output_type": "stream",
     "text": [
      "Head\n"
     ]
    }
   ],
   "source": [
    "# Flip a single coin.\n",
    "coin = [\"Tail\", \"Head\"]\n",
    "flip = np.random.binomial(1, 0.5)  # 0 for Tail, 1 for Head\n",
    "print(coin[flip])"
   ]
  },
  {
   "cell_type": "code",
   "execution_count": 21,
   "metadata": {},
   "outputs": [
    {
     "name": "stdout",
     "output_type": "stream",
     "text": [
      "Head\n",
      "Tail\n",
      "Head\n",
      "Tail\n",
      "Head\n",
      "Head\n",
      "Head\n",
      "Head\n",
      "Head\n",
      "Head\n",
      "Tail\n",
      "Tail\n",
      "Tail\n",
      "Tail\n",
      "Head\n",
      "Head\n",
      "Head\n",
      "Tail\n",
      "Head\n",
      "Tail\n",
      "Head\n",
      "Tail\n",
      "Tail\n",
      "Head\n",
      "Head\n",
      "Tail\n",
      "Head\n",
      "Head\n",
      "Head\n",
      "Tail\n",
      "Head\n",
      "Head\n",
      "Head\n",
      "Head\n",
      "Tail\n",
      "Head\n",
      "Head\n",
      "Tail\n",
      "Tail\n",
      "Tail\n",
      "Tail\n",
      "Tail\n",
      "Tail\n",
      "Tail\n",
      "Tail\n",
      "Head\n",
      "Head\n",
      "Tail\n",
      "Head\n",
      "Tail\n",
      "Tail\n",
      "Tail\n",
      "Tail\n",
      "Head\n",
      "Tail\n",
      "Head\n",
      "Tail\n",
      "Tail\n",
      "Tail\n",
      "Head\n",
      "Head\n",
      "Tail\n",
      "Tail\n",
      "Tail\n",
      "Head\n",
      "Head\n",
      "Tail\n",
      "Head\n",
      "Head\n",
      "Tail\n",
      "Tail\n",
      "Tail\n",
      "Tail\n",
      "Head\n",
      "Tail\n",
      "Tail\n",
      "Tail\n",
      "Head\n",
      "Head\n",
      "Head\n",
      "Tail\n",
      "Tail\n",
      "Head\n",
      "Head\n",
      "Head\n",
      "Tail\n",
      "Tail\n",
      "Head\n",
      "Head\n",
      "Tail\n",
      "Tail\n",
      "Tail\n",
      "Tail\n",
      "Head\n",
      "Tail\n",
      "Tail\n",
      "Tail\n",
      "Head\n",
      "Head\n",
      "Tail\n",
      "Tail\n",
      "Tail\n",
      "Tail\n",
      "Head\n",
      "Head\n",
      "Head\n",
      "Head\n",
      "Tail\n",
      "Head\n",
      "Head\n",
      "Head\n",
      "Tail\n",
      "Tail\n",
      "Tail\n",
      "Head\n",
      "Tail\n",
      "Head\n",
      "Head\n",
      "Tail\n",
      "Head\n",
      "Tail\n",
      "Tail\n",
      "Tail\n",
      "Head\n",
      "Head\n",
      "Tail\n",
      "Tail\n",
      "Head\n",
      "Tail\n",
      "Tail\n",
      "Tail\n",
      "Tail\n",
      "Tail\n",
      "Tail\n",
      "Head\n",
      "Head\n",
      "Tail\n",
      "Head\n",
      "Tail\n",
      "Head\n",
      "Tail\n",
      "Tail\n",
      "Tail\n",
      "Tail\n",
      "Head\n",
      "Head\n",
      "Head\n",
      "Head\n",
      "Tail\n",
      "Head\n",
      "Tail\n",
      "Tail\n",
      "Tail\n",
      "Tail\n",
      "Head\n",
      "Head\n",
      "Head\n",
      "Tail\n",
      "Tail\n",
      "Head\n",
      "Head\n",
      "Head\n",
      "Tail\n",
      "Tail\n",
      "Tail\n",
      "Tail\n",
      "Head\n",
      "Tail\n",
      "Tail\n",
      "Tail\n",
      "Tail\n",
      "Head\n",
      "Tail\n",
      "Tail\n",
      "Tail\n",
      "Tail\n",
      "Tail\n",
      "Head\n",
      "Tail\n",
      "Tail\n",
      "Head\n",
      "Tail\n",
      "Tail\n",
      "Head\n",
      "Head\n",
      "Tail\n",
      "Head\n",
      "Tail\n",
      "Tail\n",
      "Tail\n",
      "Head\n",
      "Head\n",
      "Tail\n",
      "Tail\n",
      "Head\n",
      "Tail\n",
      "Tail\n",
      "Head\n",
      "Head\n",
      "Head\n",
      "Tail\n",
      "Tail\n",
      "Head\n",
      "Head\n",
      "Tail\n",
      "Head\n",
      "Head\n",
      "Tail\n",
      "Tail\n",
      "Tail\n",
      "Tail\n",
      "Tail\n",
      "Head\n",
      "Tail\n",
      "Head\n",
      "Tail\n",
      "Head\n",
      "Tail\n",
      "Head\n",
      "Tail\n",
      "Head\n",
      "Head\n",
      "Tail\n",
      "Head\n",
      "Tail\n",
      "Tail\n",
      "Tail\n",
      "Head\n",
      "Head\n",
      "Tail\n",
      "Tail\n",
      "Head\n",
      "Tail\n",
      "Head\n",
      "Tail\n",
      "Head\n",
      "Head\n",
      "Head\n",
      "Tail\n",
      "Head\n",
      "Tail\n",
      "Tail\n",
      "Head\n",
      "Head\n",
      "Head\n",
      "Tail\n",
      "Head\n",
      "Head\n",
      "Head\n",
      "Head\n",
      "Tail\n",
      "Head\n",
      "Tail\n",
      "Tail\n",
      "Tail\n",
      "Tail\n",
      "Tail\n",
      "Tail\n",
      "Head\n",
      "Tail\n",
      "Head\n",
      "Head\n",
      "Head\n",
      "Head\n",
      "Tail\n",
      "Head\n",
      "Head\n",
      "Head\n",
      "Head\n",
      "Tail\n",
      "Tail\n",
      "Head\n",
      "Head\n",
      "Tail\n",
      "Tail\n",
      "Head\n",
      "Head\n",
      "Head\n",
      "Head\n",
      "Tail\n",
      "Head\n",
      "Head\n",
      "Head\n",
      "Head\n",
      "Tail\n",
      "Tail\n",
      "Tail\n",
      "Head\n",
      "Tail\n",
      "Tail\n",
      "Tail\n",
      "Tail\n",
      "Head\n",
      "Tail\n",
      "Head\n",
      "Head\n",
      "Head\n",
      "Head\n",
      "Tail\n",
      "Tail\n",
      "Head\n",
      "Head\n",
      "Head\n",
      "Tail\n",
      "Tail\n",
      "Head\n",
      "Tail\n",
      "Head\n",
      "Tail\n",
      "Tail\n",
      "Head\n",
      "Head\n",
      "Head\n",
      "Tail\n",
      "Head\n",
      "Tail\n",
      "Tail\n",
      "Head\n",
      "Tail\n",
      "Tail\n",
      "Head\n",
      "Tail\n",
      "Head\n",
      "Tail\n",
      "Tail\n",
      "Head\n",
      "Tail\n",
      "Head\n",
      "Tail\n",
      "Head\n",
      "Tail\n",
      "Tail\n",
      "Tail\n",
      "Tail\n",
      "Tail\n",
      "Tail\n",
      "Head\n",
      "Head\n",
      "Tail\n",
      "Tail\n",
      "Head\n",
      "Head\n",
      "Tail\n",
      "Tail\n",
      "Head\n",
      "Head\n",
      "Tail\n",
      "Head\n",
      "Head\n",
      "Tail\n",
      "Head\n",
      "Tail\n",
      "Head\n",
      "Head\n",
      "Head\n",
      "Head\n",
      "Tail\n",
      "Tail\n",
      "Head\n",
      "Tail\n",
      "Tail\n",
      "Tail\n",
      "Tail\n",
      "Tail\n",
      "Tail\n",
      "Head\n",
      "Head\n",
      "Head\n",
      "Tail\n",
      "Tail\n",
      "Head\n",
      "Head\n",
      "Tail\n",
      "Head\n",
      "Tail\n",
      "Head\n",
      "Head\n",
      "Tail\n",
      "Head\n",
      "Tail\n",
      "Head\n",
      "Head\n",
      "Tail\n",
      "Tail\n",
      "Head\n",
      "Head\n",
      "Head\n",
      "Head\n",
      "Tail\n",
      "Head\n",
      "Tail\n",
      "Tail\n",
      "Tail\n",
      "Head\n",
      "Tail\n",
      "Head\n",
      "Head\n",
      "Tail\n",
      "Tail\n",
      "Tail\n",
      "Head\n",
      "Tail\n",
      "Tail\n",
      "Tail\n",
      "Head\n",
      "Tail\n",
      "Head\n",
      "Head\n",
      "Head\n",
      "Tail\n",
      "Tail\n",
      "Tail\n",
      "Tail\n",
      "Head\n",
      "Head\n",
      "Tail\n",
      "Tail\n",
      "Tail\n",
      "Tail\n",
      "Tail\n",
      "Head\n",
      "Tail\n",
      "Head\n",
      "Tail\n",
      "Head\n",
      "Head\n",
      "Tail\n",
      "Head\n",
      "Head\n",
      "Tail\n",
      "Head\n",
      "Tail\n",
      "Head\n",
      "Head\n",
      "Head\n",
      "Head\n",
      "Tail\n",
      "Tail\n",
      "Tail\n",
      "Tail\n",
      "Head\n",
      "Head\n",
      "Tail\n",
      "Tail\n",
      "Head\n",
      "Tail\n",
      "Head\n",
      "Head\n",
      "Tail\n",
      "Head\n",
      "Head\n",
      "Tail\n",
      "Head\n",
      "Head\n",
      "Head\n",
      "Tail\n",
      "Head\n",
      "Head\n",
      "Tail\n",
      "Head\n",
      "Head\n",
      "Head\n",
      "Tail\n",
      "Tail\n",
      "Tail\n",
      "Tail\n",
      "Tail\n",
      "Tail\n",
      "Tail\n",
      "Head\n",
      "Head\n",
      "Tail\n",
      "Head\n",
      "Head\n",
      "Tail\n",
      "Tail\n",
      "Tail\n",
      "Tail\n",
      "Tail\n",
      "Head\n",
      "Tail\n",
      "Head\n",
      "Head\n",
      "Head\n",
      "Head\n",
      "Head\n",
      "Head\n",
      "Tail\n",
      "Head\n",
      "Tail\n",
      "Tail\n",
      "Tail\n",
      "Head\n",
      "Tail\n",
      "Head\n",
      "Head\n",
      "Tail\n",
      "Head\n",
      "Tail\n",
      "Head\n",
      "Tail\n",
      "Head\n",
      "Head\n",
      "Tail\n",
      "Tail\n",
      "Head\n",
      "Head\n",
      "Tail\n",
      "Head\n",
      "Head\n",
      "Head\n",
      "Tail\n",
      "Head\n",
      "Head\n",
      "Head\n",
      "Tail\n",
      "Tail\n",
      "Head\n",
      "Head\n",
      "Tail\n",
      "Head\n",
      "Tail\n",
      "Tail\n",
      "Tail\n",
      "Head\n",
      "Tail\n",
      "Head\n",
      "Head\n",
      "Tail\n",
      "Head\n",
      "Tail\n",
      "Head\n",
      "Tail\n",
      "Tail\n",
      "Head\n",
      "Head\n",
      "Head\n",
      "Head\n",
      "Head\n",
      "Head\n",
      "Tail\n",
      "Tail\n",
      "Head\n",
      "Head\n",
      "Tail\n",
      "Tail\n",
      "Head\n",
      "Tail\n",
      "Tail\n",
      "Tail\n",
      "Tail\n",
      "Tail\n",
      "Head\n",
      "Head\n",
      "Head\n",
      "Head\n",
      "Head\n",
      "Head\n",
      "Tail\n",
      "Head\n",
      "Tail\n",
      "Tail\n",
      "Tail\n",
      "Tail\n",
      "Tail\n",
      "Head\n",
      "Head\n",
      "Tail\n",
      "Head\n",
      "Tail\n",
      "Tail\n",
      "Head\n",
      "Head\n",
      "Head\n",
      "Head\n",
      "Tail\n",
      "Head\n",
      "Head\n",
      "Head\n",
      "Head\n",
      "Head\n",
      "Head\n",
      "Tail\n",
      "Head\n",
      "Head\n",
      "Tail\n",
      "Head\n",
      "Tail\n",
      "Head\n",
      "Head\n",
      "Tail\n",
      "Head\n",
      "Head\n",
      "Head\n",
      "Head\n",
      "Tail\n",
      "Head\n",
      "Head\n",
      "Head\n",
      "Tail\n",
      "Head\n",
      "Head\n",
      "Tail\n",
      "Head\n",
      "Head\n",
      "Tail\n",
      "Tail\n",
      "Tail\n",
      "Head\n",
      "Tail\n",
      "Head\n",
      "Tail\n",
      "Tail\n",
      "Head\n",
      "Tail\n",
      "Tail\n",
      "Head\n",
      "Tail\n",
      "Tail\n",
      "Tail\n",
      "Tail\n",
      "Head\n",
      "Tail\n",
      "Tail\n",
      "Tail\n",
      "Head\n",
      "Tail\n",
      "Tail\n",
      "Tail\n",
      "Head\n",
      "Head\n",
      "Head\n",
      "Head\n",
      "Head\n",
      "Tail\n",
      "Head\n",
      "Tail\n",
      "Head\n",
      "Tail\n",
      "Tail\n",
      "Tail\n",
      "Tail\n",
      "Tail\n",
      "Tail\n",
      "Head\n",
      "Head\n",
      "Tail\n",
      "Tail\n",
      "Tail\n",
      "Head\n",
      "Tail\n",
      "Tail\n",
      "Tail\n",
      "Head\n",
      "Tail\n",
      "Head\n",
      "Head\n",
      "Tail\n",
      "Head\n",
      "Head\n",
      "Head\n",
      "Tail\n",
      "Head\n",
      "Head\n",
      "Tail\n",
      "Tail\n",
      "Tail\n",
      "Tail\n",
      "Tail\n",
      "Tail\n",
      "Tail\n",
      "Head\n",
      "Head\n",
      "Head\n",
      "Head\n",
      "Tail\n",
      "Head\n",
      "Tail\n",
      "Head\n",
      "Tail\n",
      "Tail\n",
      "Head\n",
      "Tail\n",
      "Tail\n",
      "Tail\n",
      "Tail\n",
      "Tail\n",
      "Tail\n",
      "Tail\n",
      "Tail\n",
      "Tail\n",
      "Head\n",
      "Tail\n",
      "Tail\n",
      "Head\n",
      "Head\n",
      "Head\n",
      "Head\n",
      "Tail\n",
      "Tail\n",
      "Tail\n",
      "Tail\n",
      "Head\n",
      "Tail\n",
      "Tail\n",
      "Head\n",
      "Tail\n",
      "Head\n",
      "Tail\n",
      "Tail\n",
      "Tail\n",
      "Tail\n",
      "Tail\n",
      "Tail\n",
      "Tail\n",
      "Head\n",
      "Head\n",
      "Head\n",
      "Head\n",
      "Head\n",
      "Tail\n",
      "Head\n",
      "Head\n",
      "Tail\n",
      "Head\n",
      "Tail\n",
      "Head\n",
      "Tail\n",
      "Tail\n",
      "Tail\n",
      "Tail\n",
      "Head\n",
      "Tail\n",
      "Head\n",
      "Head\n",
      "Tail\n",
      "Tail\n",
      "Tail\n",
      "Head\n",
      "Head\n",
      "Head\n",
      "Tail\n",
      "Tail\n",
      "Head\n",
      "Head\n",
      "Tail\n",
      "Tail\n",
      "Head\n",
      "Head\n",
      "Tail\n",
      "Head\n",
      "Tail\n",
      "Head\n",
      "Tail\n",
      "Tail\n",
      "Tail\n",
      "Tail\n",
      "Head\n",
      "Head\n",
      "Head\n",
      "Head\n",
      "Head\n",
      "Head\n",
      "Head\n",
      "Head\n",
      "Tail\n",
      "Tail\n",
      "Tail\n",
      "Head\n",
      "Tail\n",
      "Head\n",
      "Head\n",
      "Tail\n",
      "Head\n",
      "Tail\n",
      "Tail\n",
      "Tail\n",
      "Head\n",
      "Tail\n",
      "Head\n",
      "Head\n",
      "Tail\n",
      "Head\n",
      "Head\n",
      "Head\n",
      "Tail\n",
      "Tail\n",
      "Tail\n",
      "Tail\n",
      "Head\n",
      "Head\n",
      "Tail\n",
      "Head\n",
      "Tail\n",
      "Head\n",
      "Head\n",
      "Tail\n",
      "Tail\n",
      "Head\n",
      "Tail\n",
      "Tail\n",
      "Head\n",
      "Head\n",
      "Tail\n",
      "Head\n",
      "Tail\n",
      "Head\n",
      "Tail\n",
      "Head\n",
      "Tail\n",
      "Head\n",
      "Head\n",
      "Head\n",
      "Tail\n",
      "Head\n",
      "Head\n",
      "Tail\n",
      "Head\n",
      "Tail\n",
      "Tail\n",
      "Head\n",
      "Head\n",
      "Tail\n",
      "Head\n",
      "Tail\n",
      "Head\n",
      "Head\n",
      "Tail\n",
      "Head\n",
      "Tail\n",
      "Tail\n",
      "Head\n",
      "Head\n",
      "Head\n",
      "Head\n",
      "Tail\n",
      "Head\n",
      "Tail\n",
      "Head\n",
      "Tail\n",
      "Tail\n",
      "Head\n",
      "Tail\n",
      "Tail\n",
      "Head\n",
      "Tail\n",
      "Head\n",
      "Head\n",
      "Tail\n",
      "Head\n",
      "Head\n",
      "Head\n",
      "Tail\n",
      "Tail\n",
      "Tail\n",
      "Head\n",
      "Tail\n",
      "Head\n",
      "Tail\n",
      "Head\n",
      "Head\n",
      "Head\n",
      "Head\n",
      "Head\n",
      "Tail\n",
      "Tail\n",
      "Head\n",
      "Head\n",
      "Head\n",
      "Tail\n",
      "Head\n",
      "Head\n",
      "Head\n",
      "Tail\n",
      "Tail\n",
      "Head\n",
      "Tail\n",
      "Head\n",
      "Head\n",
      "Head\n",
      "Tail\n",
      "Head\n",
      "Head\n",
      "Tail\n",
      "Tail\n",
      "Head\n",
      "Tail\n",
      "Head\n",
      "Head\n",
      "Tail\n",
      "Tail\n",
      "Tail\n",
      "Tail\n",
      "Head\n",
      "Head\n",
      "Head\n",
      "Head\n",
      "Tail\n",
      "Head\n",
      "Tail\n",
      "Tail\n",
      "Tail\n",
      "Head\n",
      "Tail\n",
      "Head\n",
      "Head\n",
      "Head\n",
      "Tail\n",
      "Tail\n",
      "Head\n",
      "Tail\n",
      "Head\n",
      "Tail\n",
      "Head\n",
      "Head\n",
      "Tail\n",
      "Head\n",
      "Tail\n",
      "Tail\n",
      "Tail\n",
      "Head\n",
      "Tail\n",
      "Head\n",
      "Head\n",
      "Head\n",
      "Head\n",
      "Tail\n",
      "Head\n",
      "Tail\n",
      "Tail\n",
      "Head\n",
      "Tail\n",
      "Tail\n",
      "Head\n",
      "Tail\n",
      "Tail\n",
      "Head\n",
      "Head\n",
      "Head\n",
      "Head\n",
      "Tail\n",
      "Head\n",
      "Head\n",
      "Head\n",
      "Head\n",
      "Tail\n",
      "Tail\n",
      "Head\n",
      "Head\n",
      "Tail\n",
      "Head\n",
      "Head\n",
      "Tail\n",
      "Head\n",
      "Tail\n",
      "Tail\n",
      "Tail\n",
      "Tail\n",
      "Head\n",
      "Head\n",
      "Tail\n",
      "Tail\n",
      "Head\n",
      "Tail\n",
      "Head\n",
      "Tail\n",
      "Tail\n",
      "Tail\n",
      "Tail\n",
      "Head\n",
      "Tail\n",
      "Tail\n",
      "Head\n",
      "Head\n",
      "Head\n",
      "Head\n",
      "Head\n",
      "Head\n",
      "Head\n",
      "Tail\n",
      "Tail\n",
      "Head\n",
      "Head\n",
      "Head\n",
      "Head\n",
      "Tail\n",
      "Tail\n",
      "Tail\n",
      "Tail\n",
      "Head\n",
      "Head\n",
      "Head\n",
      "Head\n",
      "Tail\n",
      "Head\n",
      "Tail\n",
      "Head\n",
      "Tail\n",
      "Tail\n",
      "Head\n"
     ]
    }
   ],
   "source": [
    "# Flip a single coin several times.\n",
    "flips = np.random.binomial(1,0.5,1000)# 1000 flips\n",
    "\n",
    "# Show.\n",
    "for flip in flips:\n",
    "    print(coin[flip])"
   ]
  },
  {
   "cell_type": "code",
   "execution_count": 22,
   "metadata": {},
   "outputs": [
    {
     "name": "stdout",
     "output_type": "stream",
     "text": [
      "Heads: 496\n",
      "Tails: 504\n"
     ]
    }
   ],
   "source": [
    "# Count heads.\n",
    "heads = flips.sum()\n",
    "\n",
    "# Count tails (total flips - heads)\n",
    "tails = len(flips) - heads\n",
    "\n",
    "# Show results\n",
    "print(f\"Heads: {heads}\")\n",
    "print(f\"Tails: {tails}\")"
   ]
  },
  {
   "cell_type": "code",
   "execution_count": 23,
   "metadata": {},
   "outputs": [
    {
     "data": {
      "image/png": "[encoded data removed]",
      "text/plain": [
       "<Figure size 640x480 with 1 Axes>"
      ]
     },
     "metadata": {},
     "output_type": "display_data"
    }
   ],
   "source": [
    "# Create a blank plot.\n",
    "fig, ax = plt.subplots()\n",
    "\n",
    "# Create a bar chart.\n",
    "ax.bar([0, 1], [1000 - heads, heads])\n",
    "\n",
    "# Add x labels.\n",
    "ax.set_xticks([0, 1])\n",
    "\n",
    "# Add title.\n",
    "ax.set_title('Flipping A Coin A 1000 Times')\n",
    "\n",
    "# Add y label.\n",
    "ax.set_xlabel('No heads')\n",
    "ax.set_ylabel('Count')\n",
    "\n",
    "# Show.\n",
    "plt.show();"
   ]
  },
  {
   "cell_type": "code",
   "execution_count": 24,
   "metadata": {},
   "outputs": [
    {
     "data": {
      "text/plain": [
       "array([0, 1, 1, 0, 1, 2, 1, 0, 1, 0, 2, 2, 1, 0, 0, 0, 1, 2, 0, 1, 0, 1,\n",
       "       1, 1, 0, 1, 0, 2, 1, 1, 0, 1, 0, 1, 2, 1, 1, 2, 2, 1, 0, 1, 2, 2,\n",
       "       0, 1, 1, 1, 0, 0, 0, 1, 0, 1, 1, 2, 2, 0, 2, 1, 1, 1, 0, 2, 2, 1,\n",
       "       1, 0, 1, 1, 0, 1, 1, 1, 2, 1, 0, 0, 2, 2, 2, 0, 1, 2, 2, 1, 1, 1,\n",
       "       1, 1, 1, 1, 1, 0, 1, 1, 2, 0, 2, 1, 1, 1, 2, 1, 0, 2, 0, 1, 1, 1,\n",
       "       1, 2, 1, 1, 2, 1, 2, 1, 1, 1, 2, 2, 2, 0, 1, 0, 2, 1, 2, 1, 1, 2,\n",
       "       0, 2, 1, 2, 1, 1, 1, 1, 0, 2, 1, 2, 1, 0, 0, 0, 2, 1, 0, 1, 1, 1,\n",
       "       0, 1, 1, 0, 1, 0, 1, 0, 2, 0, 1, 1, 1, 2, 1, 1, 0, 2, 1, 0, 1, 0,\n",
       "       1, 2, 0, 1, 1, 2, 2, 2, 2, 1, 2, 1, 1, 1, 1, 2, 2, 0, 0, 1, 1, 2,\n",
       "       1, 0, 1, 1, 2, 1, 1, 1, 1, 0, 0, 1, 0, 0, 1, 1, 1, 1, 1, 0, 0, 2,\n",
       "       0, 0, 1, 2, 0, 1, 1, 1, 0, 2, 2, 2, 1, 1, 0, 2, 2, 1, 0, 1, 0, 0,\n",
       "       1, 0, 1, 1, 0, 2, 1, 1, 2, 0, 2, 1, 1, 1, 2, 1, 1, 2, 1, 1, 1, 2,\n",
       "       1, 0, 1, 1, 1, 1, 0, 1, 1, 1, 1, 0, 1, 0, 1, 1, 2, 2, 1, 0, 0, 0,\n",
       "       1, 1, 1, 1, 0, 1, 1, 1, 2, 1, 1, 2, 1, 1, 1, 2, 1, 1, 1, 1, 1, 0,\n",
       "       2, 1, 1, 2, 2, 2, 0, 2, 1, 1, 0, 1, 1, 1, 2, 1, 0, 1, 1, 2, 1, 2,\n",
       "       1, 1, 1, 2, 1, 1, 2, 2, 1, 1, 1, 1, 1, 0, 1, 1, 1, 2, 1, 0, 1, 2,\n",
       "       1, 2, 1, 2, 1, 2, 0, 2, 1, 1, 1, 1, 1, 1, 2, 1, 2, 2, 1, 0, 0, 2,\n",
       "       1, 1, 1, 2, 1, 1, 2, 1, 2, 1, 2, 0, 1, 1, 2, 2, 1, 0, 2, 1, 0, 1,\n",
       "       2, 2, 1, 1, 2, 2, 1, 1, 0, 1, 2, 1, 1, 0, 0, 2, 1, 0, 0, 0, 1, 1,\n",
       "       0, 1, 1, 1, 1, 1, 1, 1, 1, 1, 2, 2, 1, 1, 0, 1, 1, 0, 1, 1, 1, 0,\n",
       "       1, 2, 1, 2, 2, 1, 2, 1, 1, 1, 1, 2, 1, 1, 1, 2, 1, 1, 1, 1, 1, 1,\n",
       "       2, 0, 1, 0, 1, 0, 1, 0, 1, 1, 1, 0, 2, 2, 0, 0, 0, 1, 1, 0, 2, 1,\n",
       "       1, 1, 1, 2, 1, 1, 2, 0, 0, 1, 0, 1, 1, 1, 1, 0, 1, 2, 1, 2, 0, 0,\n",
       "       1, 1, 0, 1, 2, 0, 1, 1, 1, 1, 1, 1, 0, 1, 1, 2, 1, 2, 1, 0, 1, 1,\n",
       "       2, 1, 1, 0, 1, 1, 1, 1, 0, 2, 1, 0, 0, 1, 0, 0, 0, 1, 0, 1, 0, 0,\n",
       "       1, 2, 0, 2, 0, 0, 2, 1, 0, 1, 2, 1, 1, 1, 0, 0, 2, 0, 2, 0, 0, 1,\n",
       "       1, 1, 0, 0, 0, 1, 1, 2, 1, 1, 1, 1, 1, 0, 1, 1, 1, 2, 2, 0, 1, 1,\n",
       "       2, 1, 0, 1, 2, 0, 2, 2, 0, 0, 0, 1, 0, 1, 1, 0, 0, 1, 0, 0, 1, 2,\n",
       "       0, 2, 1, 2, 1, 0, 1, 1, 2, 1, 1, 2, 1, 1, 2, 0, 0, 1, 1, 2, 0, 1,\n",
       "       1, 1, 1, 0, 1, 1, 0, 1, 1, 0, 2, 0, 2, 1, 2, 2, 2, 0, 2, 0, 1, 2,\n",
       "       2, 2, 2, 0, 0, 0, 1, 1, 1, 1, 2, 0, 0, 0, 0, 2, 1, 1, 1, 0, 1, 1,\n",
       "       1, 2, 1, 0, 0, 2, 0, 2, 2, 1, 2, 0, 1, 1, 2, 2, 1, 2, 1, 0, 2, 1,\n",
       "       0, 0, 1, 1, 1, 2, 0, 1, 1, 0, 0, 1, 2, 1, 1, 0, 1, 0, 1, 1, 0, 1,\n",
       "       0, 1, 1, 2, 1, 1, 1, 2, 1, 0, 1, 2, 1, 0, 0, 1, 2, 0, 2, 1, 1, 1,\n",
       "       0, 2, 2, 0, 2, 2, 1, 2, 1, 0, 1, 1, 1, 1, 1, 1, 1, 1, 1, 1, 0, 1,\n",
       "       0, 2, 1, 0, 1, 1, 1, 1, 2, 1, 1, 1, 1, 0, 1, 0, 1, 0, 0, 1, 0, 0,\n",
       "       1, 2, 1, 0, 2, 1, 1, 1, 1, 1, 2, 2, 1, 1, 1, 2, 2, 1, 1, 1, 0, 1,\n",
       "       1, 0, 1, 0, 2, 2, 1, 1, 0, 2, 2, 0, 1, 0, 1, 0, 2, 1, 2, 0, 2, 1,\n",
       "       1, 0, 0, 2, 1, 2, 1, 1, 0, 1, 1, 2, 0, 1, 0, 1, 2, 2, 0, 0, 2, 1,\n",
       "       1, 1, 1, 1, 1, 1, 2, 0, 2, 0, 1, 1, 1, 1, 0, 2, 1, 2, 1, 2, 1, 0,\n",
       "       1, 0, 2, 2, 1, 0, 1, 1, 2, 1, 2, 0, 1, 2, 1, 2, 2, 1, 2, 2, 1, 2,\n",
       "       1, 1, 0, 2, 1, 1, 2, 1, 0, 2, 1, 2, 0, 0, 0, 0, 1, 1, 2, 1, 0, 1,\n",
       "       2, 1, 1, 1, 1, 1, 1, 1, 2, 1, 2, 1, 2, 1, 1, 2, 1, 0, 0, 2, 0, 0,\n",
       "       1, 1, 1, 1, 1, 1, 2, 1, 1, 1, 1, 1, 1, 2, 0, 1, 2, 1, 1, 0, 2, 1,\n",
       "       2, 2, 2, 1, 1, 1, 1, 2, 1, 1, 1, 1, 1, 1, 1, 1, 1, 0, 0, 1, 2, 0,\n",
       "       2, 1, 1, 2, 2, 1, 0, 1, 2, 1])"
      ]
     },
     "execution_count": 24,
     "metadata": {},
     "output_type": "execute_result"
    }
   ],
   "source": [
    "# Flip two coins several times.\n",
    "twoflips = np.random.binomial(2,0.5,1000)# 1000 flips\n",
    "\n",
    "# Show.\n",
    "twoflips"
   ]
  },
  {
   "cell_type": "code",
   "execution_count": 25,
   "metadata": {},
   "outputs": [
    {
     "data": {
      "text/plain": [
       "(array([0, 1, 2]), array([239, 523, 238]))"
      ]
     },
     "execution_count": 25,
     "metadata": {},
     "output_type": "execute_result"
    }
   ],
   "source": [
    "# Count the number of times each value occurs.\n",
    "uniques, counts = np.unique(twoflips, return_counts=True)\n",
    "\n",
    "# Show.\n",
    "uniques, counts"
   ]
  },
  {
   "cell_type": "code",
   "execution_count": 26,
   "metadata": {},
   "outputs": [
    {
     "data": {
      "image/png": "[encoded data removed]",
      "text/plain": [
       "<Figure size 640x480 with 1 Axes>"
      ]
     },
     "metadata": {},
     "output_type": "display_data"
    }
   ],
   "source": [
    "# Create a blank plot.\n",
    "fig, ax = plt.subplots()\n",
    "\n",
    "# Create a bar chart.\n",
    "ax.bar(uniques, counts)\n",
    "\n",
    "# Add x labels.\n",
    "ax.set_xticks([0, 1, 2])\n",
    "\n",
    "# Add title.\n",
    "ax.set_title('Flipping two coins A 1000 Times')\n",
    "\n",
    "# Add y label.\n",
    "ax.set_xlabel('No heads')\n",
    "ax.set_ylabel('Count')\n",
    "\n",
    "# Show.\n",
    "plt.show();"
   ]
  },
  {
   "cell_type": "code",
   "execution_count": 27,
   "metadata": {},
   "outputs": [
    {
     "data": {
      "text/plain": [
       "array([[1, 0],\n",
       "       [1, 1],\n",
       "       [0, 1],\n",
       "       ...,\n",
       "       [0, 0],\n",
       "       [0, 1],\n",
       "       [0, 1]])"
      ]
     },
     "execution_count": 27,
     "metadata": {},
     "output_type": "execute_result"
    }
   ],
   "source": [
    "# Flip two coins several times keeping the individual results.\n",
    "twoflipsind = np.random.binomial(1,0.5, (1000, 2))\n",
    "\n",
    "# Show.\n",
    "twoflipsind"
   ]
  },
  {
   "cell_type": "code",
   "execution_count": 28,
   "metadata": {},
   "outputs": [
    {
     "data": {
      "text/plain": [
       "(array([[0, 0],\n",
       "        [0, 1],\n",
       "        [1, 0],\n",
       "        [1, 1]]),\n",
       " array([253, 251, 250, 246]))"
      ]
     },
     "execution_count": 28,
     "metadata": {},
     "output_type": "execute_result"
    }
   ],
   "source": [
    "# Count the number of times each value occurs.\n",
    "np.unique(twoflipsind, return_counts=True, axis =0)"
   ]
  },
  {
   "cell_type": "code",
   "execution_count": 29,
   "metadata": {},
   "outputs": [
    {
     "data": {
      "text/plain": [
       "(array([30, 32, 33, 34, 35, 36, 37, 38, 39, 40, 41, 42, 43, 44, 45, 46, 47,\n",
       "        48, 49, 50, 51, 52, 53, 54, 55, 56, 57, 58, 59, 60, 61, 62, 63, 64,\n",
       "        65, 66, 67, 68]),\n",
       " array([  1,   1,   2,   9,   9,  16,  26,  40,  81, 125, 176, 213, 274,\n",
       "        388, 483, 611, 663, 722, 788, 812, 762, 728, 641, 574, 443, 426,\n",
       "        295, 242, 166, 111,  77,  41,  20,  19,   7,   5,   2,   1]))"
      ]
     },
     "execution_count": 29,
     "metadata": {},
     "output_type": "execute_result"
    }
   ],
   "source": [
    "# Number of coins to flip.\n",
    "n = 100\n",
    "\n",
    "# Number of times to do it.\n",
    "k = 100 * n\n",
    "\n",
    "# Flip two coins several times.\n",
    "nflips = np.random.binomial(n, 0.5, k)\n",
    "\n",
    "# Count the number of times each value occurs.\n",
    "uniques, counts = np.unique(nflips, return_counts=True)\n",
    "\n",
    "# Show.\n",
    "uniques, counts"
   ]
  },
  {
   "cell_type": "code",
   "execution_count": 30,
   "metadata": {},
   "outputs": [
    {
     "data": {
      "image/png": "[encoded data removed]",
      "text/plain": [
       "<Figure size 1200x500 with 1 Axes>"
      ]
     },
     "metadata": {},
     "output_type": "display_data"
    }
   ],
   "source": [
    "# Create a blank plot.\n",
    "fig, ax = plt.subplots(figsize = (12, 5))\n",
    "\n",
    "# Create a bar chart.\n",
    "ax.bar(uniques, counts)\n",
    "\n",
    "# Add x labels.\n",
    "ax.set_xticks(uniques)\n",
    "\n",
    "# Add title.\n",
    "ax.set_title(f'Flipping {n} coins {k} times')\n",
    "\n",
    "# Add y label.\n",
    "ax.set_xlabel('No heads')\n",
    "ax.set_ylabel('Count')\n",
    "\n",
    "# Show.\n",
    "plt.show();"
   ]
  },
  {
   "cell_type": "markdown",
   "metadata": {},
   "source": [
    "### Probability Density Function\n",
    "\n",
    "$ f(x) = \\frac{1}{\\sqrt{2 \\pi \\sigma^2}} e^{-\\frac{(x - \\mu)^2}{2 \\sigma^2}}$\n",
    "\n",
    "https://en.wikipedia.org/wiki/Normal_distribution"
   ]
  },
  {
   "cell_type": "code",
   "execution_count": 31,
   "metadata": {},
   "outputs": [],
   "source": [
    "def f(x, mu=0.0, sigma=1.0):\n",
    "  # The normalisation constant.\n",
    "  norm = 1.0 / np.sqrt(2.0 * np.pi * sigma**2)\n",
    "  \n",
    "  # f(x)\n",
    "  return norm * np.exp(-(x - mu)**2 / (2.0 * sigma**2))"
   ]
  },
  {
   "cell_type": "code",
   "execution_count": 32,
   "metadata": {},
   "outputs": [
    {
     "data": {
      "text/plain": [
       "0.3989422804014327"
      ]
     },
     "execution_count": 32,
     "metadata": {},
     "output_type": "execute_result"
    }
   ],
   "source": [
    "# Test the function.\n",
    "f(0.0) "
   ]
  },
  {
   "cell_type": "code",
   "execution_count": 33,
   "metadata": {},
   "outputs": [
    {
     "data": {
      "text/plain": [
       "(array([-5.  , -4.99, -4.98, ...,  4.98,  4.99,  5.  ]),\n",
       " array([1.48671951e-06, 1.56286711e-06, 1.64275059e-06, ...,\n",
       "        1.64275059e-06, 1.56286711e-06, 1.48671951e-06]))"
      ]
     },
     "execution_count": 33,
     "metadata": {},
     "output_type": "execute_result"
    }
   ],
   "source": [
    "# Create an x range.\n",
    "x = np.linspace(-5, 5, 1001)\n",
    "\n",
    "# Get an y values.\n",
    "y = f(x)\n",
    "\n",
    "# Show.\n",
    "x, y"
   ]
  },
  {
   "cell_type": "code",
   "execution_count": 34,
   "metadata": {},
   "outputs": [
    {
     "data": {
      "image/png": "[encoded data removed]",
      "text/plain": [
       "<Figure size 640x480 with 1 Axes>"
      ]
     },
     "metadata": {},
     "output_type": "display_data"
    }
   ],
   "source": [
    "# Create an empty plot.\n",
    "fig, ax = plt.subplots()\n",
    "\n",
    "# Plot the function.\n",
    "ax.plot(x, y);"
   ]
  },
  {
   "cell_type": "code",
   "execution_count": 35,
   "metadata": {},
   "outputs": [
    {
     "data": {
      "image/png": "[encoded data removed]",
      "text/plain": [
       "<Figure size 1200x500 with 1 Axes>"
      ]
     },
     "metadata": {},
     "output_type": "display_data"
    }
   ],
   "source": [
    "# Number of coins to flip.\n",
    "n = 100\n",
    "\n",
    "# Number of times to do it.\n",
    "k = 10000 * n\n",
    "\n",
    "# Probability of heads.\n",
    "p = 0.5\n",
    "\n",
    "# Flip two coins several times.\n",
    "nflips = np.random.binomial(n, p, k)\n",
    "\n",
    "# Count the number of times each value occurs.\n",
    "uniques, counts = np.unique(nflips, return_counts=True)\n",
    "\n",
    "# Create a blank plot.\n",
    "fig, ax = plt.subplots(figsize=(12, 5))\n",
    "\n",
    "# Create a bar chart.\n",
    "ax.bar(uniques, counts / k)\n",
    "\n",
    "# Create an x range.\n",
    "x = np.linspace(25, 75, 1001)\n",
    "\n",
    "# Get y values.\n",
    "y = f(x, mu=n*p, sigma=np.sqrt(n * p * (1 - p)))\n",
    "\n",
    "# Plot the function.\n",
    "ax.plot(x, y, 'r-')\n",
    "\n",
    "# Set x ticks.\n",
    "ax.set_xticks(uniques)\n",
    "\n",
    "# Add title.\n",
    "ax.set_title(f'Flipping {n} coins {k} times')\n",
    "\n",
    "# Add axis label.\n",
    "ax.set_xlabel('No heads')\n",
    "ax.set_ylabel('Proportion');"
   ]
  },
  {
   "cell_type": "markdown",
   "metadata": {},
   "source": [
    "### Plots"
   ]
  },
  {
   "cell_type": "markdown",
   "metadata": {},
   "source": [
    "https://numpy.org/doc/stable/reference/random/generated/numpy.random.normal.html#numpy-random-normal"
   ]
  },
  {
   "cell_type": "code",
   "execution_count": 36,
   "metadata": {},
   "outputs": [
    {
     "data": {
      "text/plain": [
       "array([-1.21682356, -0.23523776, -1.23451115, -0.38844442,  0.62632142,\n",
       "        0.0052328 ])"
      ]
     },
     "execution_count": 36,
     "metadata": {},
     "output_type": "execute_result"
    }
   ],
   "source": [
    "# Generate normal random sample.\n",
    "data = np.random.normal(size=6)\n",
    "\n",
    "# Show.\n",
    "data"
   ]
  },
  {
   "cell_type": "code",
   "execution_count": 37,
   "metadata": {},
   "outputs": [
    {
     "data": {
      "image/png": "[encoded data removed]",
      "text/plain": [
       "<Figure size 640x480 with 1 Axes>"
      ]
     },
     "metadata": {},
     "output_type": "display_data"
    }
   ],
   "source": [
    "# Create a blank plot.\n",
    "fig, ax = plt.subplots()\n",
    "\n",
    "# Count unique values.\n",
    "counts, uniques = np.unique(data, return_counts=True)\n",
    "\n",
    "# Create a bar chart.\n",
    "ax.bar(counts,uniques, width=0.05);"
   ]
  },
  {
   "cell_type": "code",
   "execution_count": 38,
   "metadata": {},
   "outputs": [
    {
     "data": {
      "text/plain": [
       "array([ 1.02231702, -1.08205562,  0.52227015,  0.48494979,  0.12748764,\n",
       "       -0.37288936,  1.38590902, -0.78571289, -0.32475578,  0.5859946 ,\n",
       "        0.96619347,  0.39229925, -0.76026368,  0.73708751,  0.48081495,\n",
       "       -0.47043714, -1.18013528,  1.53216672, -0.12283342,  1.81564798,\n",
       "        0.56932762, -2.11842066, -2.15241628,  0.36971033,  0.26901772,\n",
       "        0.68039342,  0.09500953,  0.15623441,  0.39488383,  0.77604118,\n",
       "        0.50338209,  1.34556898,  2.08380631,  1.59115771, -1.66299668,\n",
       "       -1.07526328, -1.65283992, -0.50297915, -0.34197609, -0.09647121,\n",
       "        0.28731065,  0.30854498,  0.07229102, -0.61191696, -0.3322013 ,\n",
       "        0.9007495 ,  0.54466671,  1.59785967,  0.50825586,  0.52641042,\n",
       "       -0.64403147,  0.80950171, -0.54647987, -0.70271896, -1.51499549,\n",
       "       -0.97259136, -0.19662489,  0.31755987, -1.67067822, -1.07030691,\n",
       "        0.45820177, -0.37106997, -0.47275029, -0.83168801, -1.0741578 ,\n",
       "        0.12836131, -0.93173392,  0.57795848, -0.70392732,  0.45096483,\n",
       "        0.21317574,  0.04646081,  1.0988895 ,  1.35721817,  0.27390918,\n",
       "       -1.36146207,  1.4811885 , -1.43963757,  1.47142817,  0.70458332,\n",
       "        0.24512464, -0.31619803, -1.16759439,  0.96788194,  0.69610429,\n",
       "       -0.21827188, -2.05816133,  0.55358517, -0.48720463,  1.10995131,\n",
       "        1.34338344, -2.50308705,  1.39913078,  0.73980155,  1.09650911,\n",
       "        0.91990947, -0.36646132,  0.40928478, -2.31806011, -0.31745028])"
      ]
     },
     "execution_count": 38,
     "metadata": {},
     "output_type": "execute_result"
    }
   ],
   "source": [
    "# Generate normal random sample.\n",
    "data = np.random.normal(size=100)\n",
    "\n",
    "# Show.\n",
    "data"
   ]
  },
  {
   "cell_type": "markdown",
   "metadata": {},
   "source": [
    "https://matplotlib.org/stable/api/_as_gen/matplotlib.pyplot.hist.html#matplotlib-pyplot-hist\n",
    "\n",
    "https://numpy.org/doc/stable/reference/generated/numpy.histogram.html#numpy-histogram"
   ]
  },
  {
   "cell_type": "code",
   "execution_count": 39,
   "metadata": {},
   "outputs": [
    {
     "data": {
      "image/png": "[encoded data removed]",
      "text/plain": [
       "<Figure size 640x480 with 1 Axes>"
      ]
     },
     "metadata": {},
     "output_type": "display_data"
    }
   ],
   "source": [
    "# Create a blank plot.\n",
    "fig, ax = plt.subplots()\n",
    "\n",
    "# Create a bar chart.\n",
    "ax.hist(data, edgecolor='black', density=True, bins=np.linspace(-4,4,31));"
   ]
  },
  {
   "cell_type": "markdown",
   "metadata": {},
   "source": [
    "https://www.statsmodels.org/dev/generated/statsmodels.graphics.gofplots.qqplot.html#statsmodels-graphics-gofplots-qqplot"
   ]
  },
  {
   "cell_type": "code",
   "execution_count": 42,
   "metadata": {},
   "outputs": [
    {
     "data": {
      "image/png": "[encoded data removed]",
      "text/plain": [
       "<Figure size 640x480 with 1 Axes>"
      ]
     },
     "metadata": {},
     "output_type": "display_data"
    }
   ],
   "source": [
    "# Create an emptyplot.\n",
    "fig, ax = plt.subplots()\n",
    "\n",
    "# Create a qq plot.\n",
    "stats.probplot(data, dist='norm', plot=ax);"
   ]
  },
  {
   "cell_type": "markdown",
   "metadata": {},
   "source": [
    "### Shapiro-Wilk Test"
   ]
  },
  {
   "cell_type": "markdown",
   "metadata": {},
   "source": [
    "https://docs.scipy.org/doc/scipy/reference/generated/scipy.stats.shapiro.html#shapiro"
   ]
  },
  {
   "cell_type": "code",
   "execution_count": 40,
   "metadata": {},
   "outputs": [
    {
     "data": {
      "text/plain": [
       "ShapiroResult(statistic=0.978358567980772, pvalue=0.09894137880100239)"
      ]
     },
     "execution_count": 40,
     "metadata": {},
     "output_type": "execute_result"
    }
   ],
   "source": [
    "# Perform the Shapiro Wilk test.\n",
    "stats.shapiro(data)"
   ]
  },
  {
   "cell_type": "markdown",
   "metadata": {},
   "source": [
    "### Integration"
   ]
  },
  {
   "cell_type": "markdown",
   "metadata": {},
   "source": [
    "https://en.wikipedia.org/wiki/97.5th_percentile_point"
   ]
  },
  {
   "cell_type": "code",
   "execution_count": 45,
   "metadata": {},
   "outputs": [
    {
     "data": {
      "image/png": "[encoded data removed]",
      "text/plain": [
       "<Figure size 640x480 with 1 Axes>"
      ]
     },
     "metadata": {},
     "output_type": "display_data"
    }
   ],
   "source": [
    "# Adapted from https://stackoverflow.com/questions/10138085/how-to-plot-normal-distribution\n",
    "\n",
    "# Create a blank plot.\n",
    "fig, ax = plt.subplots()\n",
    "\n",
    "# X values.\n",
    "x = np.linspace(-4.0,4.0, 1000)\n",
    "\n",
    "# Plot the normal distribution.\n",
    "plt.plot(x, stats.norm.pdf(x))\n",
    "\n",
    "plt.fill_between(x, stats.norm.pdf(x), where=(x< -1.96) | (x>1.96), color='red', alpha=0.5);"
   ]
  },
  {
   "cell_type": "markdown",
   "metadata": {},
   "source": [
    "### Central Limit Theorem"
   ]
  },
  {
   "cell_type": "markdown",
   "metadata": {},
   "source": [
    "# Task 3: t-Test Calculation"
   ]
  },
  {
   "cell_type": "markdown",
   "metadata": {},
   "source": [
    "## $t$-Tests"
   ]
  },
  {
   "cell_type": "markdown",
   "metadata": {},
   "source": [
    "Consider the following dataset containing resting heart rates for patients before and after embarking on a two-week exercise program.\n",
    "\n",
    "| Patient ID | 0  | 1  | 2  | 3  | 4  | 5  | 6  | 7  | 8  | 9  |\n",
    "|------------|----|----|----|----|----|----|----|----|----|----|\n",
    "| Before     | 63 | 68 | 70 | 64 | 74 | 67 | 70 | 57 | 66 | 65 |\n",
    "| After      | 64 | 64 | 68 | 64 | 73 | 70 | 72 | 54 | 61 | 63 |\n",
    "\n",
    "\n",
    "\n",
    "\n",
    "\n",
    "Calculate the t-statistic based on this data set, using Python. Compare it to the value given by scipy.stats. Explain your work and list any sources used."
   ]
  },
  {
   "cell_type": "code",
   "execution_count": 27,
   "metadata": {},
   "outputs": [],
   "source": [
    "# numerical arrays.\n",
    "import numpy as np\n",
    "\n",
    "# Statistical functions.\n",
    "import scipy.stats as stats\n",
    "\n",
    "# Data frames.\n",
    "import pandas as pd\n",
    "\n",
    "# Plotting.\n",
    "import matplotlib.pyplot as plt\n",
    "\n",
    "# Statistical plots.\n",
    "import seaborn as sns"
   ]
  },
  {
   "cell_type": "markdown",
   "metadata": {},
   "source": [
    "### Normal Data\n",
    "\n",
    "[numpy.random.normal](https://numpy.org/doc/2.0/reference/random/generated/numpy.random.normal.html#numpy-random-normal)"
   ]
  },
  {
   "cell_type": "code",
   "execution_count": 31,
   "metadata": {},
   "outputs": [
    {
     "data": {
      "text/plain": [
       "(array([0.05344398, 0.0900167 , 0.0797555 , 0.07151695, 0.05935936,\n",
       "        0.08237774, 0.0621308 , 0.0842447 , 0.09160849, 0.09900456,\n",
       "        0.08109064, 0.06787061, 0.08858018, 0.10625034, 0.06673594,\n",
       "        0.07547446, 0.05877287, 0.06528772, 0.06625646, 0.0839753 ,\n",
       "        0.12033442, 0.05685952, 0.06885332, 0.08209056, 0.04781198,\n",
       "        0.05655087, 0.04007301, 0.07659109, 0.0700477 , 0.09023124]),\n",
       " array([-0.00757217,  0.01197211,  0.0099824 ,  0.03494721, -0.01205991,\n",
       "         0.05574109,  0.03855291,  0.06147646,  0.04677601,  0.02196961,\n",
       "        -0.00199197,  0.02454741, -0.00845684,  0.04700789,  0.0389635 ,\n",
       "         0.01581549,  0.05591088,  0.02771282,  0.01371575,  0.02167176,\n",
       "         0.03092788,  0.04525691,  0.04057993,  0.01940318,  0.02452262,\n",
       "         0.03186676,  0.02654032,  0.0493869 ,  0.04925373,  0.01944557]))"
      ]
     },
     "execution_count": 31,
     "metadata": {},
     "output_type": "execute_result"
    }
   ],
   "source": [
    "# Group A.\n",
    "group_a = np.random.normal(0.07, 0.02, 30)\n",
    "\n",
    "# Group B.\n",
    "group_b = np.random.normal(0.03, 0.02, 30)\n",
    "\n",
    "group_a, group_b"
   ]
  },
  {
   "cell_type": "code",
   "execution_count": 32,
   "metadata": {},
   "outputs": [
    {
     "data": {
      "image/png": "[encoded data removed]",
      "text/plain": [
       "<Figure size 1000x600 with 1 Axes>"
      ]
     },
     "metadata": {},
     "output_type": "display_data"
    }
   ],
   "source": [
    "# Create an empty dataframe.\n",
    "fig, ax = plt.subplots(figsize= (10, 6))\n",
    "\n",
    "# Plot the histogram for Group A.\n",
    "ax.hist(group_a, bins=range(10), alpha=0.6, color='b', label=\"Group A\")\n",
    "\n",
    "\n",
    "# Plot the histogram for Group B with a different color.\n",
    "ax.hist(group_b, bins=range(10), alpha=0.1, color='r', label=\"Group B\")\n",
    "\n",
    "# Show the plot.\n",
    "plt.show()"
   ]
  },
  {
   "cell_type": "code",
   "execution_count": 34,
   "metadata": {},
   "outputs": [
    {
     "data": {
      "image/png": "[encoded data removed]",
      "text/plain": [
       "<Figure size 640x480 with 1 Axes>"
      ]
     },
     "metadata": {},
     "output_type": "display_data"
    }
   ],
   "source": [
    "# Create a stripplot.\n",
    "sns.stripplot(data=[group_a, group_b]);"
   ]
  },
  {
   "cell_type": "code",
   "execution_count": 36,
   "metadata": {},
   "outputs": [
    {
     "data": {
      "text/plain": [
       "<Axes: >"
      ]
     },
     "execution_count": 36,
     "metadata": {},
     "output_type": "execute_result"
    },
    {
     "data": {
      "image/png": "[encoded data removed]",
      "text/plain": [
       "<Figure size 640x480 with 1 Axes>"
      ]
     },
     "metadata": {},
     "output_type": "display_data"
    }
   ],
   "source": [
    "# Blox plot.\n",
    "sns.boxplot(data=[group_a, group_b])"
   ]
  },
  {
   "cell_type": "markdown",
   "metadata": {},
   "source": [
    "### Independent Samples $t$-Test\n",
    "\n",
    "[scipy.stats.ttest_ind](https://docs.scipy.org/doc/scipy/reference/generated/scipy.stats.ttest_ind.html#ttest-ind)\n",
    "\n",
    "**Null Hypothesis**: the population means are equal "
   ]
  },
  {
   "cell_type": "code",
   "execution_count": 38,
   "metadata": {},
   "outputs": [
    {
     "data": {
      "text/plain": [
       "TtestResult(statistic=9.720176534251586, pvalue=8.790975057238621e-14, df=58.0)"
      ]
     },
     "execution_count": 38,
     "metadata": {},
     "output_type": "execute_result"
    }
   ],
   "source": [
    "# Perform a t-test.\n",
    "stats.ttest_ind(group_a, group_b)"
   ]
  },
  {
   "cell_type": "markdown",
   "metadata": {},
   "source": [
    "# Task 4: ANOVA"
   ]
  },
  {
   "cell_type": "markdown",
   "metadata": {},
   "source": []
  }
 ],
 "metadata": {
  "kernelspec": {
   "display_name": "base",
   "language": "python",
   "name": "python3"
  },
  "language_info": {
   "codemirror_mode": {
    "name": "ipython",
    "version": 3
   },
   "file_extension": ".py",
   "mimetype": "text/x-python",
   "name": "python",
   "nbconvert_exporter": "python",
   "pygments_lexer": "ipython3",
   "version": "3.12.4"
  }
 },
 "nbformat": 4,
 "nbformat_minor": 2
}
